{
 "metadata": {
  "language_info": {
   "codemirror_mode": {
    "name": "ipython",
    "version": 3
   },
   "file_extension": ".py",
   "mimetype": "text/x-python",
   "name": "python",
   "nbconvert_exporter": "python",
   "pygments_lexer": "ipython3",
   "version": "3.9.4"
  },
  "orig_nbformat": 2,
  "kernelspec": {
   "name": "python3",
   "display_name": "Python 3.9.4 64-bit"
  },
  "metadata": {
   "interpreter": {
    "hash": "f0ddf3bf13ebbae7e4997e51a0e26f1385075f78bcaf8066a56efa571a489e41"
   }
  },
  "interpreter": {
   "hash": "f0ddf3bf13ebbae7e4997e51a0e26f1385075f78bcaf8066a56efa571a489e41"
  }
 },
 "nbformat": 4,
 "nbformat_minor": 2,
 "cells": [
  {
   "source": [
    "# Predicción de Tratamientos químicos de Integridad & Corrosión para pozos "
   ],
   "cell_type": "markdown",
   "metadata": {}
  },
  {
   "source": [
    "<img src=\"files/Artificial-neural-network-architecture.png\">"
   ],
   "cell_type": "markdown",
   "metadata": {}
  },
  {
   "source": [
    "Importación de los paquetes a utilizar en este cuaderno. Tener en cuenta que los mismos deben estar previamente instalados en el global/virtual environment."
   ],
   "cell_type": "markdown",
   "metadata": {}
  },
  {
   "cell_type": "code",
   "execution_count": 835,
   "metadata": {},
   "outputs": [],
   "source": [
    "import numpy as np \n",
    "import pandas as pd\n",
    "import matplotlib as plot\n",
    "import seaborn as sns\n",
    "import os"
   ]
  },
  {
   "source": [
    "Lectura del archivo excel que contiene los datos de recomendaciones. "
   ],
   "cell_type": "markdown",
   "metadata": {}
  },
  {
   "cell_type": "code",
   "execution_count": 836,
   "metadata": {},
   "outputs": [
    {
     "output_type": "execute_result",
     "data": {
      "text/plain": [
       "   Número de protocolo  Responsable               Operadora  Pozo  Batería  \\\n",
       "0                    0  Ingeniero 1  Operadora 1 Santa Cruz     0        0   \n",
       "1                    1  Ingeniero 2      Operadora 1 Chubut     1        1   \n",
       "2                    2  Ingeniero 2      Operadora 1 Chubut     2        2   \n",
       "3                    3  Ingeniero 2      Operadora 1 Chubut     3        3   \n",
       "4                    4  Ingeniero 2      Operadora 1 Chubut     4        4   \n",
       "\n",
       "  Yacimiento                Base Fecha de emisión  SLA  Prod Bruta  ...  \\\n",
       "0   El Chola           Las Heras       2020-02-27  BES        60.0  ...   \n",
       "1  El Trébol  Comodoro Rivadavia       2020-10-27  AIB        30.0  ...   \n",
       "2  El Trébol  Comodoro Rivadavia       2020-10-27  BES       222.0  ...   \n",
       "3  El Trébol  Comodoro Rivadavia       2020-10-28  AIB        23.0  ...   \n",
       "4  El Trébol  Comodoro Rivadavia       2020-10-28  AIB        27.0  ...   \n",
       "\n",
       "   Costo [U$S/mes] TQ Propuesto 2  PQ Propuesto 3 Modalidad PQ Propuesto 3  \\\n",
       "0                           324.0             NaN                      NaN   \n",
       "1                             NaN             NaN                      NaN   \n",
       "2                           670.0             NaN                      NaN   \n",
       "3                             NaN             NaN                      NaN   \n",
       "4                             NaN             NaN                      NaN   \n",
       "\n",
       "  Punto Inyección PQ Propuesto 3  Tasa Inyección (l/d)  PQ Propuesto 3   \\\n",
       "0                            NaN                                    NaN   \n",
       "1                            NaN                                    NaN   \n",
       "2                            NaN                                    NaN   \n",
       "3                            NaN                                    NaN   \n",
       "4                            NaN                                    NaN   \n",
       "\n",
       "   Volumen Batch PQ Propuesto 3 (l)  Frecuencia batcheo PQ Propuesto 3  \\\n",
       "0                               NaN                                NaN   \n",
       "1                               NaN                                NaN   \n",
       "2                               NaN                                NaN   \n",
       "3                               NaN                                NaN   \n",
       "4                               NaN                                NaN   \n",
       "\n",
       "   Concentración [ppmV] PQ Propuesto 3  Precio del PQ [U$S/l] Propuesto 3  \\\n",
       "0                                  NaN                                NaN   \n",
       "1                                  NaN                                NaN   \n",
       "2                                  NaN                                NaN   \n",
       "3                                  NaN                                NaN   \n",
       "4                                  NaN                                NaN   \n",
       "\n",
       "   Costo [U$S/mes] TQ Propuesto 3  \n",
       "0                             NaN  \n",
       "1                             NaN  \n",
       "2                             NaN  \n",
       "3                             NaN  \n",
       "4                             NaN  \n",
       "\n",
       "[5 rows x 67 columns]"
      ],
      "text/html": "<div>\n<style scoped>\n    .dataframe tbody tr th:only-of-type {\n        vertical-align: middle;\n    }\n\n    .dataframe tbody tr th {\n        vertical-align: top;\n    }\n\n    .dataframe thead th {\n        text-align: right;\n    }\n</style>\n<table border=\"1\" class=\"dataframe\">\n  <thead>\n    <tr style=\"text-align: right;\">\n      <th></th>\n      <th>Número de protocolo</th>\n      <th>Responsable</th>\n      <th>Operadora</th>\n      <th>Pozo</th>\n      <th>Batería</th>\n      <th>Yacimiento</th>\n      <th>Base</th>\n      <th>Fecha de emisión</th>\n      <th>SLA</th>\n      <th>Prod Bruta</th>\n      <th>...</th>\n      <th>Costo [U$S/mes] TQ Propuesto 2</th>\n      <th>PQ Propuesto 3</th>\n      <th>Modalidad PQ Propuesto 3</th>\n      <th>Punto Inyección PQ Propuesto 3</th>\n      <th>Tasa Inyección (l/d)  PQ Propuesto 3</th>\n      <th>Volumen Batch PQ Propuesto 3 (l)</th>\n      <th>Frecuencia batcheo PQ Propuesto 3</th>\n      <th>Concentración [ppmV] PQ Propuesto 3</th>\n      <th>Precio del PQ [U$S/l] Propuesto 3</th>\n      <th>Costo [U$S/mes] TQ Propuesto 3</th>\n    </tr>\n  </thead>\n  <tbody>\n    <tr>\n      <th>0</th>\n      <td>0</td>\n      <td>Ingeniero 1</td>\n      <td>Operadora 1 Santa Cruz</td>\n      <td>0</td>\n      <td>0</td>\n      <td>El Chola</td>\n      <td>Las Heras</td>\n      <td>2020-02-27</td>\n      <td>BES</td>\n      <td>60.0</td>\n      <td>...</td>\n      <td>324.0</td>\n      <td>NaN</td>\n      <td>NaN</td>\n      <td>NaN</td>\n      <td>NaN</td>\n      <td>NaN</td>\n      <td>NaN</td>\n      <td>NaN</td>\n      <td>NaN</td>\n      <td>NaN</td>\n    </tr>\n    <tr>\n      <th>1</th>\n      <td>1</td>\n      <td>Ingeniero 2</td>\n      <td>Operadora 1 Chubut</td>\n      <td>1</td>\n      <td>1</td>\n      <td>El Trébol</td>\n      <td>Comodoro Rivadavia</td>\n      <td>2020-10-27</td>\n      <td>AIB</td>\n      <td>30.0</td>\n      <td>...</td>\n      <td>NaN</td>\n      <td>NaN</td>\n      <td>NaN</td>\n      <td>NaN</td>\n      <td>NaN</td>\n      <td>NaN</td>\n      <td>NaN</td>\n      <td>NaN</td>\n      <td>NaN</td>\n      <td>NaN</td>\n    </tr>\n    <tr>\n      <th>2</th>\n      <td>2</td>\n      <td>Ingeniero 2</td>\n      <td>Operadora 1 Chubut</td>\n      <td>2</td>\n      <td>2</td>\n      <td>El Trébol</td>\n      <td>Comodoro Rivadavia</td>\n      <td>2020-10-27</td>\n      <td>BES</td>\n      <td>222.0</td>\n      <td>...</td>\n      <td>670.0</td>\n      <td>NaN</td>\n      <td>NaN</td>\n      <td>NaN</td>\n      <td>NaN</td>\n      <td>NaN</td>\n      <td>NaN</td>\n      <td>NaN</td>\n      <td>NaN</td>\n      <td>NaN</td>\n    </tr>\n    <tr>\n      <th>3</th>\n      <td>3</td>\n      <td>Ingeniero 2</td>\n      <td>Operadora 1 Chubut</td>\n      <td>3</td>\n      <td>3</td>\n      <td>El Trébol</td>\n      <td>Comodoro Rivadavia</td>\n      <td>2020-10-28</td>\n      <td>AIB</td>\n      <td>23.0</td>\n      <td>...</td>\n      <td>NaN</td>\n      <td>NaN</td>\n      <td>NaN</td>\n      <td>NaN</td>\n      <td>NaN</td>\n      <td>NaN</td>\n      <td>NaN</td>\n      <td>NaN</td>\n      <td>NaN</td>\n      <td>NaN</td>\n    </tr>\n    <tr>\n      <th>4</th>\n      <td>4</td>\n      <td>Ingeniero 2</td>\n      <td>Operadora 1 Chubut</td>\n      <td>4</td>\n      <td>4</td>\n      <td>El Trébol</td>\n      <td>Comodoro Rivadavia</td>\n      <td>2020-10-28</td>\n      <td>AIB</td>\n      <td>27.0</td>\n      <td>...</td>\n      <td>NaN</td>\n      <td>NaN</td>\n      <td>NaN</td>\n      <td>NaN</td>\n      <td>NaN</td>\n      <td>NaN</td>\n      <td>NaN</td>\n      <td>NaN</td>\n      <td>NaN</td>\n      <td>NaN</td>\n    </tr>\n  </tbody>\n</table>\n<p>5 rows × 67 columns</p>\n</div>"
     },
     "metadata": {},
     "execution_count": 836
    }
   ],
   "source": [
    "df=pd.read_excel(os.path.join('Data', 'BD Autom Recomendaciones.xlsx'))\n",
    "df.head()"
   ]
  },
  {
   "cell_type": "code",
   "execution_count": 837,
   "metadata": {},
   "outputs": [
    {
     "output_type": "execute_result",
     "data": {
      "text/plain": [
       "       Número de protocolo        Pozo     Batería  Prod Bruta   Prod Neta  \\\n",
       "count           187.000000  187.000000  187.000000  187.000000  187.000000   \n",
       "mean             93.000000   93.000000   93.000000   83.375401    3.397241   \n",
       "std              54.126395   54.126395   54.126395   68.800550    6.322373   \n",
       "min               0.000000    0.000000    0.000000    2.000000    0.080000   \n",
       "25%              46.500000   46.500000   46.500000   30.000000    1.110000   \n",
       "50%              93.000000   93.000000   93.000000   65.000000    2.160000   \n",
       "75%             139.500000  139.500000  139.500000  125.000000    4.190000   \n",
       "max             186.000000  186.000000  186.000000  356.000000   82.100000   \n",
       "\n",
       "       Corte de agua (%)          SD          OT          CIP  \\\n",
       "count         185.000000  186.000000  186.000000   186.000000   \n",
       "mean           93.543345    0.953948    1.172203   255.699475   \n",
       "std            10.059187    0.633351    0.538564   244.094118   \n",
       "min            18.000000   -0.800000   -0.500000  -727.000000   \n",
       "25%            95.000000    0.528309    0.865301   110.033823   \n",
       "50%            96.500000    0.912174    1.200000   256.500000   \n",
       "75%            97.500000    1.400000    1.515422   373.785932   \n",
       "max            99.900000    2.519783    2.525622  1096.725139   \n",
       "\n",
       "       Corrosión según Fe+2  ...  Costo [U$S/mes] TQ Propuesto 1  \\\n",
       "count            185.000000  ...                      169.000000   \n",
       "mean               1.517122  ...                      503.650754   \n",
       "std                2.091522  ...                      262.280677   \n",
       "min                0.000000  ...                      102.900000   \n",
       "25%                0.300000  ...                      343.000000   \n",
       "50%                0.840000  ...                      432.000000   \n",
       "75%                1.702213  ...                      686.000000   \n",
       "max               13.871209  ...                     1664.000000   \n",
       "\n",
       "       Volumen Batch PQ Propuesto 2 (l)  Concentración [ppmV] PQ Propuesto 2  \\\n",
       "count                         60.000000                            39.000000   \n",
       "mean                         128.950000                            75.897436   \n",
       "std                           58.640076                            38.327395   \n",
       "min                           20.000000                            41.000000   \n",
       "25%                          100.000000                            54.500000   \n",
       "50%                          100.000000                            63.000000   \n",
       "75%                          200.000000                            78.000000   \n",
       "max                          200.000000                           226.000000   \n",
       "\n",
       "       Precio del PQ [U$S/l] Propuesto 2  Costo [U$S/mes] TQ Propuesto 2  \\\n",
       "count                          101.00000                      101.000000   \n",
       "mean                             3.45505                      561.917492   \n",
       "std                              0.48872                      224.360954   \n",
       "min                              2.07000                      145.500000   \n",
       "25%                              3.04000                      370.000000   \n",
       "50%                              3.43000                      540.000000   \n",
       "75%                              3.55000                      694.000000   \n",
       "max                              4.44000                     1420.000000   \n",
       "\n",
       "       Tasa Inyección (l/d)  PQ Propuesto 3   \\\n",
       "count                               6.000000   \n",
       "mean                                6.833333   \n",
       "std                                 1.471960   \n",
       "min                                 5.000000   \n",
       "25%                                 6.000000   \n",
       "50%                                 6.500000   \n",
       "75%                                 7.750000   \n",
       "max                                 9.000000   \n",
       "\n",
       "       Volumen Batch PQ Propuesto 3 (l)  Concentración [ppmV] PQ Propuesto 3  \\\n",
       "count                         19.000000                             6.000000   \n",
       "mean                         106.315789                            49.333333   \n",
       "std                           46.092965                             2.503331   \n",
       "min                           40.000000                            47.000000   \n",
       "25%                          100.000000                            48.000000   \n",
       "50%                          100.000000                            48.500000   \n",
       "75%                          100.000000                            49.750000   \n",
       "max                          200.000000                            54.000000   \n",
       "\n",
       "       Precio del PQ [U$S/l] Propuesto 3  Costo [U$S/mes] TQ Propuesto 3  \n",
       "count                          25.000000                       25.000000  \n",
       "mean                            3.129200                      531.120167  \n",
       "std                             0.421178                      158.790041  \n",
       "min                             2.070000                      207.000000  \n",
       "25%                             2.910000                      439.000000  \n",
       "50%                             3.040000                      568.000000  \n",
       "75%                             3.430000                      582.000000  \n",
       "max                             4.390000                      832.000000  \n",
       "\n",
       "[8 rows x 38 columns]"
      ],
      "text/html": "<div>\n<style scoped>\n    .dataframe tbody tr th:only-of-type {\n        vertical-align: middle;\n    }\n\n    .dataframe tbody tr th {\n        vertical-align: top;\n    }\n\n    .dataframe thead th {\n        text-align: right;\n    }\n</style>\n<table border=\"1\" class=\"dataframe\">\n  <thead>\n    <tr style=\"text-align: right;\">\n      <th></th>\n      <th>Número de protocolo</th>\n      <th>Pozo</th>\n      <th>Batería</th>\n      <th>Prod Bruta</th>\n      <th>Prod Neta</th>\n      <th>Corte de agua (%)</th>\n      <th>SD</th>\n      <th>OT</th>\n      <th>CIP</th>\n      <th>Corrosión según Fe+2</th>\n      <th>...</th>\n      <th>Costo [U$S/mes] TQ Propuesto 1</th>\n      <th>Volumen Batch PQ Propuesto 2 (l)</th>\n      <th>Concentración [ppmV] PQ Propuesto 2</th>\n      <th>Precio del PQ [U$S/l] Propuesto 2</th>\n      <th>Costo [U$S/mes] TQ Propuesto 2</th>\n      <th>Tasa Inyección (l/d)  PQ Propuesto 3</th>\n      <th>Volumen Batch PQ Propuesto 3 (l)</th>\n      <th>Concentración [ppmV] PQ Propuesto 3</th>\n      <th>Precio del PQ [U$S/l] Propuesto 3</th>\n      <th>Costo [U$S/mes] TQ Propuesto 3</th>\n    </tr>\n  </thead>\n  <tbody>\n    <tr>\n      <th>count</th>\n      <td>187.000000</td>\n      <td>187.000000</td>\n      <td>187.000000</td>\n      <td>187.000000</td>\n      <td>187.000000</td>\n      <td>185.000000</td>\n      <td>186.000000</td>\n      <td>186.000000</td>\n      <td>186.000000</td>\n      <td>185.000000</td>\n      <td>...</td>\n      <td>169.000000</td>\n      <td>60.000000</td>\n      <td>39.000000</td>\n      <td>101.00000</td>\n      <td>101.000000</td>\n      <td>6.000000</td>\n      <td>19.000000</td>\n      <td>6.000000</td>\n      <td>25.000000</td>\n      <td>25.000000</td>\n    </tr>\n    <tr>\n      <th>mean</th>\n      <td>93.000000</td>\n      <td>93.000000</td>\n      <td>93.000000</td>\n      <td>83.375401</td>\n      <td>3.397241</td>\n      <td>93.543345</td>\n      <td>0.953948</td>\n      <td>1.172203</td>\n      <td>255.699475</td>\n      <td>1.517122</td>\n      <td>...</td>\n      <td>503.650754</td>\n      <td>128.950000</td>\n      <td>75.897436</td>\n      <td>3.45505</td>\n      <td>561.917492</td>\n      <td>6.833333</td>\n      <td>106.315789</td>\n      <td>49.333333</td>\n      <td>3.129200</td>\n      <td>531.120167</td>\n    </tr>\n    <tr>\n      <th>std</th>\n      <td>54.126395</td>\n      <td>54.126395</td>\n      <td>54.126395</td>\n      <td>68.800550</td>\n      <td>6.322373</td>\n      <td>10.059187</td>\n      <td>0.633351</td>\n      <td>0.538564</td>\n      <td>244.094118</td>\n      <td>2.091522</td>\n      <td>...</td>\n      <td>262.280677</td>\n      <td>58.640076</td>\n      <td>38.327395</td>\n      <td>0.48872</td>\n      <td>224.360954</td>\n      <td>1.471960</td>\n      <td>46.092965</td>\n      <td>2.503331</td>\n      <td>0.421178</td>\n      <td>158.790041</td>\n    </tr>\n    <tr>\n      <th>min</th>\n      <td>0.000000</td>\n      <td>0.000000</td>\n      <td>0.000000</td>\n      <td>2.000000</td>\n      <td>0.080000</td>\n      <td>18.000000</td>\n      <td>-0.800000</td>\n      <td>-0.500000</td>\n      <td>-727.000000</td>\n      <td>0.000000</td>\n      <td>...</td>\n      <td>102.900000</td>\n      <td>20.000000</td>\n      <td>41.000000</td>\n      <td>2.07000</td>\n      <td>145.500000</td>\n      <td>5.000000</td>\n      <td>40.000000</td>\n      <td>47.000000</td>\n      <td>2.070000</td>\n      <td>207.000000</td>\n    </tr>\n    <tr>\n      <th>25%</th>\n      <td>46.500000</td>\n      <td>46.500000</td>\n      <td>46.500000</td>\n      <td>30.000000</td>\n      <td>1.110000</td>\n      <td>95.000000</td>\n      <td>0.528309</td>\n      <td>0.865301</td>\n      <td>110.033823</td>\n      <td>0.300000</td>\n      <td>...</td>\n      <td>343.000000</td>\n      <td>100.000000</td>\n      <td>54.500000</td>\n      <td>3.04000</td>\n      <td>370.000000</td>\n      <td>6.000000</td>\n      <td>100.000000</td>\n      <td>48.000000</td>\n      <td>2.910000</td>\n      <td>439.000000</td>\n    </tr>\n    <tr>\n      <th>50%</th>\n      <td>93.000000</td>\n      <td>93.000000</td>\n      <td>93.000000</td>\n      <td>65.000000</td>\n      <td>2.160000</td>\n      <td>96.500000</td>\n      <td>0.912174</td>\n      <td>1.200000</td>\n      <td>256.500000</td>\n      <td>0.840000</td>\n      <td>...</td>\n      <td>432.000000</td>\n      <td>100.000000</td>\n      <td>63.000000</td>\n      <td>3.43000</td>\n      <td>540.000000</td>\n      <td>6.500000</td>\n      <td>100.000000</td>\n      <td>48.500000</td>\n      <td>3.040000</td>\n      <td>568.000000</td>\n    </tr>\n    <tr>\n      <th>75%</th>\n      <td>139.500000</td>\n      <td>139.500000</td>\n      <td>139.500000</td>\n      <td>125.000000</td>\n      <td>4.190000</td>\n      <td>97.500000</td>\n      <td>1.400000</td>\n      <td>1.515422</td>\n      <td>373.785932</td>\n      <td>1.702213</td>\n      <td>...</td>\n      <td>686.000000</td>\n      <td>200.000000</td>\n      <td>78.000000</td>\n      <td>3.55000</td>\n      <td>694.000000</td>\n      <td>7.750000</td>\n      <td>100.000000</td>\n      <td>49.750000</td>\n      <td>3.430000</td>\n      <td>582.000000</td>\n    </tr>\n    <tr>\n      <th>max</th>\n      <td>186.000000</td>\n      <td>186.000000</td>\n      <td>186.000000</td>\n      <td>356.000000</td>\n      <td>82.100000</td>\n      <td>99.900000</td>\n      <td>2.519783</td>\n      <td>2.525622</td>\n      <td>1096.725139</td>\n      <td>13.871209</td>\n      <td>...</td>\n      <td>1664.000000</td>\n      <td>200.000000</td>\n      <td>226.000000</td>\n      <td>4.44000</td>\n      <td>1420.000000</td>\n      <td>9.000000</td>\n      <td>200.000000</td>\n      <td>54.000000</td>\n      <td>4.390000</td>\n      <td>832.000000</td>\n    </tr>\n  </tbody>\n</table>\n<p>8 rows × 38 columns</p>\n</div>"
     },
     "metadata": {},
     "execution_count": 837
    }
   ],
   "source": [
    "df.describe()"
   ]
  },
  {
   "cell_type": "code",
   "execution_count": 838,
   "metadata": {},
   "outputs": [
    {
     "output_type": "stream",
     "name": "stdout",
     "text": [
      "Número de protocolo\nResponsable\nOperadora\nPozo\nBatería\nYacimiento\nBase\nFecha de emisión\nSLA\nProd Bruta\nProd Neta\nCorte de agua (%)\nFecha Control\nObjetivo Recomendación\nSD\nOT\nCIP\nCorrosión según Fe+2\nCorr según CO2 (aq)\nCorr según CO2 (g)\nCorr según H2S (g)\nBSRp\nPQ Anterior 1\nModalidad PQ Anterior 1\nPunto Inyección PQ Anterior 1\nTasa Inyección (l/d)  PQ Anterior 1 \nVolumen Batch PQ Anterior 1 (l)\nFrecuencia batcheo PQ Anterior 1\nConcentración [ppmV] PQ Anterior 1\nPrecio del PQ [U$S/l] Anterior 1\nCosto [U$S/mes] TQ Anterior 1\nPQ Anterior 2\nModalidad PQ Anterior 2\nPunto Inyección PQ Anterior 2\nTasa Inyección (l/d)  PQ Anterior 2 \nVolumen Batch PQ Anterior 2 (l)\nFrecuencia batcheo PQ Anterior 2\nConcentración [ppmV] PQ Anterior 2\nPrecio del PQ [U$S/l] Anterior 2\nCosto [U$S/mes] TQ Anterior 2\nPQ Propuesto 1\nModalidad PQ Propuesto 1\nPunto Inyección PQ Propuesto 1\nTasa Inyección (l/d)  PQ Propuesto 1 \nVolumen Batch PQ Propuesto 1 (l)\nFrecuencia batcheo PQ Propuesto 1\nConcentración [ppmV] PQ Propuesto 1\nPrecio del PQ [U$S/l] Propuesto 1\nCosto [U$S/mes] TQ Propuesto 1\nPQ Propuesto 2\nModalidad PQ Propuesto 2\nPunto Inyección PQ Propuesto 2\nTasa Inyección (l/d)  PQ Propuesto 2 \nVolumen Batch PQ Propuesto 2 (l)\nFrecuencia batcheo PQ Propuesto 2\nConcentración [ppmV] PQ Propuesto 2\nPrecio del PQ [U$S/l] Propuesto 2\nCosto [U$S/mes] TQ Propuesto 2\nPQ Propuesto 3\nModalidad PQ Propuesto 3\nPunto Inyección PQ Propuesto 3\nTasa Inyección (l/d)  PQ Propuesto 3 \nVolumen Batch PQ Propuesto 3 (l)\nFrecuencia batcheo PQ Propuesto 3\nConcentración [ppmV] PQ Propuesto 3\nPrecio del PQ [U$S/l] Propuesto 3\nCosto [U$S/mes] TQ Propuesto 3\n"
     ]
    }
   ],
   "source": [
    "for col in df.columns:\n",
    "    print(col)"
   ]
  },
  {
   "source": [
    "Filtrado de la base de datos para ver sólo los datos a utilizar. Para entrenar esta Neural Network, se utilizarán solamente las recomendaciones emitidas para la \"Operadora 1\" de la provincia de Chubut."
   ],
   "cell_type": "markdown",
   "metadata": {}
  },
  {
   "cell_type": "code",
   "execution_count": 839,
   "metadata": {},
   "outputs": [],
   "source": [
    "df= df.loc[df[\"Operadora\"]==\"Operadora 1 Chubut\"]\n",
    "df=df.reset_index()"
   ]
  },
  {
   "source": [
    "### Las variables de entrada para la Neural Network serían las siguientes 11:\n",
    "\n",
    "    SD, OT, CIP, Corr Fe+2, Corr CO2 (aq), Corr H2S (g), Corr CO2 (g), BSRp, Prod Bruta, Prod Neta y SLA"
   ],
   "cell_type": "markdown",
   "metadata": {}
  },
  {
   "source": [
    "#### Definición de las variables de entrada cualitativas en términos binarios\n",
    "\n",
    "Se elige definir como 1 cuando el SLA es BES y 0 cuando es AIB o PCP"
   ],
   "cell_type": "markdown",
   "metadata": {}
  },
  {
   "cell_type": "code",
   "execution_count": 840,
   "metadata": {},
   "outputs": [
    {
     "output_type": "stream",
     "name": "stderr",
     "text": [
      "<ipython-input-840-67566288c990>:5: SettingWithCopyWarning: \nA value is trying to be set on a copy of a slice from a DataFrame\n\nSee the caveats in the documentation: https://pandas.pydata.org/pandas-docs/stable/user_guide/indexing.html#returning-a-view-versus-a-copy\n  df['SLA'][i]=0\n<ipython-input-840-67566288c990>:3: SettingWithCopyWarning: \nA value is trying to be set on a copy of a slice from a DataFrame\n\nSee the caveats in the documentation: https://pandas.pydata.org/pandas-docs/stable/user_guide/indexing.html#returning-a-view-versus-a-copy\n  df['SLA'][i]=1\n"
     ]
    },
    {
     "output_type": "execute_result",
     "data": {
      "text/plain": [
       "0      0\n",
       "1      1\n",
       "2      0\n",
       "3      0\n",
       "4      1\n",
       "      ..\n",
       "172    0\n",
       "173    0\n",
       "174    0\n",
       "175    1\n",
       "176    1\n",
       "Name: SLA, Length: 177, dtype: object"
      ]
     },
     "metadata": {},
     "execution_count": 840
    }
   ],
   "source": [
    "for i in range(len(df['Número de protocolo'])):\n",
    "    if 'BES' in str(df['SLA'][i]):\n",
    "        df['SLA'][i]=1\n",
    "    else:\n",
    "        df['SLA'][i]=0\n",
    "\n",
    "var_cual=df['SLA']\n",
    "var_cual"
   ]
  },
  {
   "source": [
    "#### Normalizar a la media variables de entrada cuantitativas\n",
    "\n",
    "La normalización utilizada en el presente proyecto está dada por:\n",
    "\n",
    "        X_std = (X - X.min(axis=0)) / (X.max(axis=0) - X.min(axis=0))\n",
    "\n",
    "        X_scaled = X_std * (max - min) + min\n",
    "\n",
    "        where min, max = feature_range."
   ],
   "cell_type": "markdown",
   "metadata": {}
  },
  {
   "cell_type": "code",
   "execution_count": 841,
   "metadata": {},
   "outputs": [],
   "source": [
    "var_cuant=df[['SD','OT','CIP', 'Prod Bruta', 'Prod Neta','Corr según H2S (g)','BSRp','Corrosión según Fe+2','Corr según CO2 (aq)','Corr según CO2 (g)']]"
   ]
  },
  {
   "cell_type": "code",
   "execution_count": 842,
   "metadata": {},
   "outputs": [
    {
     "output_type": "execute_result",
     "data": {
      "text/plain": [
       "<seaborn.axisgrid.FacetGrid at 0x13a886d2d30>"
      ]
     },
     "metadata": {},
     "execution_count": 842
    },
    {
     "output_type": "display_data",
     "data": {
      "text/plain": "<Figure size 360x360 with 1 Axes>",
      "image/svg+xml": "<?xml version=\"1.0\" encoding=\"utf-8\" standalone=\"no\"?>\r\n<!DOCTYPE svg PUBLIC \"-//W3C//DTD SVG 1.1//EN\"\r\n  \"http://www.w3.org/Graphics/SVG/1.1/DTD/svg11.dtd\">\r\n<svg height=\"352.15625pt\" version=\"1.1\" viewBox=\"0 0 352.453125 352.15625\" width=\"352.453125pt\" xmlns=\"http://www.w3.org/2000/svg\" xmlns:xlink=\"http://www.w3.org/1999/xlink\">\r\n <metadata>\r\n  <rdf:RDF xmlns:cc=\"http://creativecommons.org/ns#\" xmlns:dc=\"http://purl.org/dc/elements/1.1/\" xmlns:rdf=\"http://www.w3.org/1999/02/22-rdf-syntax-ns#\">\r\n   <cc:Work>\r\n    <dc:type rdf:resource=\"http://purl.org/dc/dcmitype/StillImage\"/>\r\n    <dc:date>2021-06-20T17:37:01.923506</dc:date>\r\n    <dc:format>image/svg+xml</dc:format>\r\n    <dc:creator>\r\n     <cc:Agent>\r\n      <dc:title>Matplotlib v3.4.1, https://matplotlib.org/</dc:title>\r\n     </cc:Agent>\r\n    </dc:creator>\r\n   </cc:Work>\r\n  </rdf:RDF>\r\n </metadata>\r\n <defs>\r\n  <style type=\"text/css\">*{stroke-linecap:butt;stroke-linejoin:round;}</style>\r\n </defs>\r\n <g id=\"figure_1\">\r\n  <g id=\"patch_1\">\r\n   <path d=\"M 0 352.15625 \r\nL 352.453125 352.15625 \r\nL 352.453125 0 \r\nL 0 0 \r\nz\r\n\" style=\"fill:none;\"/>\r\n  </g>\r\n  <g id=\"axes_1\">\r\n   <g id=\"patch_2\">\r\n    <path d=\"M 40.603125 314.6 \r\nL 345.253125 314.6 \r\nL 345.253125 7.2 \r\nL 40.603125 7.2 \r\nz\r\n\" style=\"fill:#ffffff;\"/>\r\n   </g>\r\n   <g id=\"patch_3\">\r\n    <path clip-path=\"url(#p759b35e06c)\" d=\"M 54.450852 314.6 \r\nL 77.530398 314.6 \r\nL 77.530398 299.191479 \r\nL 54.450852 299.191479 \r\nz\r\n\" style=\"fill:#0000ff;fill-opacity:0.5;stroke:#000000;stroke-linejoin:miter;\"/>\r\n   </g>\r\n   <g id=\"patch_4\">\r\n    <path clip-path=\"url(#p759b35e06c)\" d=\"M 77.530398 314.6 \r\nL 100.609943 314.6 \r\nL 100.609943 291.487218 \r\nL 77.530398 291.487218 \r\nz\r\n\" style=\"fill:#0000ff;fill-opacity:0.5;stroke:#000000;stroke-linejoin:miter;\"/>\r\n   </g>\r\n   <g id=\"patch_5\">\r\n    <path clip-path=\"url(#p759b35e06c)\" d=\"M 100.609943 314.6 \r\nL 123.689489 314.6 \r\nL 123.689489 276.078697 \r\nL 100.609943 276.078697 \r\nz\r\n\" style=\"fill:#0000ff;fill-opacity:0.5;stroke:#000000;stroke-linejoin:miter;\"/>\r\n   </g>\r\n   <g id=\"patch_6\">\r\n    <path clip-path=\"url(#p759b35e06c)\" d=\"M 123.689489 314.6 \r\nL 146.769034 314.6 \r\nL 146.769034 260.670175 \r\nL 123.689489 260.670175 \r\nz\r\n\" style=\"fill:#0000ff;fill-opacity:0.5;stroke:#000000;stroke-linejoin:miter;\"/>\r\n   </g>\r\n   <g id=\"patch_7\">\r\n    <path clip-path=\"url(#p759b35e06c)\" d=\"M 146.769034 314.6 \r\nL 169.84858 314.6 \r\nL 169.84858 183.627569 \r\nL 146.769034 183.627569 \r\nz\r\n\" style=\"fill:#0000ff;fill-opacity:0.5;stroke:#000000;stroke-linejoin:miter;\"/>\r\n   </g>\r\n   <g id=\"patch_8\">\r\n    <path clip-path=\"url(#p759b35e06c)\" d=\"M 169.84858 314.6 \r\nL 192.928125 314.6 \r\nL 192.928125 75.76792 \r\nL 169.84858 75.76792 \r\nz\r\n\" style=\"fill:#0000ff;fill-opacity:0.5;stroke:#000000;stroke-linejoin:miter;\"/>\r\n   </g>\r\n   <g id=\"patch_9\">\r\n    <path clip-path=\"url(#p759b35e06c)\" d=\"M 192.928125 314.6 \r\nL 216.00767 314.6 \r\nL 216.00767 21.838095 \r\nL 192.928125 21.838095 \r\nz\r\n\" style=\"fill:#0000ff;fill-opacity:0.5;stroke:#000000;stroke-linejoin:miter;\"/>\r\n   </g>\r\n   <g id=\"patch_10\">\r\n    <path clip-path=\"url(#p759b35e06c)\" d=\"M 216.00767 314.6 \r\nL 239.087216 314.6 \r\nL 239.087216 98.880702 \r\nL 216.00767 98.880702 \r\nz\r\n\" style=\"fill:#0000ff;fill-opacity:0.5;stroke:#000000;stroke-linejoin:miter;\"/>\r\n   </g>\r\n   <g id=\"patch_11\">\r\n    <path clip-path=\"url(#p759b35e06c)\" d=\"M 239.087216 314.6 \r\nL 262.166761 314.6 \r\nL 262.166761 137.402005 \r\nL 239.087216 137.402005 \r\nz\r\n\" style=\"fill:#0000ff;fill-opacity:0.5;stroke:#000000;stroke-linejoin:miter;\"/>\r\n   </g>\r\n   <g id=\"patch_12\">\r\n    <path clip-path=\"url(#p759b35e06c)\" d=\"M 262.166761 314.6 \r\nL 285.246307 314.6 \r\nL 285.246307 206.740351 \r\nL 262.166761 206.740351 \r\nz\r\n\" style=\"fill:#0000ff;fill-opacity:0.5;stroke:#000000;stroke-linejoin:miter;\"/>\r\n   </g>\r\n   <g id=\"patch_13\">\r\n    <path clip-path=\"url(#p759b35e06c)\" d=\"M 285.246307 314.6 \r\nL 308.325852 314.6 \r\nL 308.325852 268.374436 \r\nL 285.246307 268.374436 \r\nz\r\n\" style=\"fill:#0000ff;fill-opacity:0.5;stroke:#000000;stroke-linejoin:miter;\"/>\r\n   </g>\r\n   <g id=\"patch_14\">\r\n    <path clip-path=\"url(#p759b35e06c)\" d=\"M 308.325852 314.6 \r\nL 331.405398 314.6 \r\nL 331.405398 299.191479 \r\nL 308.325852 299.191479 \r\nz\r\n\" style=\"fill:#0000ff;fill-opacity:0.5;stroke:#000000;stroke-linejoin:miter;\"/>\r\n   </g>\r\n   <g id=\"matplotlib.axis_1\">\r\n    <g id=\"xtick_1\">\r\n     <g id=\"line2d_1\">\r\n      <defs>\r\n       <path d=\"M 0 0 \r\nL 0 3.5 \r\n\" id=\"m93376ac9d8\" style=\"stroke:#000000;stroke-width:0.8;\"/>\r\n      </defs>\r\n      <g>\r\n       <use style=\"stroke:#000000;stroke-width:0.8;\" x=\"54.450852\" xlink:href=\"#m93376ac9d8\" y=\"314.6\"/>\r\n      </g>\r\n     </g>\r\n     <g id=\"text_1\">\r\n      <!-- −0.5 -->\r\n      <g transform=\"translate(42.309446 329.198437)scale(0.1 -0.1)\">\r\n       <defs>\r\n        <path d=\"M 678 2272 \r\nL 4684 2272 \r\nL 4684 1741 \r\nL 678 1741 \r\nL 678 2272 \r\nz\r\n\" id=\"DejaVuSans-2212\" transform=\"scale(0.015625)\"/>\r\n        <path d=\"M 2034 4250 \r\nQ 1547 4250 1301 3770 \r\nQ 1056 3291 1056 2328 \r\nQ 1056 1369 1301 889 \r\nQ 1547 409 2034 409 \r\nQ 2525 409 2770 889 \r\nQ 3016 1369 3016 2328 \r\nQ 3016 3291 2770 3770 \r\nQ 2525 4250 2034 4250 \r\nz\r\nM 2034 4750 \r\nQ 2819 4750 3233 4129 \r\nQ 3647 3509 3647 2328 \r\nQ 3647 1150 3233 529 \r\nQ 2819 -91 2034 -91 \r\nQ 1250 -91 836 529 \r\nQ 422 1150 422 2328 \r\nQ 422 3509 836 4129 \r\nQ 1250 4750 2034 4750 \r\nz\r\n\" id=\"DejaVuSans-30\" transform=\"scale(0.015625)\"/>\r\n        <path d=\"M 684 794 \r\nL 1344 794 \r\nL 1344 0 \r\nL 684 0 \r\nL 684 794 \r\nz\r\n\" id=\"DejaVuSans-2e\" transform=\"scale(0.015625)\"/>\r\n        <path d=\"M 691 4666 \r\nL 3169 4666 \r\nL 3169 4134 \r\nL 1269 4134 \r\nL 1269 2991 \r\nQ 1406 3038 1543 3061 \r\nQ 1681 3084 1819 3084 \r\nQ 2600 3084 3056 2656 \r\nQ 3513 2228 3513 1497 \r\nQ 3513 744 3044 326 \r\nQ 2575 -91 1722 -91 \r\nQ 1428 -91 1123 -41 \r\nQ 819 9 494 109 \r\nL 494 744 \r\nQ 775 591 1075 516 \r\nQ 1375 441 1709 441 \r\nQ 2250 441 2565 725 \r\nQ 2881 1009 2881 1497 \r\nQ 2881 1984 2565 2268 \r\nQ 2250 2553 1709 2553 \r\nQ 1456 2553 1204 2497 \r\nQ 953 2441 691 2322 \r\nL 691 4666 \r\nz\r\n\" id=\"DejaVuSans-35\" transform=\"scale(0.015625)\"/>\r\n       </defs>\r\n       <use xlink:href=\"#DejaVuSans-2212\"/>\r\n       <use x=\"83.789062\" xlink:href=\"#DejaVuSans-30\"/>\r\n       <use x=\"147.412109\" xlink:href=\"#DejaVuSans-2e\"/>\r\n       <use x=\"179.199219\" xlink:href=\"#DejaVuSans-35\"/>\r\n      </g>\r\n     </g>\r\n    </g>\r\n    <g id=\"xtick_2\">\r\n     <g id=\"line2d_2\">\r\n      <g>\r\n       <use style=\"stroke:#000000;stroke-width:0.8;\" x=\"100.219053\" xlink:href=\"#m93376ac9d8\" y=\"314.6\"/>\r\n      </g>\r\n     </g>\r\n     <g id=\"text_2\">\r\n      <!-- 0.0 -->\r\n      <g transform=\"translate(92.267491 329.198437)scale(0.1 -0.1)\">\r\n       <use xlink:href=\"#DejaVuSans-30\"/>\r\n       <use x=\"63.623047\" xlink:href=\"#DejaVuSans-2e\"/>\r\n       <use x=\"95.410156\" xlink:href=\"#DejaVuSans-30\"/>\r\n      </g>\r\n     </g>\r\n    </g>\r\n    <g id=\"xtick_3\">\r\n     <g id=\"line2d_3\">\r\n      <g>\r\n       <use style=\"stroke:#000000;stroke-width:0.8;\" x=\"145.987254\" xlink:href=\"#m93376ac9d8\" y=\"314.6\"/>\r\n      </g>\r\n     </g>\r\n     <g id=\"text_3\">\r\n      <!-- 0.5 -->\r\n      <g transform=\"translate(138.035692 329.198437)scale(0.1 -0.1)\">\r\n       <use xlink:href=\"#DejaVuSans-30\"/>\r\n       <use x=\"63.623047\" xlink:href=\"#DejaVuSans-2e\"/>\r\n       <use x=\"95.410156\" xlink:href=\"#DejaVuSans-35\"/>\r\n      </g>\r\n     </g>\r\n    </g>\r\n    <g id=\"xtick_4\">\r\n     <g id=\"line2d_4\">\r\n      <g>\r\n       <use style=\"stroke:#000000;stroke-width:0.8;\" x=\"191.755455\" xlink:href=\"#m93376ac9d8\" y=\"314.6\"/>\r\n      </g>\r\n     </g>\r\n     <g id=\"text_4\">\r\n      <!-- 1.0 -->\r\n      <g transform=\"translate(183.803892 329.198437)scale(0.1 -0.1)\">\r\n       <defs>\r\n        <path d=\"M 794 531 \r\nL 1825 531 \r\nL 1825 4091 \r\nL 703 3866 \r\nL 703 4441 \r\nL 1819 4666 \r\nL 2450 4666 \r\nL 2450 531 \r\nL 3481 531 \r\nL 3481 0 \r\nL 794 0 \r\nL 794 531 \r\nz\r\n\" id=\"DejaVuSans-31\" transform=\"scale(0.015625)\"/>\r\n       </defs>\r\n       <use xlink:href=\"#DejaVuSans-31\"/>\r\n       <use x=\"63.623047\" xlink:href=\"#DejaVuSans-2e\"/>\r\n       <use x=\"95.410156\" xlink:href=\"#DejaVuSans-30\"/>\r\n      </g>\r\n     </g>\r\n    </g>\r\n    <g id=\"xtick_5\">\r\n     <g id=\"line2d_5\">\r\n      <g>\r\n       <use style=\"stroke:#000000;stroke-width:0.8;\" x=\"237.523656\" xlink:href=\"#m93376ac9d8\" y=\"314.6\"/>\r\n      </g>\r\n     </g>\r\n     <g id=\"text_5\">\r\n      <!-- 1.5 -->\r\n      <g transform=\"translate(229.572093 329.198437)scale(0.1 -0.1)\">\r\n       <use xlink:href=\"#DejaVuSans-31\"/>\r\n       <use x=\"63.623047\" xlink:href=\"#DejaVuSans-2e\"/>\r\n       <use x=\"95.410156\" xlink:href=\"#DejaVuSans-35\"/>\r\n      </g>\r\n     </g>\r\n    </g>\r\n    <g id=\"xtick_6\">\r\n     <g id=\"line2d_6\">\r\n      <g>\r\n       <use style=\"stroke:#000000;stroke-width:0.8;\" x=\"283.291857\" xlink:href=\"#m93376ac9d8\" y=\"314.6\"/>\r\n      </g>\r\n     </g>\r\n     <g id=\"text_6\">\r\n      <!-- 2.0 -->\r\n      <g transform=\"translate(275.340294 329.198437)scale(0.1 -0.1)\">\r\n       <defs>\r\n        <path d=\"M 1228 531 \r\nL 3431 531 \r\nL 3431 0 \r\nL 469 0 \r\nL 469 531 \r\nQ 828 903 1448 1529 \r\nQ 2069 2156 2228 2338 \r\nQ 2531 2678 2651 2914 \r\nQ 2772 3150 2772 3378 \r\nQ 2772 3750 2511 3984 \r\nQ 2250 4219 1831 4219 \r\nQ 1534 4219 1204 4116 \r\nQ 875 4013 500 3803 \r\nL 500 4441 \r\nQ 881 4594 1212 4672 \r\nQ 1544 4750 1819 4750 \r\nQ 2544 4750 2975 4387 \r\nQ 3406 4025 3406 3419 \r\nQ 3406 3131 3298 2873 \r\nQ 3191 2616 2906 2266 \r\nQ 2828 2175 2409 1742 \r\nQ 1991 1309 1228 531 \r\nz\r\n\" id=\"DejaVuSans-32\" transform=\"scale(0.015625)\"/>\r\n       </defs>\r\n       <use xlink:href=\"#DejaVuSans-32\"/>\r\n       <use x=\"63.623047\" xlink:href=\"#DejaVuSans-2e\"/>\r\n       <use x=\"95.410156\" xlink:href=\"#DejaVuSans-30\"/>\r\n      </g>\r\n     </g>\r\n    </g>\r\n    <g id=\"xtick_7\">\r\n     <g id=\"line2d_7\">\r\n      <g>\r\n       <use style=\"stroke:#000000;stroke-width:0.8;\" x=\"329.060058\" xlink:href=\"#m93376ac9d8\" y=\"314.6\"/>\r\n      </g>\r\n     </g>\r\n     <g id=\"text_7\">\r\n      <!-- 2.5 -->\r\n      <g transform=\"translate(321.108495 329.198437)scale(0.1 -0.1)\">\r\n       <use xlink:href=\"#DejaVuSans-32\"/>\r\n       <use x=\"63.623047\" xlink:href=\"#DejaVuSans-2e\"/>\r\n       <use x=\"95.410156\" xlink:href=\"#DejaVuSans-35\"/>\r\n      </g>\r\n     </g>\r\n    </g>\r\n    <g id=\"text_8\">\r\n     <!-- OT -->\r\n     <g transform=\"translate(185.938281 342.876562)scale(0.1 -0.1)\">\r\n      <defs>\r\n       <path d=\"M 2522 4238 \r\nQ 1834 4238 1429 3725 \r\nQ 1025 3213 1025 2328 \r\nQ 1025 1447 1429 934 \r\nQ 1834 422 2522 422 \r\nQ 3209 422 3611 934 \r\nQ 4013 1447 4013 2328 \r\nQ 4013 3213 3611 3725 \r\nQ 3209 4238 2522 4238 \r\nz\r\nM 2522 4750 \r\nQ 3503 4750 4090 4092 \r\nQ 4678 3434 4678 2328 \r\nQ 4678 1225 4090 567 \r\nQ 3503 -91 2522 -91 \r\nQ 1538 -91 948 565 \r\nQ 359 1222 359 2328 \r\nQ 359 3434 948 4092 \r\nQ 1538 4750 2522 4750 \r\nz\r\n\" id=\"DejaVuSans-4f\" transform=\"scale(0.015625)\"/>\r\n       <path d=\"M -19 4666 \r\nL 3928 4666 \r\nL 3928 4134 \r\nL 2272 4134 \r\nL 2272 0 \r\nL 1638 0 \r\nL 1638 4134 \r\nL -19 4134 \r\nL -19 4666 \r\nz\r\n\" id=\"DejaVuSans-54\" transform=\"scale(0.015625)\"/>\r\n      </defs>\r\n      <use xlink:href=\"#DejaVuSans-4f\"/>\r\n      <use x=\"78.710938\" xlink:href=\"#DejaVuSans-54\"/>\r\n     </g>\r\n    </g>\r\n   </g>\r\n   <g id=\"matplotlib.axis_2\">\r\n    <g id=\"ytick_1\">\r\n     <g id=\"line2d_8\">\r\n      <defs>\r\n       <path d=\"M 0 0 \r\nL -3.5 0 \r\n\" id=\"m32aac988bf\" style=\"stroke:#000000;stroke-width:0.8;\"/>\r\n      </defs>\r\n      <g>\r\n       <use style=\"stroke:#000000;stroke-width:0.8;\" x=\"40.603125\" xlink:href=\"#m32aac988bf\" y=\"314.6\"/>\r\n      </g>\r\n     </g>\r\n     <g id=\"text_9\">\r\n      <!-- 0 -->\r\n      <g transform=\"translate(27.240625 318.399219)scale(0.1 -0.1)\">\r\n       <use xlink:href=\"#DejaVuSans-30\"/>\r\n      </g>\r\n     </g>\r\n    </g>\r\n    <g id=\"ytick_2\">\r\n     <g id=\"line2d_9\">\r\n      <g>\r\n       <use style=\"stroke:#000000;stroke-width:0.8;\" x=\"40.603125\" xlink:href=\"#m32aac988bf\" y=\"276.078697\"/>\r\n      </g>\r\n     </g>\r\n     <g id=\"text_10\">\r\n      <!-- 5 -->\r\n      <g transform=\"translate(27.240625 279.877915)scale(0.1 -0.1)\">\r\n       <use xlink:href=\"#DejaVuSans-35\"/>\r\n      </g>\r\n     </g>\r\n    </g>\r\n    <g id=\"ytick_3\">\r\n     <g id=\"line2d_10\">\r\n      <g>\r\n       <use style=\"stroke:#000000;stroke-width:0.8;\" x=\"40.603125\" xlink:href=\"#m32aac988bf\" y=\"237.557393\"/>\r\n      </g>\r\n     </g>\r\n     <g id=\"text_11\">\r\n      <!-- 10 -->\r\n      <g transform=\"translate(20.878125 241.356612)scale(0.1 -0.1)\">\r\n       <use xlink:href=\"#DejaVuSans-31\"/>\r\n       <use x=\"63.623047\" xlink:href=\"#DejaVuSans-30\"/>\r\n      </g>\r\n     </g>\r\n    </g>\r\n    <g id=\"ytick_4\">\r\n     <g id=\"line2d_11\">\r\n      <g>\r\n       <use style=\"stroke:#000000;stroke-width:0.8;\" x=\"40.603125\" xlink:href=\"#m32aac988bf\" y=\"199.03609\"/>\r\n      </g>\r\n     </g>\r\n     <g id=\"text_12\">\r\n      <!-- 15 -->\r\n      <g transform=\"translate(20.878125 202.835309)scale(0.1 -0.1)\">\r\n       <use xlink:href=\"#DejaVuSans-31\"/>\r\n       <use x=\"63.623047\" xlink:href=\"#DejaVuSans-35\"/>\r\n      </g>\r\n     </g>\r\n    </g>\r\n    <g id=\"ytick_5\">\r\n     <g id=\"line2d_12\">\r\n      <g>\r\n       <use style=\"stroke:#000000;stroke-width:0.8;\" x=\"40.603125\" xlink:href=\"#m32aac988bf\" y=\"160.514787\"/>\r\n      </g>\r\n     </g>\r\n     <g id=\"text_13\">\r\n      <!-- 20 -->\r\n      <g transform=\"translate(20.878125 164.314006)scale(0.1 -0.1)\">\r\n       <use xlink:href=\"#DejaVuSans-32\"/>\r\n       <use x=\"63.623047\" xlink:href=\"#DejaVuSans-30\"/>\r\n      </g>\r\n     </g>\r\n    </g>\r\n    <g id=\"ytick_6\">\r\n     <g id=\"line2d_13\">\r\n      <g>\r\n       <use style=\"stroke:#000000;stroke-width:0.8;\" x=\"40.603125\" xlink:href=\"#m32aac988bf\" y=\"121.993484\"/>\r\n      </g>\r\n     </g>\r\n     <g id=\"text_14\">\r\n      <!-- 25 -->\r\n      <g transform=\"translate(20.878125 125.792702)scale(0.1 -0.1)\">\r\n       <use xlink:href=\"#DejaVuSans-32\"/>\r\n       <use x=\"63.623047\" xlink:href=\"#DejaVuSans-35\"/>\r\n      </g>\r\n     </g>\r\n    </g>\r\n    <g id=\"ytick_7\">\r\n     <g id=\"line2d_14\">\r\n      <g>\r\n       <use style=\"stroke:#000000;stroke-width:0.8;\" x=\"40.603125\" xlink:href=\"#m32aac988bf\" y=\"83.47218\"/>\r\n      </g>\r\n     </g>\r\n     <g id=\"text_15\">\r\n      <!-- 30 -->\r\n      <g transform=\"translate(20.878125 87.271399)scale(0.1 -0.1)\">\r\n       <defs>\r\n        <path d=\"M 2597 2516 \r\nQ 3050 2419 3304 2112 \r\nQ 3559 1806 3559 1356 \r\nQ 3559 666 3084 287 \r\nQ 2609 -91 1734 -91 \r\nQ 1441 -91 1130 -33 \r\nQ 819 25 488 141 \r\nL 488 750 \r\nQ 750 597 1062 519 \r\nQ 1375 441 1716 441 \r\nQ 2309 441 2620 675 \r\nQ 2931 909 2931 1356 \r\nQ 2931 1769 2642 2001 \r\nQ 2353 2234 1838 2234 \r\nL 1294 2234 \r\nL 1294 2753 \r\nL 1863 2753 \r\nQ 2328 2753 2575 2939 \r\nQ 2822 3125 2822 3475 \r\nQ 2822 3834 2567 4026 \r\nQ 2313 4219 1838 4219 \r\nQ 1578 4219 1281 4162 \r\nQ 984 4106 628 3988 \r\nL 628 4550 \r\nQ 988 4650 1302 4700 \r\nQ 1616 4750 1894 4750 \r\nQ 2613 4750 3031 4423 \r\nQ 3450 4097 3450 3541 \r\nQ 3450 3153 3228 2886 \r\nQ 3006 2619 2597 2516 \r\nz\r\n\" id=\"DejaVuSans-33\" transform=\"scale(0.015625)\"/>\r\n       </defs>\r\n       <use xlink:href=\"#DejaVuSans-33\"/>\r\n       <use x=\"63.623047\" xlink:href=\"#DejaVuSans-30\"/>\r\n      </g>\r\n     </g>\r\n    </g>\r\n    <g id=\"ytick_8\">\r\n     <g id=\"line2d_15\">\r\n      <g>\r\n       <use style=\"stroke:#000000;stroke-width:0.8;\" x=\"40.603125\" xlink:href=\"#m32aac988bf\" y=\"44.950877\"/>\r\n      </g>\r\n     </g>\r\n     <g id=\"text_16\">\r\n      <!-- 35 -->\r\n      <g transform=\"translate(20.878125 48.750096)scale(0.1 -0.1)\">\r\n       <use xlink:href=\"#DejaVuSans-33\"/>\r\n       <use x=\"63.623047\" xlink:href=\"#DejaVuSans-35\"/>\r\n      </g>\r\n     </g>\r\n    </g>\r\n    <g id=\"text_17\">\r\n     <!-- Count -->\r\n     <g transform=\"translate(14.798438 175.748437)rotate(-90)scale(0.1 -0.1)\">\r\n      <defs>\r\n       <path d=\"M 4122 4306 \r\nL 4122 3641 \r\nQ 3803 3938 3442 4084 \r\nQ 3081 4231 2675 4231 \r\nQ 1875 4231 1450 3742 \r\nQ 1025 3253 1025 2328 \r\nQ 1025 1406 1450 917 \r\nQ 1875 428 2675 428 \r\nQ 3081 428 3442 575 \r\nQ 3803 722 4122 1019 \r\nL 4122 359 \r\nQ 3791 134 3420 21 \r\nQ 3050 -91 2638 -91 \r\nQ 1578 -91 968 557 \r\nQ 359 1206 359 2328 \r\nQ 359 3453 968 4101 \r\nQ 1578 4750 2638 4750 \r\nQ 3056 4750 3426 4639 \r\nQ 3797 4528 4122 4306 \r\nz\r\n\" id=\"DejaVuSans-43\" transform=\"scale(0.015625)\"/>\r\n       <path d=\"M 1959 3097 \r\nQ 1497 3097 1228 2736 \r\nQ 959 2375 959 1747 \r\nQ 959 1119 1226 758 \r\nQ 1494 397 1959 397 \r\nQ 2419 397 2687 759 \r\nQ 2956 1122 2956 1747 \r\nQ 2956 2369 2687 2733 \r\nQ 2419 3097 1959 3097 \r\nz\r\nM 1959 3584 \r\nQ 2709 3584 3137 3096 \r\nQ 3566 2609 3566 1747 \r\nQ 3566 888 3137 398 \r\nQ 2709 -91 1959 -91 \r\nQ 1206 -91 779 398 \r\nQ 353 888 353 1747 \r\nQ 353 2609 779 3096 \r\nQ 1206 3584 1959 3584 \r\nz\r\n\" id=\"DejaVuSans-6f\" transform=\"scale(0.015625)\"/>\r\n       <path d=\"M 544 1381 \r\nL 544 3500 \r\nL 1119 3500 \r\nL 1119 1403 \r\nQ 1119 906 1312 657 \r\nQ 1506 409 1894 409 \r\nQ 2359 409 2629 706 \r\nQ 2900 1003 2900 1516 \r\nL 2900 3500 \r\nL 3475 3500 \r\nL 3475 0 \r\nL 2900 0 \r\nL 2900 538 \r\nQ 2691 219 2414 64 \r\nQ 2138 -91 1772 -91 \r\nQ 1169 -91 856 284 \r\nQ 544 659 544 1381 \r\nz\r\nM 1991 3584 \r\nL 1991 3584 \r\nz\r\n\" id=\"DejaVuSans-75\" transform=\"scale(0.015625)\"/>\r\n       <path d=\"M 3513 2113 \r\nL 3513 0 \r\nL 2938 0 \r\nL 2938 2094 \r\nQ 2938 2591 2744 2837 \r\nQ 2550 3084 2163 3084 \r\nQ 1697 3084 1428 2787 \r\nQ 1159 2491 1159 1978 \r\nL 1159 0 \r\nL 581 0 \r\nL 581 3500 \r\nL 1159 3500 \r\nL 1159 2956 \r\nQ 1366 3272 1645 3428 \r\nQ 1925 3584 2291 3584 \r\nQ 2894 3584 3203 3211 \r\nQ 3513 2838 3513 2113 \r\nz\r\n\" id=\"DejaVuSans-6e\" transform=\"scale(0.015625)\"/>\r\n       <path d=\"M 1172 4494 \r\nL 1172 3500 \r\nL 2356 3500 \r\nL 2356 3053 \r\nL 1172 3053 \r\nL 1172 1153 \r\nQ 1172 725 1289 603 \r\nQ 1406 481 1766 481 \r\nL 2356 481 \r\nL 2356 0 \r\nL 1766 0 \r\nQ 1100 0 847 248 \r\nQ 594 497 594 1153 \r\nL 594 3053 \r\nL 172 3053 \r\nL 172 3500 \r\nL 594 3500 \r\nL 594 4494 \r\nL 1172 4494 \r\nz\r\n\" id=\"DejaVuSans-74\" transform=\"scale(0.015625)\"/>\r\n      </defs>\r\n      <use xlink:href=\"#DejaVuSans-43\"/>\r\n      <use x=\"69.824219\" xlink:href=\"#DejaVuSans-6f\"/>\r\n      <use x=\"131.005859\" xlink:href=\"#DejaVuSans-75\"/>\r\n      <use x=\"194.384766\" xlink:href=\"#DejaVuSans-6e\"/>\r\n      <use x=\"257.763672\" xlink:href=\"#DejaVuSans-74\"/>\r\n     </g>\r\n    </g>\r\n   </g>\r\n   <g id=\"line2d_16\">\r\n    <path clip-path=\"url(#p759b35e06c)\" d=\"M 54.450852 307.609048 \r\nL 65.584703 305.018887 \r\nL 69.759897 303.799605 \r\nL 72.54336 302.80669 \r\nL 75.326823 301.621973 \r\nL 78.110286 300.211893 \r\nL 80.893749 298.554604 \r\nL 83.677211 296.643735 \r\nL 86.460674 294.49064 \r\nL 90.635868 290.875493 \r\nL 96.202794 285.604828 \r\nL 103.161451 278.989798 \r\nL 107.336645 275.319414 \r\nL 111.511839 271.954994 \r\nL 122.64569 263.317912 \r\nL 125.429153 260.678594 \r\nL 128.212616 257.562977 \r\nL 130.996078 253.818923 \r\nL 132.38781 251.667295 \r\nL 133.779541 249.308887 \r\nL 136.563004 243.923756 \r\nL 139.346467 237.595178 \r\nL 142.129929 230.304662 \r\nL 144.913392 222.088089 \r\nL 147.696855 213.03485 \r\nL 150.480318 203.281613 \r\nL 154.655512 187.724394 \r\nL 165.789363 145.431599 \r\nL 169.964557 130.832889 \r\nL 172.74802 121.739168 \r\nL 175.531483 113.181772 \r\nL 178.314945 105.149 \r\nL 181.098408 97.613274 \r\nL 183.881871 90.546558 \r\nL 186.665334 83.936091 \r\nL 189.448797 77.797821 \r\nL 192.232259 72.184926 \r\nL 195.015722 67.189321 \r\nL 197.799185 62.935121 \r\nL 199.190916 61.130276 \r\nL 200.582648 59.56445 \r\nL 201.974379 58.254946 \r\nL 203.36611 57.217547 \r\nL 204.757842 56.46582 \r\nL 206.149573 56.010492 \r\nL 207.541305 55.858906 \r\nL 208.933036 56.014613 \r\nL 210.324767 56.4771 \r\nL 211.716499 57.241678 \r\nL 213.10823 58.299552 \r\nL 214.499961 59.638051 \r\nL 215.891693 61.241031 \r\nL 217.283424 63.089416 \r\nL 218.675156 65.161873 \r\nL 221.458618 69.886983 \r\nL 224.242081 75.23047 \r\nL 227.025544 81.021295 \r\nL 231.200738 90.265904 \r\nL 235.375932 99.989442 \r\nL 239.551126 110.205341 \r\nL 243.726321 121.077894 \r\nL 247.901515 132.768108 \r\nL 252.076709 145.296463 \r\nL 257.643634 162.960379 \r\nL 265.994023 189.624652 \r\nL 270.169217 202.140038 \r\nL 274.344411 213.740297 \r\nL 277.127874 220.912852 \r\nL 279.911337 227.63752 \r\nL 282.694799 233.936102 \r\nL 285.478262 239.841928 \r\nL 289.653456 248.05023 \r\nL 293.82865 255.597007 \r\nL 298.003845 262.600712 \r\nL 302.179039 269.15031 \r\nL 306.354233 275.296619 \r\nL 310.529427 281.049175 \r\nL 314.704621 286.38132 \r\nL 318.879815 291.244698 \r\nL 321.663278 294.20147 \r\nL 324.446741 296.91668 \r\nL 327.230204 299.385028 \r\nL 330.013666 301.607433 \r\nL 331.405398 302.628336 \r\nL 331.405398 302.628336 \r\n\" style=\"fill:none;stroke:#0000ff;stroke-linecap:square;stroke-width:1.5;\"/>\r\n   </g>\r\n   <g id=\"patch_15\">\r\n    <path d=\"M 40.603125 314.6 \r\nL 40.603125 7.2 \r\n\" style=\"fill:none;stroke:#000000;stroke-linecap:square;stroke-linejoin:miter;stroke-width:0.8;\"/>\r\n   </g>\r\n   <g id=\"patch_16\">\r\n    <path d=\"M 40.603125 314.6 \r\nL 345.253125 314.6 \r\n\" style=\"fill:none;stroke:#000000;stroke-linecap:square;stroke-linejoin:miter;stroke-width:0.8;\"/>\r\n   </g>\r\n  </g>\r\n </g>\r\n <defs>\r\n  <clipPath id=\"p759b35e06c\">\r\n   <rect height=\"307.4\" width=\"304.65\" x=\"40.603125\" y=\"7.2\"/>\r\n  </clipPath>\r\n </defs>\r\n</svg>\r\n",
      "image/png": "[encoded data removed]"
     },
     "metadata": {
      "needs_background": "light"
     }
    },
    {
     "output_type": "display_data",
     "data": {
      "text/plain": "<Figure size 360x360 with 1 Axes>",
      "image/svg+xml": "<?xml version=\"1.0\" encoding=\"utf-8\" standalone=\"no\"?>\r\n<!DOCTYPE svg PUBLIC \"-//W3C//DTD SVG 1.1//EN\"\r\n  \"http://www.w3.org/Graphics/SVG/1.1/DTD/svg11.dtd\">\r\n<svg height=\"352.15625pt\" version=\"1.1\" viewBox=\"0 0 352.453125 352.15625\" width=\"352.453125pt\" xmlns=\"http://www.w3.org/2000/svg\" xmlns:xlink=\"http://www.w3.org/1999/xlink\">\r\n <metadata>\r\n  <rdf:RDF xmlns:cc=\"http://creativecommons.org/ns#\" xmlns:dc=\"http://purl.org/dc/elements/1.1/\" xmlns:rdf=\"http://www.w3.org/1999/02/22-rdf-syntax-ns#\">\r\n   <cc:Work>\r\n    <dc:type rdf:resource=\"http://purl.org/dc/dcmitype/StillImage\"/>\r\n    <dc:date>2021-06-20T17:37:02.096663</dc:date>\r\n    <dc:format>image/svg+xml</dc:format>\r\n    <dc:creator>\r\n     <cc:Agent>\r\n      <dc:title>Matplotlib v3.4.1, https://matplotlib.org/</dc:title>\r\n     </cc:Agent>\r\n    </dc:creator>\r\n   </cc:Work>\r\n  </rdf:RDF>\r\n </metadata>\r\n <defs>\r\n  <style type=\"text/css\">*{stroke-linecap:butt;stroke-linejoin:round;}</style>\r\n </defs>\r\n <g id=\"figure_1\">\r\n  <g id=\"patch_1\">\r\n   <path d=\"M 0 352.15625 \r\nL 352.453125 352.15625 \r\nL 352.453125 0 \r\nL 0 0 \r\nz\r\n\" style=\"fill:none;\"/>\r\n  </g>\r\n  <g id=\"axes_1\">\r\n   <g id=\"patch_2\">\r\n    <path d=\"M 40.603125 314.6 \r\nL 345.253125 314.6 \r\nL 345.253125 7.2 \r\nL 40.603125 7.2 \r\nz\r\n\" style=\"fill:#ffffff;\"/>\r\n   </g>\r\n   <g id=\"patch_3\">\r\n    <path clip-path=\"url(#p2aaf1f5dde)\" d=\"M 54.450852 314.6 \r\nL 77.530398 314.6 \r\nL 77.530398 296.302381 \r\nL 54.450852 296.302381 \r\nz\r\n\" style=\"fill:#008000;fill-opacity:0.5;stroke:#000000;stroke-linejoin:miter;\"/>\r\n   </g>\r\n   <g id=\"patch_4\">\r\n    <path clip-path=\"url(#p2aaf1f5dde)\" d=\"M 77.530398 314.6 \r\nL 100.609943 314.6 \r\nL 100.609943 278.004762 \r\nL 77.530398 278.004762 \r\nz\r\n\" style=\"fill:#008000;fill-opacity:0.5;stroke:#000000;stroke-linejoin:miter;\"/>\r\n   </g>\r\n   <g id=\"patch_5\">\r\n    <path clip-path=\"url(#p2aaf1f5dde)\" d=\"M 100.609943 314.6 \r\nL 123.689489 314.6 \r\nL 123.689489 241.409524 \r\nL 100.609943 241.409524 \r\nz\r\n\" style=\"fill:#008000;fill-opacity:0.5;stroke:#000000;stroke-linejoin:miter;\"/>\r\n   </g>\r\n   <g id=\"patch_6\">\r\n    <path clip-path=\"url(#p2aaf1f5dde)\" d=\"M 123.689489 314.6 \r\nL 146.769034 314.6 \r\nL 146.769034 177.367857 \r\nL 123.689489 177.367857 \r\nz\r\n\" style=\"fill:#008000;fill-opacity:0.5;stroke:#000000;stroke-linejoin:miter;\"/>\r\n   </g>\r\n   <g id=\"patch_7\">\r\n    <path clip-path=\"url(#p2aaf1f5dde)\" d=\"M 146.769034 314.6 \r\nL 169.84858 314.6 \r\nL 169.84858 149.921429 \r\nL 146.769034 149.921429 \r\nz\r\n\" style=\"fill:#008000;fill-opacity:0.5;stroke:#000000;stroke-linejoin:miter;\"/>\r\n   </g>\r\n   <g id=\"patch_8\">\r\n    <path clip-path=\"url(#p2aaf1f5dde)\" d=\"M 169.84858 314.6 \r\nL 192.928125 314.6 \r\nL 192.928125 40.135714 \r\nL 169.84858 40.135714 \r\nz\r\n\" style=\"fill:#008000;fill-opacity:0.5;stroke:#000000;stroke-linejoin:miter;\"/>\r\n   </g>\r\n   <g id=\"patch_9\">\r\n    <path clip-path=\"url(#p2aaf1f5dde)\" d=\"M 192.928125 314.6 \r\nL 216.00767 314.6 \r\nL 216.00767 21.838095 \r\nL 192.928125 21.838095 \r\nz\r\n\" style=\"fill:#008000;fill-opacity:0.5;stroke:#000000;stroke-linejoin:miter;\"/>\r\n   </g>\r\n   <g id=\"patch_10\">\r\n    <path clip-path=\"url(#p2aaf1f5dde)\" d=\"M 216.00767 314.6 \r\nL 239.087216 314.6 \r\nL 239.087216 85.879762 \r\nL 216.00767 85.879762 \r\nz\r\n\" style=\"fill:#008000;fill-opacity:0.5;stroke:#000000;stroke-linejoin:miter;\"/>\r\n   </g>\r\n   <g id=\"patch_11\">\r\n    <path clip-path=\"url(#p2aaf1f5dde)\" d=\"M 239.087216 314.6 \r\nL 262.166761 314.6 \r\nL 262.166761 140.772619 \r\nL 239.087216 140.772619 \r\nz\r\n\" style=\"fill:#008000;fill-opacity:0.5;stroke:#000000;stroke-linejoin:miter;\"/>\r\n   </g>\r\n   <g id=\"patch_12\">\r\n    <path clip-path=\"url(#p2aaf1f5dde)\" d=\"M 262.166761 314.6 \r\nL 285.246307 314.6 \r\nL 285.246307 195.665476 \r\nL 262.166761 195.665476 \r\nz\r\n\" style=\"fill:#008000;fill-opacity:0.5;stroke:#000000;stroke-linejoin:miter;\"/>\r\n   </g>\r\n   <g id=\"patch_13\">\r\n    <path clip-path=\"url(#p2aaf1f5dde)\" d=\"M 285.246307 314.6 \r\nL 308.325852 314.6 \r\nL 308.325852 259.707143 \r\nL 285.246307 259.707143 \r\nz\r\n\" style=\"fill:#008000;fill-opacity:0.5;stroke:#000000;stroke-linejoin:miter;\"/>\r\n   </g>\r\n   <g id=\"patch_14\">\r\n    <path clip-path=\"url(#p2aaf1f5dde)\" d=\"M 308.325852 314.6 \r\nL 331.405398 314.6 \r\nL 331.405398 278.004762 \r\nL 308.325852 278.004762 \r\nz\r\n\" style=\"fill:#008000;fill-opacity:0.5;stroke:#000000;stroke-linejoin:miter;\"/>\r\n   </g>\r\n   <g id=\"matplotlib.axis_1\">\r\n    <g id=\"xtick_1\">\r\n     <g id=\"line2d_1\">\r\n      <defs>\r\n       <path d=\"M 0 0 \r\nL 0 3.5 \r\n\" id=\"m8bf8eb3648\" style=\"stroke:#000000;stroke-width:0.8;\"/>\r\n      </defs>\r\n      <g>\r\n       <use style=\"stroke:#000000;stroke-width:0.8;\" x=\"79.478501\" xlink:href=\"#m8bf8eb3648\" y=\"314.6\"/>\r\n      </g>\r\n     </g>\r\n     <g id=\"text_1\">\r\n      <!-- −0.5 -->\r\n      <g transform=\"translate(67.337095 329.198437)scale(0.1 -0.1)\">\r\n       <defs>\r\n        <path d=\"M 678 2272 \r\nL 4684 2272 \r\nL 4684 1741 \r\nL 678 1741 \r\nL 678 2272 \r\nz\r\n\" id=\"DejaVuSans-2212\" transform=\"scale(0.015625)\"/>\r\n        <path d=\"M 2034 4250 \r\nQ 1547 4250 1301 3770 \r\nQ 1056 3291 1056 2328 \r\nQ 1056 1369 1301 889 \r\nQ 1547 409 2034 409 \r\nQ 2525 409 2770 889 \r\nQ 3016 1369 3016 2328 \r\nQ 3016 3291 2770 3770 \r\nQ 2525 4250 2034 4250 \r\nz\r\nM 2034 4750 \r\nQ 2819 4750 3233 4129 \r\nQ 3647 3509 3647 2328 \r\nQ 3647 1150 3233 529 \r\nQ 2819 -91 2034 -91 \r\nQ 1250 -91 836 529 \r\nQ 422 1150 422 2328 \r\nQ 422 3509 836 4129 \r\nQ 1250 4750 2034 4750 \r\nz\r\n\" id=\"DejaVuSans-30\" transform=\"scale(0.015625)\"/>\r\n        <path d=\"M 684 794 \r\nL 1344 794 \r\nL 1344 0 \r\nL 684 0 \r\nL 684 794 \r\nz\r\n\" id=\"DejaVuSans-2e\" transform=\"scale(0.015625)\"/>\r\n        <path d=\"M 691 4666 \r\nL 3169 4666 \r\nL 3169 4134 \r\nL 1269 4134 \r\nL 1269 2991 \r\nQ 1406 3038 1543 3061 \r\nQ 1681 3084 1819 3084 \r\nQ 2600 3084 3056 2656 \r\nQ 3513 2228 3513 1497 \r\nQ 3513 744 3044 326 \r\nQ 2575 -91 1722 -91 \r\nQ 1428 -91 1123 -41 \r\nQ 819 9 494 109 \r\nL 494 744 \r\nQ 775 591 1075 516 \r\nQ 1375 441 1709 441 \r\nQ 2250 441 2565 725 \r\nQ 2881 1009 2881 1497 \r\nQ 2881 1984 2565 2268 \r\nQ 2250 2553 1709 2553 \r\nQ 1456 2553 1204 2497 \r\nQ 953 2441 691 2322 \r\nL 691 4666 \r\nz\r\n\" id=\"DejaVuSans-35\" transform=\"scale(0.015625)\"/>\r\n       </defs>\r\n       <use xlink:href=\"#DejaVuSans-2212\"/>\r\n       <use x=\"83.789062\" xlink:href=\"#DejaVuSans-30\"/>\r\n       <use x=\"147.412109\" xlink:href=\"#DejaVuSans-2e\"/>\r\n       <use x=\"179.199219\" xlink:href=\"#DejaVuSans-35\"/>\r\n      </g>\r\n     </g>\r\n    </g>\r\n    <g id=\"xtick_2\">\r\n     <g id=\"line2d_2\">\r\n      <g>\r\n       <use style=\"stroke:#000000;stroke-width:0.8;\" x=\"121.19125\" xlink:href=\"#m8bf8eb3648\" y=\"314.6\"/>\r\n      </g>\r\n     </g>\r\n     <g id=\"text_2\">\r\n      <!-- 0.0 -->\r\n      <g transform=\"translate(113.239687 329.198437)scale(0.1 -0.1)\">\r\n       <use xlink:href=\"#DejaVuSans-30\"/>\r\n       <use x=\"63.623047\" xlink:href=\"#DejaVuSans-2e\"/>\r\n       <use x=\"95.410156\" xlink:href=\"#DejaVuSans-30\"/>\r\n      </g>\r\n     </g>\r\n    </g>\r\n    <g id=\"xtick_3\">\r\n     <g id=\"line2d_3\">\r\n      <g>\r\n       <use style=\"stroke:#000000;stroke-width:0.8;\" x=\"162.903998\" xlink:href=\"#m8bf8eb3648\" y=\"314.6\"/>\r\n      </g>\r\n     </g>\r\n     <g id=\"text_3\">\r\n      <!-- 0.5 -->\r\n      <g transform=\"translate(154.952435 329.198437)scale(0.1 -0.1)\">\r\n       <use xlink:href=\"#DejaVuSans-30\"/>\r\n       <use x=\"63.623047\" xlink:href=\"#DejaVuSans-2e\"/>\r\n       <use x=\"95.410156\" xlink:href=\"#DejaVuSans-35\"/>\r\n      </g>\r\n     </g>\r\n    </g>\r\n    <g id=\"xtick_4\">\r\n     <g id=\"line2d_4\">\r\n      <g>\r\n       <use style=\"stroke:#000000;stroke-width:0.8;\" x=\"204.616746\" xlink:href=\"#m8bf8eb3648\" y=\"314.6\"/>\r\n      </g>\r\n     </g>\r\n     <g id=\"text_4\">\r\n      <!-- 1.0 -->\r\n      <g transform=\"translate(196.665184 329.198437)scale(0.1 -0.1)\">\r\n       <defs>\r\n        <path d=\"M 794 531 \r\nL 1825 531 \r\nL 1825 4091 \r\nL 703 3866 \r\nL 703 4441 \r\nL 1819 4666 \r\nL 2450 4666 \r\nL 2450 531 \r\nL 3481 531 \r\nL 3481 0 \r\nL 794 0 \r\nL 794 531 \r\nz\r\n\" id=\"DejaVuSans-31\" transform=\"scale(0.015625)\"/>\r\n       </defs>\r\n       <use xlink:href=\"#DejaVuSans-31\"/>\r\n       <use x=\"63.623047\" xlink:href=\"#DejaVuSans-2e\"/>\r\n       <use x=\"95.410156\" xlink:href=\"#DejaVuSans-30\"/>\r\n      </g>\r\n     </g>\r\n    </g>\r\n    <g id=\"xtick_5\">\r\n     <g id=\"line2d_5\">\r\n      <g>\r\n       <use style=\"stroke:#000000;stroke-width:0.8;\" x=\"246.329494\" xlink:href=\"#m8bf8eb3648\" y=\"314.6\"/>\r\n      </g>\r\n     </g>\r\n     <g id=\"text_5\">\r\n      <!-- 1.5 -->\r\n      <g transform=\"translate(238.377932 329.198437)scale(0.1 -0.1)\">\r\n       <use xlink:href=\"#DejaVuSans-31\"/>\r\n       <use x=\"63.623047\" xlink:href=\"#DejaVuSans-2e\"/>\r\n       <use x=\"95.410156\" xlink:href=\"#DejaVuSans-35\"/>\r\n      </g>\r\n     </g>\r\n    </g>\r\n    <g id=\"xtick_6\">\r\n     <g id=\"line2d_6\">\r\n      <g>\r\n       <use style=\"stroke:#000000;stroke-width:0.8;\" x=\"288.042243\" xlink:href=\"#m8bf8eb3648\" y=\"314.6\"/>\r\n      </g>\r\n     </g>\r\n     <g id=\"text_6\">\r\n      <!-- 2.0 -->\r\n      <g transform=\"translate(280.09068 329.198437)scale(0.1 -0.1)\">\r\n       <defs>\r\n        <path d=\"M 1228 531 \r\nL 3431 531 \r\nL 3431 0 \r\nL 469 0 \r\nL 469 531 \r\nQ 828 903 1448 1529 \r\nQ 2069 2156 2228 2338 \r\nQ 2531 2678 2651 2914 \r\nQ 2772 3150 2772 3378 \r\nQ 2772 3750 2511 3984 \r\nQ 2250 4219 1831 4219 \r\nQ 1534 4219 1204 4116 \r\nQ 875 4013 500 3803 \r\nL 500 4441 \r\nQ 881 4594 1212 4672 \r\nQ 1544 4750 1819 4750 \r\nQ 2544 4750 2975 4387 \r\nQ 3406 4025 3406 3419 \r\nQ 3406 3131 3298 2873 \r\nQ 3191 2616 2906 2266 \r\nQ 2828 2175 2409 1742 \r\nQ 1991 1309 1228 531 \r\nz\r\n\" id=\"DejaVuSans-32\" transform=\"scale(0.015625)\"/>\r\n       </defs>\r\n       <use xlink:href=\"#DejaVuSans-32\"/>\r\n       <use x=\"63.623047\" xlink:href=\"#DejaVuSans-2e\"/>\r\n       <use x=\"95.410156\" xlink:href=\"#DejaVuSans-30\"/>\r\n      </g>\r\n     </g>\r\n    </g>\r\n    <g id=\"xtick_7\">\r\n     <g id=\"line2d_7\">\r\n      <g>\r\n       <use style=\"stroke:#000000;stroke-width:0.8;\" x=\"329.754991\" xlink:href=\"#m8bf8eb3648\" y=\"314.6\"/>\r\n      </g>\r\n     </g>\r\n     <g id=\"text_7\">\r\n      <!-- 2.5 -->\r\n      <g transform=\"translate(321.803429 329.198437)scale(0.1 -0.1)\">\r\n       <use xlink:href=\"#DejaVuSans-32\"/>\r\n       <use x=\"63.623047\" xlink:href=\"#DejaVuSans-2e\"/>\r\n       <use x=\"95.410156\" xlink:href=\"#DejaVuSans-35\"/>\r\n      </g>\r\n     </g>\r\n    </g>\r\n    <g id=\"text_8\">\r\n     <!-- SD -->\r\n     <g transform=\"translate(185.903906 342.876562)scale(0.1 -0.1)\">\r\n      <defs>\r\n       <path d=\"M 3425 4513 \r\nL 3425 3897 \r\nQ 3066 4069 2747 4153 \r\nQ 2428 4238 2131 4238 \r\nQ 1616 4238 1336 4038 \r\nQ 1056 3838 1056 3469 \r\nQ 1056 3159 1242 3001 \r\nQ 1428 2844 1947 2747 \r\nL 2328 2669 \r\nQ 3034 2534 3370 2195 \r\nQ 3706 1856 3706 1288 \r\nQ 3706 609 3251 259 \r\nQ 2797 -91 1919 -91 \r\nQ 1588 -91 1214 -16 \r\nQ 841 59 441 206 \r\nL 441 856 \r\nQ 825 641 1194 531 \r\nQ 1563 422 1919 422 \r\nQ 2459 422 2753 634 \r\nQ 3047 847 3047 1241 \r\nQ 3047 1584 2836 1778 \r\nQ 2625 1972 2144 2069 \r\nL 1759 2144 \r\nQ 1053 2284 737 2584 \r\nQ 422 2884 422 3419 \r\nQ 422 4038 858 4394 \r\nQ 1294 4750 2059 4750 \r\nQ 2388 4750 2728 4690 \r\nQ 3069 4631 3425 4513 \r\nz\r\n\" id=\"DejaVuSans-53\" transform=\"scale(0.015625)\"/>\r\n       <path d=\"M 1259 4147 \r\nL 1259 519 \r\nL 2022 519 \r\nQ 2988 519 3436 956 \r\nQ 3884 1394 3884 2338 \r\nQ 3884 3275 3436 3711 \r\nQ 2988 4147 2022 4147 \r\nL 1259 4147 \r\nz\r\nM 628 4666 \r\nL 1925 4666 \r\nQ 3281 4666 3915 4102 \r\nQ 4550 3538 4550 2338 \r\nQ 4550 1131 3912 565 \r\nQ 3275 0 1925 0 \r\nL 628 0 \r\nL 628 4666 \r\nz\r\n\" id=\"DejaVuSans-44\" transform=\"scale(0.015625)\"/>\r\n      </defs>\r\n      <use xlink:href=\"#DejaVuSans-53\"/>\r\n      <use x=\"63.476562\" xlink:href=\"#DejaVuSans-44\"/>\r\n     </g>\r\n    </g>\r\n   </g>\r\n   <g id=\"matplotlib.axis_2\">\r\n    <g id=\"ytick_1\">\r\n     <g id=\"line2d_8\">\r\n      <defs>\r\n       <path d=\"M 0 0 \r\nL -3.5 0 \r\n\" id=\"m17a3eb919b\" style=\"stroke:#000000;stroke-width:0.8;\"/>\r\n      </defs>\r\n      <g>\r\n       <use style=\"stroke:#000000;stroke-width:0.8;\" x=\"40.603125\" xlink:href=\"#m17a3eb919b\" y=\"314.6\"/>\r\n      </g>\r\n     </g>\r\n     <g id=\"text_9\">\r\n      <!-- 0 -->\r\n      <g transform=\"translate(27.240625 318.399219)scale(0.1 -0.1)\">\r\n       <use xlink:href=\"#DejaVuSans-30\"/>\r\n      </g>\r\n     </g>\r\n    </g>\r\n    <g id=\"ytick_2\">\r\n     <g id=\"line2d_9\">\r\n      <g>\r\n       <use style=\"stroke:#000000;stroke-width:0.8;\" x=\"40.603125\" xlink:href=\"#m17a3eb919b\" y=\"268.855952\"/>\r\n      </g>\r\n     </g>\r\n     <g id=\"text_10\">\r\n      <!-- 5 -->\r\n      <g transform=\"translate(27.240625 272.655171)scale(0.1 -0.1)\">\r\n       <use xlink:href=\"#DejaVuSans-35\"/>\r\n      </g>\r\n     </g>\r\n    </g>\r\n    <g id=\"ytick_3\">\r\n     <g id=\"line2d_10\">\r\n      <g>\r\n       <use style=\"stroke:#000000;stroke-width:0.8;\" x=\"40.603125\" xlink:href=\"#m17a3eb919b\" y=\"223.111905\"/>\r\n      </g>\r\n     </g>\r\n     <g id=\"text_11\">\r\n      <!-- 10 -->\r\n      <g transform=\"translate(20.878125 226.911124)scale(0.1 -0.1)\">\r\n       <use xlink:href=\"#DejaVuSans-31\"/>\r\n       <use x=\"63.623047\" xlink:href=\"#DejaVuSans-30\"/>\r\n      </g>\r\n     </g>\r\n    </g>\r\n    <g id=\"ytick_4\">\r\n     <g id=\"line2d_11\">\r\n      <g>\r\n       <use style=\"stroke:#000000;stroke-width:0.8;\" x=\"40.603125\" xlink:href=\"#m17a3eb919b\" y=\"177.367857\"/>\r\n      </g>\r\n     </g>\r\n     <g id=\"text_12\">\r\n      <!-- 15 -->\r\n      <g transform=\"translate(20.878125 181.167076)scale(0.1 -0.1)\">\r\n       <use xlink:href=\"#DejaVuSans-31\"/>\r\n       <use x=\"63.623047\" xlink:href=\"#DejaVuSans-35\"/>\r\n      </g>\r\n     </g>\r\n    </g>\r\n    <g id=\"ytick_5\">\r\n     <g id=\"line2d_12\">\r\n      <g>\r\n       <use style=\"stroke:#000000;stroke-width:0.8;\" x=\"40.603125\" xlink:href=\"#m17a3eb919b\" y=\"131.62381\"/>\r\n      </g>\r\n     </g>\r\n     <g id=\"text_13\">\r\n      <!-- 20 -->\r\n      <g transform=\"translate(20.878125 135.423028)scale(0.1 -0.1)\">\r\n       <use xlink:href=\"#DejaVuSans-32\"/>\r\n       <use x=\"63.623047\" xlink:href=\"#DejaVuSans-30\"/>\r\n      </g>\r\n     </g>\r\n    </g>\r\n    <g id=\"ytick_6\">\r\n     <g id=\"line2d_13\">\r\n      <g>\r\n       <use style=\"stroke:#000000;stroke-width:0.8;\" x=\"40.603125\" xlink:href=\"#m17a3eb919b\" y=\"85.879762\"/>\r\n      </g>\r\n     </g>\r\n     <g id=\"text_14\">\r\n      <!-- 25 -->\r\n      <g transform=\"translate(20.878125 89.678981)scale(0.1 -0.1)\">\r\n       <use xlink:href=\"#DejaVuSans-32\"/>\r\n       <use x=\"63.623047\" xlink:href=\"#DejaVuSans-35\"/>\r\n      </g>\r\n     </g>\r\n    </g>\r\n    <g id=\"ytick_7\">\r\n     <g id=\"line2d_14\">\r\n      <g>\r\n       <use style=\"stroke:#000000;stroke-width:0.8;\" x=\"40.603125\" xlink:href=\"#m17a3eb919b\" y=\"40.135714\"/>\r\n      </g>\r\n     </g>\r\n     <g id=\"text_15\">\r\n      <!-- 30 -->\r\n      <g transform=\"translate(20.878125 43.934933)scale(0.1 -0.1)\">\r\n       <defs>\r\n        <path d=\"M 2597 2516 \r\nQ 3050 2419 3304 2112 \r\nQ 3559 1806 3559 1356 \r\nQ 3559 666 3084 287 \r\nQ 2609 -91 1734 -91 \r\nQ 1441 -91 1130 -33 \r\nQ 819 25 488 141 \r\nL 488 750 \r\nQ 750 597 1062 519 \r\nQ 1375 441 1716 441 \r\nQ 2309 441 2620 675 \r\nQ 2931 909 2931 1356 \r\nQ 2931 1769 2642 2001 \r\nQ 2353 2234 1838 2234 \r\nL 1294 2234 \r\nL 1294 2753 \r\nL 1863 2753 \r\nQ 2328 2753 2575 2939 \r\nQ 2822 3125 2822 3475 \r\nQ 2822 3834 2567 4026 \r\nQ 2313 4219 1838 4219 \r\nQ 1578 4219 1281 4162 \r\nQ 984 4106 628 3988 \r\nL 628 4550 \r\nQ 988 4650 1302 4700 \r\nQ 1616 4750 1894 4750 \r\nQ 2613 4750 3031 4423 \r\nQ 3450 4097 3450 3541 \r\nQ 3450 3153 3228 2886 \r\nQ 3006 2619 2597 2516 \r\nz\r\n\" id=\"DejaVuSans-33\" transform=\"scale(0.015625)\"/>\r\n       </defs>\r\n       <use xlink:href=\"#DejaVuSans-33\"/>\r\n       <use x=\"63.623047\" xlink:href=\"#DejaVuSans-30\"/>\r\n      </g>\r\n     </g>\r\n    </g>\r\n    <g id=\"text_16\">\r\n     <!-- Count -->\r\n     <g transform=\"translate(14.798438 175.748437)rotate(-90)scale(0.1 -0.1)\">\r\n      <defs>\r\n       <path d=\"M 4122 4306 \r\nL 4122 3641 \r\nQ 3803 3938 3442 4084 \r\nQ 3081 4231 2675 4231 \r\nQ 1875 4231 1450 3742 \r\nQ 1025 3253 1025 2328 \r\nQ 1025 1406 1450 917 \r\nQ 1875 428 2675 428 \r\nQ 3081 428 3442 575 \r\nQ 3803 722 4122 1019 \r\nL 4122 359 \r\nQ 3791 134 3420 21 \r\nQ 3050 -91 2638 -91 \r\nQ 1578 -91 968 557 \r\nQ 359 1206 359 2328 \r\nQ 359 3453 968 4101 \r\nQ 1578 4750 2638 4750 \r\nQ 3056 4750 3426 4639 \r\nQ 3797 4528 4122 4306 \r\nz\r\n\" id=\"DejaVuSans-43\" transform=\"scale(0.015625)\"/>\r\n       <path d=\"M 1959 3097 \r\nQ 1497 3097 1228 2736 \r\nQ 959 2375 959 1747 \r\nQ 959 1119 1226 758 \r\nQ 1494 397 1959 397 \r\nQ 2419 397 2687 759 \r\nQ 2956 1122 2956 1747 \r\nQ 2956 2369 2687 2733 \r\nQ 2419 3097 1959 3097 \r\nz\r\nM 1959 3584 \r\nQ 2709 3584 3137 3096 \r\nQ 3566 2609 3566 1747 \r\nQ 3566 888 3137 398 \r\nQ 2709 -91 1959 -91 \r\nQ 1206 -91 779 398 \r\nQ 353 888 353 1747 \r\nQ 353 2609 779 3096 \r\nQ 1206 3584 1959 3584 \r\nz\r\n\" id=\"DejaVuSans-6f\" transform=\"scale(0.015625)\"/>\r\n       <path d=\"M 544 1381 \r\nL 544 3500 \r\nL 1119 3500 \r\nL 1119 1403 \r\nQ 1119 906 1312 657 \r\nQ 1506 409 1894 409 \r\nQ 2359 409 2629 706 \r\nQ 2900 1003 2900 1516 \r\nL 2900 3500 \r\nL 3475 3500 \r\nL 3475 0 \r\nL 2900 0 \r\nL 2900 538 \r\nQ 2691 219 2414 64 \r\nQ 2138 -91 1772 -91 \r\nQ 1169 -91 856 284 \r\nQ 544 659 544 1381 \r\nz\r\nM 1991 3584 \r\nL 1991 3584 \r\nz\r\n\" id=\"DejaVuSans-75\" transform=\"scale(0.015625)\"/>\r\n       <path d=\"M 3513 2113 \r\nL 3513 0 \r\nL 2938 0 \r\nL 2938 2094 \r\nQ 2938 2591 2744 2837 \r\nQ 2550 3084 2163 3084 \r\nQ 1697 3084 1428 2787 \r\nQ 1159 2491 1159 1978 \r\nL 1159 0 \r\nL 581 0 \r\nL 581 3500 \r\nL 1159 3500 \r\nL 1159 2956 \r\nQ 1366 3272 1645 3428 \r\nQ 1925 3584 2291 3584 \r\nQ 2894 3584 3203 3211 \r\nQ 3513 2838 3513 2113 \r\nz\r\n\" id=\"DejaVuSans-6e\" transform=\"scale(0.015625)\"/>\r\n       <path d=\"M 1172 4494 \r\nL 1172 3500 \r\nL 2356 3500 \r\nL 2356 3053 \r\nL 1172 3053 \r\nL 1172 1153 \r\nQ 1172 725 1289 603 \r\nQ 1406 481 1766 481 \r\nL 2356 481 \r\nL 2356 0 \r\nL 1766 0 \r\nQ 1100 0 847 248 \r\nQ 594 497 594 1153 \r\nL 594 3053 \r\nL 172 3053 \r\nL 172 3500 \r\nL 594 3500 \r\nL 594 4494 \r\nL 1172 4494 \r\nz\r\n\" id=\"DejaVuSans-74\" transform=\"scale(0.015625)\"/>\r\n      </defs>\r\n      <use xlink:href=\"#DejaVuSans-43\"/>\r\n      <use x=\"69.824219\" xlink:href=\"#DejaVuSans-6f\"/>\r\n      <use x=\"131.005859\" xlink:href=\"#DejaVuSans-75\"/>\r\n      <use x=\"194.384766\" xlink:href=\"#DejaVuSans-6e\"/>\r\n      <use x=\"257.763672\" xlink:href=\"#DejaVuSans-74\"/>\r\n     </g>\r\n    </g>\r\n   </g>\r\n   <g id=\"line2d_15\">\r\n    <path clip-path=\"url(#p2aaf1f5dde)\" d=\"M 54.450852 302.735643 \r\nL 60.017778 300.22749 \r\nL 64.192972 298.16047 \r\nL 68.368166 295.834314 \r\nL 71.151629 294.089683 \r\nL 73.935092 292.157615 \r\nL 76.718554 290.015987 \r\nL 79.502017 287.649817 \r\nL 82.28548 285.052239 \r\nL 85.068943 282.224419 \r\nL 89.244137 277.570018 \r\nL 93.419331 272.461439 \r\nL 97.594525 266.94483 \r\nL 101.769719 261.042184 \r\nL 105.944913 254.727965 \r\nL 110.120108 247.914968 \r\nL 112.90357 243.025106 \r\nL 115.687033 237.794212 \r\nL 118.470496 232.164341 \r\nL 121.253959 226.080415 \r\nL 124.037421 219.496823 \r\nL 126.820884 212.383738 \r\nL 129.604347 204.732297 \r\nL 132.38781 196.557953 \r\nL 136.563004 183.41211 \r\nL 140.738198 169.424073 \r\nL 157.438975 112.239962 \r\nL 160.222437 103.637596 \r\nL 163.0059 95.565726 \r\nL 165.789363 88.101244 \r\nL 168.572826 81.309253 \r\nL 171.356289 75.242781 \r\nL 174.139751 69.942642 \r\nL 176.923214 65.437413 \r\nL 178.314945 63.488499 \r\nL 179.706677 61.743544 \r\nL 181.098408 60.202745 \r\nL 182.49014 58.865569 \r\nL 183.881871 57.730768 \r\nL 185.273602 56.796386 \r\nL 186.665334 56.05977 \r\nL 188.057065 55.517578 \r\nL 189.448797 55.165792 \r\nL 190.840528 54.999725 \r\nL 192.232259 55.014033 \r\nL 193.623991 55.202726 \r\nL 195.015722 55.559186 \r\nL 196.407453 56.076184 \r\nL 197.799185 56.745902 \r\nL 199.190916 57.55997 \r\nL 201.974379 59.585138 \r\nL 204.757842 62.075365 \r\nL 207.541305 64.949111 \r\nL 210.324767 68.122623 \r\nL 214.499961 73.266947 \r\nL 222.85035 84.11918 \r\nL 232.592469 96.987162 \r\nL 236.767664 102.880467 \r\nL 239.551126 107.123861 \r\nL 242.334589 111.721329 \r\nL 245.118052 116.752043 \r\nL 247.901515 122.277323 \r\nL 250.684977 128.333174 \r\nL 253.46844 134.925494 \r\nL 256.251903 142.028469 \r\nL 260.427097 153.51107 \r\nL 264.602291 165.721757 \r\nL 277.127874 203.037713 \r\nL 281.303068 214.580252 \r\nL 285.478262 225.288909 \r\nL 288.261725 231.913801 \r\nL 291.045188 238.117365 \r\nL 293.82865 243.908713 \r\nL 296.612113 249.310009 \r\nL 299.395576 254.353417 \r\nL 303.57077 261.332762 \r\nL 307.745964 267.731484 \r\nL 311.921158 273.671655 \r\nL 316.096353 279.238258 \r\nL 320.271547 284.468483 \r\nL 324.446741 289.354203 \r\nL 328.621935 293.85541 \r\nL 331.405398 296.616437 \r\nL 331.405398 296.616437 \r\n\" style=\"fill:none;stroke:#008000;stroke-linecap:square;stroke-width:1.5;\"/>\r\n   </g>\r\n   <g id=\"patch_15\">\r\n    <path d=\"M 40.603125 314.6 \r\nL 40.603125 7.2 \r\n\" style=\"fill:none;stroke:#000000;stroke-linecap:square;stroke-linejoin:miter;stroke-width:0.8;\"/>\r\n   </g>\r\n   <g id=\"patch_16\">\r\n    <path d=\"M 40.603125 314.6 \r\nL 345.253125 314.6 \r\n\" style=\"fill:none;stroke:#000000;stroke-linecap:square;stroke-linejoin:miter;stroke-width:0.8;\"/>\r\n   </g>\r\n  </g>\r\n </g>\r\n <defs>\r\n  <clipPath id=\"p2aaf1f5dde\">\r\n   <rect height=\"307.4\" width=\"304.65\" x=\"40.603125\" y=\"7.2\"/>\r\n  </clipPath>\r\n </defs>\r\n</svg>\r\n",
      "image/png": "[encoded data removed]"
     },
     "metadata": {
      "needs_background": "light"
     }
    }
   ],
   "source": [
    "sns.displot(df['OT'], kind='hist', kde=True, bins=int(6/0.5), color = 'blue')\n",
    "sns.displot(df['SD'], kind='hist', kde=True, bins=int(6/0.5), color = 'green')"
   ]
  },
  {
   "cell_type": "code",
   "execution_count": 843,
   "metadata": {},
   "outputs": [],
   "source": [
    "import sklearn as skl\n",
    "from sklearn.preprocessing import MinMaxScaler"
   ]
  },
  {
   "cell_type": "code",
   "execution_count": 844,
   "metadata": {},
   "outputs": [],
   "source": [
    "scaler=MinMaxScaler()"
   ]
  },
  {
   "cell_type": "code",
   "execution_count": 845,
   "metadata": {},
   "outputs": [
    {
     "output_type": "stream",
     "name": "stderr",
     "text": [
      "<ipython-input-845-319456b0b577>:1: SettingWithCopyWarning: \nA value is trying to be set on a copy of a slice from a DataFrame.\nTry using .loc[row_indexer,col_indexer] = value instead\n\nSee the caveats in the documentation: https://pandas.pydata.org/pandas-docs/stable/user_guide/indexing.html#returning-a-view-versus-a-copy\n  var_cuant[['SD','OT','CIP', 'Prod Bruta', 'Prod Neta','Corr según H2S (g)','BSRp','Corrosión según Fe+2','Corr según CO2 (aq)','Corr según CO2 (g)']]=scaler.fit_transform(var_cuant)\nC:\\Users\\gfernandez\\AppData\\Local\\Programs\\Python\\Python39\\lib\\site-packages\\pandas\\core\\indexing.py:1637: SettingWithCopyWarning: \nA value is trying to be set on a copy of a slice from a DataFrame\n\nSee the caveats in the documentation: https://pandas.pydata.org/pandas-docs/stable/user_guide/indexing.html#returning-a-view-versus-a-copy\n  self._setitem_single_block(indexer, value, name)\nC:\\Users\\gfernandez\\AppData\\Local\\Programs\\Python\\Python39\\lib\\site-packages\\pandas\\core\\indexing.py:692: SettingWithCopyWarning: \nA value is trying to be set on a copy of a slice from a DataFrame\n\nSee the caveats in the documentation: https://pandas.pydata.org/pandas-docs/stable/user_guide/indexing.html#returning-a-view-versus-a-copy\n  iloc._setitem_with_indexer(indexer, value, self.name)\nC:\\Users\\gfernandez\\AppData\\Local\\Programs\\Python\\Python39\\lib\\site-packages\\pandas\\core\\frame.py:4462: SettingWithCopyWarning: \nA value is trying to be set on a copy of a slice from a DataFrame\n\nSee the caveats in the documentation: https://pandas.pydata.org/pandas-docs/stable/user_guide/indexing.html#returning-a-view-versus-a-copy\n  return super().fillna(\n"
     ]
    },
    {
     "output_type": "execute_result",
     "data": {
      "text/plain": [
       "         SD        OT       CIP  Prod Bruta  Prod Neta  Corr según H2S (g)  \\\n",
       "0  0.572327  0.594919  0.582524    0.079096   0.005365            0.141212   \n",
       "1  0.632571  0.561868  0.629355    0.621469   0.039624            0.070606   \n",
       "2  0.632571  0.694072  0.629355    0.059322   0.013046            0.000000   \n",
       "3  0.210857  0.231357  0.384923    0.070621   0.012192            0.000000   \n",
       "4  0.930673  0.916474  0.480552    0.522599   0.022860            0.315261   \n",
       "\n",
       "    BSRp  Corrosión según Fe+2  Corr según CO2 (aq)  Corr según CO2 (g)  \n",
       "0  0.000              0.027395             0.194619            0.003883  \n",
       "1  0.625              0.250158             0.809709            0.004854  \n",
       "2  0.125              0.134812             0.000000            0.029773  \n",
       "3  0.250              0.340994             0.080184            0.003560  \n",
       "4  0.000              0.058022             0.187280            0.028907  "
      ],
      "text/html": "<div>\n<style scoped>\n    .dataframe tbody tr th:only-of-type {\n        vertical-align: middle;\n    }\n\n    .dataframe tbody tr th {\n        vertical-align: top;\n    }\n\n    .dataframe thead th {\n        text-align: right;\n    }\n</style>\n<table border=\"1\" class=\"dataframe\">\n  <thead>\n    <tr style=\"text-align: right;\">\n      <th></th>\n      <th>SD</th>\n      <th>OT</th>\n      <th>CIP</th>\n      <th>Prod Bruta</th>\n      <th>Prod Neta</th>\n      <th>Corr según H2S (g)</th>\n      <th>BSRp</th>\n      <th>Corrosión según Fe+2</th>\n      <th>Corr según CO2 (aq)</th>\n      <th>Corr según CO2 (g)</th>\n    </tr>\n  </thead>\n  <tbody>\n    <tr>\n      <th>0</th>\n      <td>0.572327</td>\n      <td>0.594919</td>\n      <td>0.582524</td>\n      <td>0.079096</td>\n      <td>0.005365</td>\n      <td>0.141212</td>\n      <td>0.000</td>\n      <td>0.027395</td>\n      <td>0.194619</td>\n      <td>0.003883</td>\n    </tr>\n    <tr>\n      <th>1</th>\n      <td>0.632571</td>\n      <td>0.561868</td>\n      <td>0.629355</td>\n      <td>0.621469</td>\n      <td>0.039624</td>\n      <td>0.070606</td>\n      <td>0.625</td>\n      <td>0.250158</td>\n      <td>0.809709</td>\n      <td>0.004854</td>\n    </tr>\n    <tr>\n      <th>2</th>\n      <td>0.632571</td>\n      <td>0.694072</td>\n      <td>0.629355</td>\n      <td>0.059322</td>\n      <td>0.013046</td>\n      <td>0.000000</td>\n      <td>0.125</td>\n      <td>0.134812</td>\n      <td>0.000000</td>\n      <td>0.029773</td>\n    </tr>\n    <tr>\n      <th>3</th>\n      <td>0.210857</td>\n      <td>0.231357</td>\n      <td>0.384923</td>\n      <td>0.070621</td>\n      <td>0.012192</td>\n      <td>0.000000</td>\n      <td>0.250</td>\n      <td>0.340994</td>\n      <td>0.080184</td>\n      <td>0.003560</td>\n    </tr>\n    <tr>\n      <th>4</th>\n      <td>0.930673</td>\n      <td>0.916474</td>\n      <td>0.480552</td>\n      <td>0.522599</td>\n      <td>0.022860</td>\n      <td>0.315261</td>\n      <td>0.000</td>\n      <td>0.058022</td>\n      <td>0.187280</td>\n      <td>0.028907</td>\n    </tr>\n  </tbody>\n</table>\n</div>"
     },
     "metadata": {},
     "execution_count": 845
    }
   ],
   "source": [
    "var_cuant[['SD','OT','CIP', 'Prod Bruta', 'Prod Neta','Corr según H2S (g)','BSRp','Corrosión según Fe+2','Corr según CO2 (aq)','Corr según CO2 (g)']]=scaler.fit_transform(var_cuant)\n",
    "var_cuant.fillna(0, inplace= True)\n",
    "var_cuant.head()\n"
   ]
  },
  {
   "source": [
    "#### Unir variables cualitativas con cuantitativas en dataframe de variables de entrada"
   ],
   "cell_type": "markdown",
   "metadata": {}
  },
  {
   "cell_type": "code",
   "execution_count": 846,
   "metadata": {},
   "outputs": [
    {
     "output_type": "execute_result",
     "data": {
      "text/plain": [
       "         SD        OT       CIP  Prod Bruta  Prod Neta  Corr según H2S (g)  \\\n",
       "0  0.572327  0.594919  0.582524    0.079096   0.005365            0.141212   \n",
       "1  0.632571  0.561868  0.629355    0.621469   0.039624            0.070606   \n",
       "2  0.632571  0.694072  0.629355    0.059322   0.013046            0.000000   \n",
       "3  0.210857  0.231357  0.384923    0.070621   0.012192            0.000000   \n",
       "4  0.930673  0.916474  0.480552    0.522599   0.022860            0.315261   \n",
       "\n",
       "    BSRp  Corrosión según Fe+2  Corr según CO2 (aq)  Corr según CO2 (g) SLA  \n",
       "0  0.000              0.027395             0.194619            0.003883   0  \n",
       "1  0.625              0.250158             0.809709            0.004854   1  \n",
       "2  0.125              0.134812             0.000000            0.029773   0  \n",
       "3  0.250              0.340994             0.080184            0.003560   0  \n",
       "4  0.000              0.058022             0.187280            0.028907   1  "
      ],
      "text/html": "<div>\n<style scoped>\n    .dataframe tbody tr th:only-of-type {\n        vertical-align: middle;\n    }\n\n    .dataframe tbody tr th {\n        vertical-align: top;\n    }\n\n    .dataframe thead th {\n        text-align: right;\n    }\n</style>\n<table border=\"1\" class=\"dataframe\">\n  <thead>\n    <tr style=\"text-align: right;\">\n      <th></th>\n      <th>SD</th>\n      <th>OT</th>\n      <th>CIP</th>\n      <th>Prod Bruta</th>\n      <th>Prod Neta</th>\n      <th>Corr según H2S (g)</th>\n      <th>BSRp</th>\n      <th>Corrosión según Fe+2</th>\n      <th>Corr según CO2 (aq)</th>\n      <th>Corr según CO2 (g)</th>\n      <th>SLA</th>\n    </tr>\n  </thead>\n  <tbody>\n    <tr>\n      <th>0</th>\n      <td>0.572327</td>\n      <td>0.594919</td>\n      <td>0.582524</td>\n      <td>0.079096</td>\n      <td>0.005365</td>\n      <td>0.141212</td>\n      <td>0.000</td>\n      <td>0.027395</td>\n      <td>0.194619</td>\n      <td>0.003883</td>\n      <td>0</td>\n    </tr>\n    <tr>\n      <th>1</th>\n      <td>0.632571</td>\n      <td>0.561868</td>\n      <td>0.629355</td>\n      <td>0.621469</td>\n      <td>0.039624</td>\n      <td>0.070606</td>\n      <td>0.625</td>\n      <td>0.250158</td>\n      <td>0.809709</td>\n      <td>0.004854</td>\n      <td>1</td>\n    </tr>\n    <tr>\n      <th>2</th>\n      <td>0.632571</td>\n      <td>0.694072</td>\n      <td>0.629355</td>\n      <td>0.059322</td>\n      <td>0.013046</td>\n      <td>0.000000</td>\n      <td>0.125</td>\n      <td>0.134812</td>\n      <td>0.000000</td>\n      <td>0.029773</td>\n      <td>0</td>\n    </tr>\n    <tr>\n      <th>3</th>\n      <td>0.210857</td>\n      <td>0.231357</td>\n      <td>0.384923</td>\n      <td>0.070621</td>\n      <td>0.012192</td>\n      <td>0.000000</td>\n      <td>0.250</td>\n      <td>0.340994</td>\n      <td>0.080184</td>\n      <td>0.003560</td>\n      <td>0</td>\n    </tr>\n    <tr>\n      <th>4</th>\n      <td>0.930673</td>\n      <td>0.916474</td>\n      <td>0.480552</td>\n      <td>0.522599</td>\n      <td>0.022860</td>\n      <td>0.315261</td>\n      <td>0.000</td>\n      <td>0.058022</td>\n      <td>0.187280</td>\n      <td>0.028907</td>\n      <td>1</td>\n    </tr>\n  </tbody>\n</table>\n</div>"
     },
     "metadata": {},
     "execution_count": 846
    }
   ],
   "source": [
    "var_input=var_cuant.join(var_cual)\n",
    "var_input.head()"
   ]
  },
  {
   "source": [
    "### Las variables de salida para la Neural Network serían las siguientes 6, representando cada tipo de Tratamiento de I&C:\n",
    "\n",
    "                        DS   = Tratamiento desincrustante batch\n",
    "                        IC = Tratamiento inhibidor de incrustaciones continuo\n",
    "                        CY.C = Tratamiento inhibidor de corrosión continuo  \n",
    "                        CY.B = Tratamiento inhibidor de corrosión batch\n",
    "                        BX.C = Tratamiento bactericida continuo\n",
    "                        BX.B = Tratamiento bactericida batch"
   ],
   "cell_type": "markdown",
   "metadata": {}
  },
  {
   "source": [
    "#### Definición de las variables de salida cualitativas en términos binarios\n",
    "\n",
    "Se crean columnas conteniendo 1 o 0 en cada fila en función de haberse o no recomendado determinado tratamiento."
   ],
   "cell_type": "markdown",
   "metadata": {}
  },
  {
   "cell_type": "code",
   "execution_count": 847,
   "metadata": {},
   "outputs": [],
   "source": [
    "output=['DS', 'IC','CY.C', 'CY.B', 'BX.C','BX.B']\n",
    "\n",
    "var_output=pd.DataFrame(np.zeros((len(df['Número de protocolo']),len(output))), columns=output)"
   ]
  },
  {
   "cell_type": "code",
   "execution_count": 848,
   "metadata": {},
   "outputs": [],
   "source": [
    "DI=['DS','IC']\n",
    "num=[1,2,3]\n",
    "\n",
    "for j in DI:\n",
    "    for n in num:\n",
    "        for i in range(len(var_output[j])): \n",
    "            if j in str(df[f'PQ Propuesto {n}'][i]):\n",
    "                var_output[j][i]=1\n",
    "            else: \n",
    "                None"
   ]
  },
  {
   "cell_type": "code",
   "execution_count": 849,
   "metadata": {},
   "outputs": [
    {
     "output_type": "execute_result",
     "data": {
      "text/plain": [
       "      DS   IC  CY.C  CY.B  BX.C  BX.B\n",
       "0    0.0  0.0   0.0   1.0   0.0   0.0\n",
       "1    0.0  1.0   0.0   0.0   0.0   1.0\n",
       "2    0.0  1.0   0.0   0.0   0.0   0.0\n",
       "3    0.0  0.0   0.0   1.0   0.0   0.0\n",
       "4    0.0  1.0   0.0   1.0   0.0   0.0\n",
       "..   ...  ...   ...   ...   ...   ...\n",
       "172  0.0  0.0   0.0   1.0   0.0   0.0\n",
       "173  0.0  0.0   0.0   1.0   0.0   0.0\n",
       "174  0.0  0.0   0.0   1.0   0.0   1.0\n",
       "175  0.0  1.0   0.0   1.0   0.0   0.0\n",
       "176  0.0  0.0   0.0   1.0   0.0   1.0\n",
       "\n",
       "[177 rows x 6 columns]"
      ],
      "text/html": "<div>\n<style scoped>\n    .dataframe tbody tr th:only-of-type {\n        vertical-align: middle;\n    }\n\n    .dataframe tbody tr th {\n        vertical-align: top;\n    }\n\n    .dataframe thead th {\n        text-align: right;\n    }\n</style>\n<table border=\"1\" class=\"dataframe\">\n  <thead>\n    <tr style=\"text-align: right;\">\n      <th></th>\n      <th>DS</th>\n      <th>IC</th>\n      <th>CY.C</th>\n      <th>CY.B</th>\n      <th>BX.C</th>\n      <th>BX.B</th>\n    </tr>\n  </thead>\n  <tbody>\n    <tr>\n      <th>0</th>\n      <td>0.0</td>\n      <td>0.0</td>\n      <td>0.0</td>\n      <td>1.0</td>\n      <td>0.0</td>\n      <td>0.0</td>\n    </tr>\n    <tr>\n      <th>1</th>\n      <td>0.0</td>\n      <td>1.0</td>\n      <td>0.0</td>\n      <td>0.0</td>\n      <td>0.0</td>\n      <td>1.0</td>\n    </tr>\n    <tr>\n      <th>2</th>\n      <td>0.0</td>\n      <td>1.0</td>\n      <td>0.0</td>\n      <td>0.0</td>\n      <td>0.0</td>\n      <td>0.0</td>\n    </tr>\n    <tr>\n      <th>3</th>\n      <td>0.0</td>\n      <td>0.0</td>\n      <td>0.0</td>\n      <td>1.0</td>\n      <td>0.0</td>\n      <td>0.0</td>\n    </tr>\n    <tr>\n      <th>4</th>\n      <td>0.0</td>\n      <td>1.0</td>\n      <td>0.0</td>\n      <td>1.0</td>\n      <td>0.0</td>\n      <td>0.0</td>\n    </tr>\n    <tr>\n      <th>...</th>\n      <td>...</td>\n      <td>...</td>\n      <td>...</td>\n      <td>...</td>\n      <td>...</td>\n      <td>...</td>\n    </tr>\n    <tr>\n      <th>172</th>\n      <td>0.0</td>\n      <td>0.0</td>\n      <td>0.0</td>\n      <td>1.0</td>\n      <td>0.0</td>\n      <td>0.0</td>\n    </tr>\n    <tr>\n      <th>173</th>\n      <td>0.0</td>\n      <td>0.0</td>\n      <td>0.0</td>\n      <td>1.0</td>\n      <td>0.0</td>\n      <td>0.0</td>\n    </tr>\n    <tr>\n      <th>174</th>\n      <td>0.0</td>\n      <td>0.0</td>\n      <td>0.0</td>\n      <td>1.0</td>\n      <td>0.0</td>\n      <td>1.0</td>\n    </tr>\n    <tr>\n      <th>175</th>\n      <td>0.0</td>\n      <td>1.0</td>\n      <td>0.0</td>\n      <td>1.0</td>\n      <td>0.0</td>\n      <td>0.0</td>\n    </tr>\n    <tr>\n      <th>176</th>\n      <td>0.0</td>\n      <td>0.0</td>\n      <td>0.0</td>\n      <td>1.0</td>\n      <td>0.0</td>\n      <td>1.0</td>\n    </tr>\n  </tbody>\n</table>\n<p>177 rows × 6 columns</p>\n</div>"
     },
     "metadata": {},
     "execution_count": 849
    }
   ],
   "source": [
    "CB=['CY', 'BX']\n",
    "\n",
    "for n in num:\n",
    "    for PQ in CB:    \n",
    "        for i in range(len(var_output['DS'])): \n",
    "            if PQ in str(df[f'PQ Propuesto {n}'][i]):\n",
    "                if 'Batch' in str(df[f'Modalidad PQ Propuesto {n}'][i]): \n",
    "                    var_output[PQ+'.B'][i]=1\n",
    "                else:\n",
    "                    var_output[PQ+'.C'][i]=1\n",
    "            else:\n",
    "                None\n",
    "\n",
    "var_output"
   ]
  },
  {
   "source": [
    "Se realiza un split sobre el dataset para luego testear la precisión del modelo. Se decida utilizar 80% de los datos para entrenar la red neuronal y el 20% restante para el accuracy test. Los datos son segmentados de manera aleatoria."
   ],
   "cell_type": "markdown",
   "metadata": {}
  },
  {
   "cell_type": "code",
   "execution_count": 850,
   "metadata": {},
   "outputs": [],
   "source": [
    "from sklearn.model_selection import train_test_split"
   ]
  },
  {
   "cell_type": "code",
   "execution_count": 851,
   "metadata": {},
   "outputs": [],
   "source": [
    "var_input=np.asarray(var_input).astype('float32')\n",
    "X=var_input\n",
    "y=var_output"
   ]
  },
  {
   "cell_type": "code",
   "execution_count": 852,
   "metadata": {},
   "outputs": [],
   "source": [
    "X_train, X_test, y_train, y_test = train_test_split(X,y,test_size=0.2, random_state=42)"
   ]
  },
  {
   "cell_type": "code",
   "execution_count": 853,
   "metadata": {},
   "outputs": [],
   "source": [
    "import tensorflow as tf\n",
    "from tensorflow import keras"
   ]
  },
  {
   "source": [
    "Se importan de Keras los módulos Dense, Dropout y Sequential.\n",
    "\n",
    "        La técnica Dropout se utiliza para minimizar el over-fitting y consite en reducir de manera aleatoria el número de neuronas interconectadas dentro de una red neuronal. A cada iteración del entrenamiento, cada neurona tiene una probabilidad de que su contribución sea considerada o no para las neuronas conectadas. \n",
    "\n",
    "        Dense\n",
    "\n",
    "        Sequential"
   ],
   "cell_type": "markdown",
   "metadata": {}
  },
  {
   "cell_type": "code",
   "execution_count": 854,
   "metadata": {},
   "outputs": [],
   "source": [
    "from tensorflow.keras.layers import Dense,Dropout\n",
    "from tensorflow.keras.models import Sequential"
   ]
  },
  {
   "cell_type": "code",
   "execution_count": 855,
   "metadata": {},
   "outputs": [],
   "source": [
    "model=keras.Sequential()\n",
    "\n",
    "model.add(Dense(11,activation='relu'))\n",
    "model.add(Dropout(0.2))\n",
    "model.add(Dense(12,activation='relu'))\n",
    "model.add(Dropout(0.2))\n",
    "model.add(Dense(12,activation='relu'))\n",
    "model.add(Dropout(0.2))\n",
    "model.add(Dense(12,activation='relu'))\n",
    "model.add(Dropout(0.2))\n",
    "model.add(Dense(6,activation='sigmoid'))\n",
    "model.compile(loss='binary_crossentropy',optimizer='adam')"
   ]
  },
  {
   "cell_type": "code",
   "execution_count": 856,
   "metadata": {},
   "outputs": [],
   "source": [
    "from tensorflow.keras.callbacks import EarlyStopping"
   ]
  },
  {
   "cell_type": "code",
   "execution_count": 857,
   "metadata": {},
   "outputs": [],
   "source": [
    "parada=EarlyStopping(monitor='val_loss',patience=5,min_delta=0)"
   ]
  },
  {
   "cell_type": "code",
   "execution_count": 858,
   "metadata": {
    "tags": [
     "outputPrepend"
    ]
   },
   "outputs": [
    {
     "output_type": "stream",
     "name": "stdout",
     "text": [
      "Epoch 499/700\n",
      "5/5 [==============================] - 0s 5ms/step - loss: 0.3554 - val_loss: 0.3295\n",
      "Epoch 500/700\n",
      "5/5 [==============================] - 0s 5ms/step - loss: 0.3376 - val_loss: 0.3301\n",
      "Epoch 501/700\n",
      "5/5 [==============================] - 0s 5ms/step - loss: 0.3341 - val_loss: 0.3308\n",
      "Epoch 502/700\n",
      "5/5 [==============================] - 0s 5ms/step - loss: 0.3318 - val_loss: 0.3319\n",
      "Epoch 503/700\n",
      "5/5 [==============================] - 0s 5ms/step - loss: 0.3394 - val_loss: 0.3324\n",
      "Epoch 504/700\n",
      "5/5 [==============================] - 0s 5ms/step - loss: 0.3349 - val_loss: 0.3338\n",
      "Epoch 505/700\n",
      "5/5 [==============================] - 0s 6ms/step - loss: 0.3434 - val_loss: 0.3337\n",
      "Epoch 506/700\n",
      "5/5 [==============================] - 0s 5ms/step - loss: 0.3316 - val_loss: 0.3307\n",
      "Epoch 507/700\n",
      "5/5 [==============================] - 0s 5ms/step - loss: 0.3548 - val_loss: 0.3296\n",
      "Epoch 508/700\n",
      "5/5 [==============================] - 0s 5ms/step - loss: 0.3610 - val_loss: 0.3293\n",
      "Epoch 509/700\n",
      "5/5 [==============================] - 0s 5ms/step - loss: 0.3305 - val_loss: 0.3292\n",
      "Epoch 510/700\n",
      "5/5 [==============================] - 0s 5ms/step - loss: 0.3384 - val_loss: 0.3298\n",
      "Epoch 511/700\n",
      "5/5 [==============================] - 0s 5ms/step - loss: 0.3314 - val_loss: 0.3306\n",
      "Epoch 512/700\n",
      "5/5 [==============================] - 0s 5ms/step - loss: 0.3360 - val_loss: 0.3316\n",
      "Epoch 513/700\n",
      "5/5 [==============================] - 0s 5ms/step - loss: 0.3372 - val_loss: 0.3319\n",
      "Epoch 514/700\n",
      "5/5 [==============================] - 0s 5ms/step - loss: 0.3353 - val_loss: 0.3326\n",
      "Epoch 515/700\n",
      "5/5 [==============================] - 0s 5ms/step - loss: 0.3291 - val_loss: 0.3321\n",
      "Epoch 516/700\n",
      "5/5 [==============================] - 0s 5ms/step - loss: 0.3438 - val_loss: 0.3328\n",
      "Epoch 517/700\n",
      "5/5 [==============================] - 0s 5ms/step - loss: 0.3291 - val_loss: 0.3331\n",
      "Epoch 518/700\n",
      "5/5 [==============================] - 0s 5ms/step - loss: 0.3398 - val_loss: 0.3316\n",
      "Epoch 519/700\n",
      "5/5 [==============================] - 0s 5ms/step - loss: 0.3254 - val_loss: 0.3299\n",
      "Epoch 520/700\n",
      "5/5 [==============================] - 0s 5ms/step - loss: 0.3488 - val_loss: 0.3285\n",
      "Epoch 521/700\n",
      "5/5 [==============================] - 0s 5ms/step - loss: 0.3359 - val_loss: 0.3283\n",
      "Epoch 522/700\n",
      "5/5 [==============================] - 0s 5ms/step - loss: 0.3381 - val_loss: 0.3291\n",
      "Epoch 523/700\n",
      "5/5 [==============================] - 0s 5ms/step - loss: 0.3463 - val_loss: 0.3301\n",
      "Epoch 524/700\n",
      "5/5 [==============================] - 0s 10ms/step - loss: 0.3479 - val_loss: 0.3317\n",
      "Epoch 525/700\n",
      "5/5 [==============================] - 0s 5ms/step - loss: 0.3456 - val_loss: 0.3321\n",
      "Epoch 526/700\n",
      "5/5 [==============================] - 0s 5ms/step - loss: 0.3423 - val_loss: 0.3318\n",
      "Epoch 527/700\n",
      "5/5 [==============================] - 0s 5ms/step - loss: 0.3388 - val_loss: 0.3308\n",
      "Epoch 528/700\n",
      "5/5 [==============================] - 0s 5ms/step - loss: 0.3383 - val_loss: 0.3308\n",
      "Epoch 529/700\n",
      "5/5 [==============================] - 0s 5ms/step - loss: 0.3485 - val_loss: 0.3300\n",
      "Epoch 530/700\n",
      "5/5 [==============================] - 0s 5ms/step - loss: 0.3340 - val_loss: 0.3292\n",
      "Epoch 531/700\n",
      "5/5 [==============================] - 0s 5ms/step - loss: 0.3387 - val_loss: 0.3293\n",
      "Epoch 532/700\n",
      "5/5 [==============================] - 0s 5ms/step - loss: 0.3366 - val_loss: 0.3307\n",
      "Epoch 533/700\n",
      "5/5 [==============================] - 0s 5ms/step - loss: 0.3452 - val_loss: 0.3319\n",
      "Epoch 534/700\n",
      "5/5 [==============================] - 0s 5ms/step - loss: 0.3412 - val_loss: 0.3321\n",
      "Epoch 535/700\n",
      "5/5 [==============================] - 0s 5ms/step - loss: 0.3433 - val_loss: 0.3320\n",
      "Epoch 536/700\n",
      "5/5 [==============================] - 0s 5ms/step - loss: 0.3370 - val_loss: 0.3306\n",
      "Epoch 537/700\n",
      "5/5 [==============================] - 0s 5ms/step - loss: 0.3287 - val_loss: 0.3294\n",
      "Epoch 538/700\n",
      "5/5 [==============================] - 0s 5ms/step - loss: 0.3392 - val_loss: 0.3289\n",
      "Epoch 539/700\n",
      "5/5 [==============================] - 0s 5ms/step - loss: 0.3416 - val_loss: 0.3284\n",
      "Epoch 540/700\n",
      "5/5 [==============================] - 0s 5ms/step - loss: 0.3374 - val_loss: 0.3296\n",
      "Epoch 541/700\n",
      "5/5 [==============================] - 0s 5ms/step - loss: 0.3504 - val_loss: 0.3309\n",
      "Epoch 542/700\n",
      "5/5 [==============================] - 0s 5ms/step - loss: 0.3496 - val_loss: 0.3316\n",
      "Epoch 543/700\n",
      "5/5 [==============================] - 0s 5ms/step - loss: 0.3355 - val_loss: 0.3316\n",
      "Epoch 544/700\n",
      "5/5 [==============================] - 0s 5ms/step - loss: 0.3483 - val_loss: 0.3310\n",
      "Epoch 545/700\n",
      "5/5 [==============================] - 0s 5ms/step - loss: 0.3459 - val_loss: 0.3312\n",
      "Epoch 546/700\n",
      "5/5 [==============================] - 0s 5ms/step - loss: 0.3473 - val_loss: 0.3316\n",
      "Epoch 547/700\n",
      "5/5 [==============================] - 0s 5ms/step - loss: 0.3377 - val_loss: 0.3319\n",
      "Epoch 548/700\n",
      "5/5 [==============================] - 0s 5ms/step - loss: 0.3398 - val_loss: 0.3319\n",
      "Epoch 549/700\n",
      "5/5 [==============================] - 0s 5ms/step - loss: 0.3460 - val_loss: 0.3313\n",
      "Epoch 550/700\n",
      "5/5 [==============================] - 0s 5ms/step - loss: 0.3380 - val_loss: 0.3309\n",
      "Epoch 551/700\n",
      "5/5 [==============================] - 0s 5ms/step - loss: 0.3298 - val_loss: 0.3302\n",
      "Epoch 552/700\n",
      "5/5 [==============================] - 0s 5ms/step - loss: 0.3443 - val_loss: 0.3297\n",
      "Epoch 553/700\n",
      "5/5 [==============================] - 0s 5ms/step - loss: 0.3375 - val_loss: 0.3291\n",
      "Epoch 554/700\n",
      "5/5 [==============================] - 0s 5ms/step - loss: 0.3429 - val_loss: 0.3298\n",
      "Epoch 555/700\n",
      "5/5 [==============================] - 0s 5ms/step - loss: 0.3297 - val_loss: 0.3299\n",
      "Epoch 556/700\n",
      "5/5 [==============================] - 0s 6ms/step - loss: 0.3336 - val_loss: 0.3298\n",
      "Epoch 557/700\n",
      "5/5 [==============================] - 0s 5ms/step - loss: 0.3419 - val_loss: 0.3291\n",
      "Epoch 558/700\n",
      "5/5 [==============================] - 0s 5ms/step - loss: 0.3391 - val_loss: 0.3280\n",
      "Epoch 559/700\n",
      "5/5 [==============================] - 0s 5ms/step - loss: 0.3224 - val_loss: 0.3275\n",
      "Epoch 560/700\n",
      "5/5 [==============================] - 0s 5ms/step - loss: 0.3204 - val_loss: 0.3273\n",
      "Epoch 561/700\n",
      "5/5 [==============================] - 0s 5ms/step - loss: 0.3251 - val_loss: 0.3275\n",
      "Epoch 562/700\n",
      "5/5 [==============================] - 0s 5ms/step - loss: 0.3456 - val_loss: 0.3279\n",
      "Epoch 563/700\n",
      "5/5 [==============================] - 0s 5ms/step - loss: 0.3238 - val_loss: 0.3283\n",
      "Epoch 564/700\n",
      "5/5 [==============================] - 0s 5ms/step - loss: 0.3411 - val_loss: 0.3279\n",
      "Epoch 565/700\n",
      "5/5 [==============================] - 0s 5ms/step - loss: 0.3300 - val_loss: 0.3278\n",
      "Epoch 566/700\n",
      "5/5 [==============================] - 0s 5ms/step - loss: 0.3272 - val_loss: 0.3282\n",
      "Epoch 567/700\n",
      "5/5 [==============================] - 0s 5ms/step - loss: 0.3336 - val_loss: 0.3287\n",
      "Epoch 568/700\n",
      "5/5 [==============================] - 0s 5ms/step - loss: 0.3416 - val_loss: 0.3289\n",
      "Epoch 569/700\n",
      "5/5 [==============================] - 0s 6ms/step - loss: 0.3172 - val_loss: 0.3297\n",
      "Epoch 570/700\n",
      "5/5 [==============================] - 0s 7ms/step - loss: 0.3432 - val_loss: 0.3308\n",
      "Epoch 571/700\n",
      "5/5 [==============================] - 0s 5ms/step - loss: 0.3346 - val_loss: 0.3311\n",
      "Epoch 572/700\n",
      "5/5 [==============================] - 0s 6ms/step - loss: 0.3353 - val_loss: 0.3311\n",
      "Epoch 573/700\n",
      "5/5 [==============================] - 0s 5ms/step - loss: 0.3442 - val_loss: 0.3309\n",
      "Epoch 574/700\n",
      "5/5 [==============================] - 0s 5ms/step - loss: 0.3341 - val_loss: 0.3300\n",
      "Epoch 575/700\n",
      "5/5 [==============================] - 0s 5ms/step - loss: 0.3428 - val_loss: 0.3297\n",
      "Epoch 576/700\n",
      "5/5 [==============================] - 0s 5ms/step - loss: 0.3059 - val_loss: 0.3287\n",
      "Epoch 577/700\n",
      "5/5 [==============================] - 0s 5ms/step - loss: 0.3456 - val_loss: 0.3281\n",
      "Epoch 578/700\n",
      "5/5 [==============================] - 0s 5ms/step - loss: 0.3424 - val_loss: 0.3277\n",
      "Epoch 579/700\n",
      "5/5 [==============================] - 0s 5ms/step - loss: 0.3335 - val_loss: 0.3275\n",
      "Epoch 580/700\n",
      "5/5 [==============================] - 0s 6ms/step - loss: 0.3146 - val_loss: 0.3276\n",
      "Epoch 581/700\n",
      "5/5 [==============================] - 0s 5ms/step - loss: 0.3326 - val_loss: 0.3279\n",
      "Epoch 582/700\n",
      "5/5 [==============================] - 0s 6ms/step - loss: 0.3366 - val_loss: 0.3284\n",
      "Epoch 583/700\n",
      "5/5 [==============================] - 0s 5ms/step - loss: 0.3358 - val_loss: 0.3292\n",
      "Epoch 584/700\n",
      "5/5 [==============================] - 0s 6ms/step - loss: 0.3394 - val_loss: 0.3304\n",
      "Epoch 585/700\n",
      "5/5 [==============================] - 0s 5ms/step - loss: 0.3317 - val_loss: 0.3305\n",
      "Epoch 586/700\n",
      "5/5 [==============================] - 0s 5ms/step - loss: 0.3526 - val_loss: 0.3299\n",
      "Epoch 587/700\n",
      "5/5 [==============================] - 0s 6ms/step - loss: 0.3414 - val_loss: 0.3275\n",
      "Epoch 588/700\n",
      "5/5 [==============================] - 0s 5ms/step - loss: 0.3438 - val_loss: 0.3261\n",
      "Epoch 589/700\n",
      "5/5 [==============================] - 0s 6ms/step - loss: 0.3401 - val_loss: 0.3263\n",
      "Epoch 590/700\n",
      "5/5 [==============================] - 0s 6ms/step - loss: 0.3377 - val_loss: 0.3275\n",
      "Epoch 591/700\n",
      "5/5 [==============================] - 0s 6ms/step - loss: 0.3593 - val_loss: 0.3281\n",
      "Epoch 592/700\n",
      "5/5 [==============================] - 0s 6ms/step - loss: 0.3441 - val_loss: 0.3278\n",
      "Epoch 593/700\n",
      "5/5 [==============================] - 0s 7ms/step - loss: 0.3257 - val_loss: 0.3279\n",
      "Epoch 594/700\n",
      "5/5 [==============================] - 0s 6ms/step - loss: 0.3380 - val_loss: 0.3285\n",
      "Epoch 595/700\n",
      "5/5 [==============================] - 0s 5ms/step - loss: 0.3406 - val_loss: 0.3287\n",
      "Epoch 596/700\n",
      "5/5 [==============================] - 0s 6ms/step - loss: 0.3278 - val_loss: 0.3282\n",
      "Epoch 597/700\n",
      "5/5 [==============================] - 0s 5ms/step - loss: 0.3333 - val_loss: 0.3277\n",
      "Epoch 598/700\n",
      "5/5 [==============================] - 0s 5ms/step - loss: 0.3459 - val_loss: 0.3278\n",
      "Epoch 599/700\n",
      "5/5 [==============================] - 0s 5ms/step - loss: 0.3330 - val_loss: 0.3279\n",
      "Epoch 600/700\n",
      "5/5 [==============================] - 0s 5ms/step - loss: 0.3405 - val_loss: 0.3285\n",
      "Epoch 601/700\n",
      "5/5 [==============================] - 0s 6ms/step - loss: 0.3264 - val_loss: 0.3285\n",
      "Epoch 602/700\n",
      "5/5 [==============================] - 0s 5ms/step - loss: 0.3407 - val_loss: 0.3287\n",
      "Epoch 603/700\n",
      "5/5 [==============================] - 0s 5ms/step - loss: 0.3261 - val_loss: 0.3292\n",
      "Epoch 604/700\n",
      "5/5 [==============================] - 0s 5ms/step - loss: 0.3325 - val_loss: 0.3296\n",
      "Epoch 605/700\n",
      "5/5 [==============================] - 0s 5ms/step - loss: 0.3445 - val_loss: 0.3298\n",
      "Epoch 606/700\n",
      "5/5 [==============================] - 0s 5ms/step - loss: 0.3476 - val_loss: 0.3293\n",
      "Epoch 607/700\n",
      "5/5 [==============================] - 0s 5ms/step - loss: 0.3267 - val_loss: 0.3286\n",
      "Epoch 608/700\n",
      "5/5 [==============================] - 0s 5ms/step - loss: 0.3379 - val_loss: 0.3285\n",
      "Epoch 609/700\n",
      "5/5 [==============================] - 0s 5ms/step - loss: 0.3346 - val_loss: 0.3298\n",
      "Epoch 610/700\n",
      "5/5 [==============================] - 0s 5ms/step - loss: 0.3353 - val_loss: 0.3306\n",
      "Epoch 611/700\n",
      "5/5 [==============================] - 0s 5ms/step - loss: 0.3318 - val_loss: 0.3313\n",
      "Epoch 612/700\n",
      "5/5 [==============================] - 0s 6ms/step - loss: 0.3395 - val_loss: 0.3308\n",
      "Epoch 613/700\n",
      "5/5 [==============================] - 0s 5ms/step - loss: 0.3166 - val_loss: 0.3309\n",
      "Epoch 614/700\n",
      "5/5 [==============================] - 0s 6ms/step - loss: 0.3454 - val_loss: 0.3308\n",
      "Epoch 615/700\n",
      "5/5 [==============================] - 0s 5ms/step - loss: 0.3339 - val_loss: 0.3313\n",
      "Epoch 616/700\n",
      "5/5 [==============================] - 0s 5ms/step - loss: 0.3309 - val_loss: 0.3308\n",
      "Epoch 617/700\n",
      "5/5 [==============================] - 0s 6ms/step - loss: 0.3511 - val_loss: 0.3309\n",
      "Epoch 618/700\n",
      "5/5 [==============================] - 0s 5ms/step - loss: 0.3426 - val_loss: 0.3310\n",
      "Epoch 619/700\n",
      "5/5 [==============================] - 0s 5ms/step - loss: 0.3217 - val_loss: 0.3313\n",
      "Epoch 620/700\n",
      "5/5 [==============================] - 0s 5ms/step - loss: 0.3379 - val_loss: 0.3313\n",
      "Epoch 621/700\n",
      "5/5 [==============================] - 0s 5ms/step - loss: 0.3277 - val_loss: 0.3309\n",
      "Epoch 622/700\n",
      "5/5 [==============================] - 0s 5ms/step - loss: 0.3384 - val_loss: 0.3314\n",
      "Epoch 623/700\n",
      "5/5 [==============================] - 0s 5ms/step - loss: 0.3394 - val_loss: 0.3316\n",
      "Epoch 624/700\n",
      "5/5 [==============================] - 0s 5ms/step - loss: 0.3353 - val_loss: 0.3309\n",
      "Epoch 625/700\n",
      "5/5 [==============================] - 0s 5ms/step - loss: 0.3222 - val_loss: 0.3302\n",
      "Epoch 626/700\n",
      "5/5 [==============================] - 0s 5ms/step - loss: 0.3216 - val_loss: 0.3295\n",
      "Epoch 627/700\n",
      "5/5 [==============================] - 0s 5ms/step - loss: 0.3266 - val_loss: 0.3289\n",
      "Epoch 628/700\n",
      "5/5 [==============================] - 0s 5ms/step - loss: 0.3354 - val_loss: 0.3288\n",
      "Epoch 629/700\n",
      "5/5 [==============================] - 0s 5ms/step - loss: 0.3322 - val_loss: 0.3285\n",
      "Epoch 630/700\n",
      "5/5 [==============================] - 0s 5ms/step - loss: 0.3252 - val_loss: 0.3268\n",
      "Epoch 631/700\n",
      "5/5 [==============================] - 0s 5ms/step - loss: 0.3412 - val_loss: 0.3258\n",
      "Epoch 632/700\n",
      "5/5 [==============================] - 0s 6ms/step - loss: 0.3277 - val_loss: 0.3254\n",
      "Epoch 633/700\n",
      "5/5 [==============================] - 0s 6ms/step - loss: 0.3325 - val_loss: 0.3256\n",
      "Epoch 634/700\n",
      "5/5 [==============================] - 0s 5ms/step - loss: 0.3373 - val_loss: 0.3257\n",
      "Epoch 635/700\n",
      "5/5 [==============================] - 0s 5ms/step - loss: 0.3352 - val_loss: 0.3261\n",
      "Epoch 636/700\n",
      "5/5 [==============================] - 0s 5ms/step - loss: 0.3203 - val_loss: 0.3270\n",
      "Epoch 637/700\n",
      "5/5 [==============================] - 0s 5ms/step - loss: 0.3262 - val_loss: 0.3277\n",
      "Epoch 638/700\n",
      "5/5 [==============================] - 0s 5ms/step - loss: 0.3350 - val_loss: 0.3269\n",
      "Epoch 639/700\n",
      "5/5 [==============================] - 0s 5ms/step - loss: 0.3203 - val_loss: 0.3268\n",
      "Epoch 640/700\n",
      "5/5 [==============================] - 0s 5ms/step - loss: 0.3334 - val_loss: 0.3268\n",
      "Epoch 641/700\n",
      "5/5 [==============================] - 0s 5ms/step - loss: 0.3167 - val_loss: 0.3264\n",
      "Epoch 642/700\n",
      "5/5 [==============================] - 0s 5ms/step - loss: 0.3288 - val_loss: 0.3261\n",
      "Epoch 643/700\n",
      "5/5 [==============================] - 0s 5ms/step - loss: 0.3310 - val_loss: 0.3264\n",
      "Epoch 644/700\n",
      "5/5 [==============================] - 0s 11ms/step - loss: 0.3137 - val_loss: 0.3269\n",
      "Epoch 645/700\n",
      "5/5 [==============================] - 0s 5ms/step - loss: 0.3329 - val_loss: 0.3266\n",
      "Epoch 646/700\n",
      "5/5 [==============================] - 0s 5ms/step - loss: 0.3165 - val_loss: 0.3261\n",
      "Epoch 647/700\n",
      "5/5 [==============================] - 0s 5ms/step - loss: 0.3166 - val_loss: 0.3258\n",
      "Epoch 648/700\n",
      "5/5 [==============================] - 0s 5ms/step - loss: 0.3349 - val_loss: 0.3260\n",
      "Epoch 649/700\n",
      "5/5 [==============================] - 0s 5ms/step - loss: 0.3241 - val_loss: 0.3258\n",
      "Epoch 650/700\n",
      "5/5 [==============================] - 0s 5ms/step - loss: 0.3470 - val_loss: 0.3251\n",
      "Epoch 651/700\n",
      "5/5 [==============================] - 0s 5ms/step - loss: 0.3306 - val_loss: 0.3257\n",
      "Epoch 652/700\n",
      "5/5 [==============================] - 0s 5ms/step - loss: 0.3390 - val_loss: 0.3256\n",
      "Epoch 653/700\n",
      "5/5 [==============================] - 0s 5ms/step - loss: 0.3458 - val_loss: 0.3250\n",
      "Epoch 654/700\n",
      "5/5 [==============================] - 0s 5ms/step - loss: 0.3321 - val_loss: 0.3247\n",
      "Epoch 655/700\n",
      "5/5 [==============================] - 0s 5ms/step - loss: 0.3391 - val_loss: 0.3251\n",
      "Epoch 656/700\n",
      "5/5 [==============================] - 0s 5ms/step - loss: 0.3388 - val_loss: 0.3246\n",
      "Epoch 657/700\n",
      "5/5 [==============================] - 0s 5ms/step - loss: 0.3210 - val_loss: 0.3250\n",
      "Epoch 658/700\n",
      "5/5 [==============================] - 0s 5ms/step - loss: 0.3317 - val_loss: 0.3253\n",
      "Epoch 659/700\n",
      "5/5 [==============================] - 0s 5ms/step - loss: 0.3630 - val_loss: 0.3238\n",
      "Epoch 660/700\n",
      "5/5 [==============================] - 0s 5ms/step - loss: 0.3225 - val_loss: 0.3229\n",
      "Epoch 661/700\n",
      "5/5 [==============================] - 0s 5ms/step - loss: 0.3345 - val_loss: 0.3223\n",
      "Epoch 662/700\n",
      "5/5 [==============================] - 0s 5ms/step - loss: 0.3335 - val_loss: 0.3217\n",
      "Epoch 663/700\n",
      "5/5 [==============================] - 0s 5ms/step - loss: 0.3338 - val_loss: 0.3214\n",
      "Epoch 664/700\n",
      "5/5 [==============================] - 0s 5ms/step - loss: 0.3196 - val_loss: 0.3226\n",
      "Epoch 665/700\n",
      "5/5 [==============================] - 0s 5ms/step - loss: 0.3439 - val_loss: 0.3240\n",
      "Epoch 666/700\n",
      "5/5 [==============================] - 0s 5ms/step - loss: 0.3288 - val_loss: 0.3252\n",
      "Epoch 667/700\n",
      "5/5 [==============================] - 0s 5ms/step - loss: 0.3434 - val_loss: 0.3270\n",
      "Epoch 668/700\n",
      "5/5 [==============================] - 0s 5ms/step - loss: 0.3229 - val_loss: 0.3277\n",
      "Epoch 669/700\n",
      "5/5 [==============================] - 0s 5ms/step - loss: 0.3317 - val_loss: 0.3264\n",
      "Epoch 670/700\n",
      "5/5 [==============================] - 0s 5ms/step - loss: 0.3190 - val_loss: 0.3252\n",
      "Epoch 671/700\n",
      "5/5 [==============================] - 0s 5ms/step - loss: 0.3296 - val_loss: 0.3235\n",
      "Epoch 672/700\n",
      "5/5 [==============================] - 0s 5ms/step - loss: 0.3447 - val_loss: 0.3223\n",
      "Epoch 673/700\n",
      "5/5 [==============================] - 0s 5ms/step - loss: 0.3211 - val_loss: 0.3219\n",
      "Epoch 674/700\n",
      "5/5 [==============================] - 0s 5ms/step - loss: 0.3218 - val_loss: 0.3215\n",
      "Epoch 675/700\n",
      "5/5 [==============================] - 0s 5ms/step - loss: 0.3310 - val_loss: 0.3218\n",
      "Epoch 676/700\n",
      "5/5 [==============================] - 0s 5ms/step - loss: 0.3230 - val_loss: 0.3218\n",
      "Epoch 677/700\n",
      "5/5 [==============================] - 0s 5ms/step - loss: 0.3528 - val_loss: 0.3215\n",
      "Epoch 678/700\n",
      "5/5 [==============================] - 0s 5ms/step - loss: 0.3369 - val_loss: 0.3211\n",
      "Epoch 679/700\n",
      "5/5 [==============================] - 0s 5ms/step - loss: 0.3222 - val_loss: 0.3217\n",
      "Epoch 680/700\n",
      "5/5 [==============================] - 0s 5ms/step - loss: 0.3290 - val_loss: 0.3218\n",
      "Epoch 681/700\n",
      "5/5 [==============================] - 0s 5ms/step - loss: 0.3140 - val_loss: 0.3222\n",
      "Epoch 682/700\n",
      "5/5 [==============================] - 0s 5ms/step - loss: 0.3103 - val_loss: 0.3227\n",
      "Epoch 683/700\n",
      "5/5 [==============================] - 0s 5ms/step - loss: 0.3213 - val_loss: 0.3228\n",
      "Epoch 684/700\n",
      "5/5 [==============================] - 0s 5ms/step - loss: 0.3351 - val_loss: 0.3229\n",
      "Epoch 685/700\n",
      "5/5 [==============================] - 0s 5ms/step - loss: 0.3337 - val_loss: 0.3231\n",
      "Epoch 686/700\n",
      "5/5 [==============================] - 0s 5ms/step - loss: 0.3267 - val_loss: 0.3236\n",
      "Epoch 687/700\n",
      "5/5 [==============================] - 0s 5ms/step - loss: 0.3237 - val_loss: 0.3242\n",
      "Epoch 688/700\n",
      "5/5 [==============================] - 0s 5ms/step - loss: 0.3339 - val_loss: 0.3244\n",
      "Epoch 689/700\n",
      "5/5 [==============================] - 0s 5ms/step - loss: 0.3284 - val_loss: 0.3247\n",
      "Epoch 690/700\n",
      "5/5 [==============================] - 0s 5ms/step - loss: 0.3332 - val_loss: 0.3248\n",
      "Epoch 691/700\n",
      "5/5 [==============================] - 0s 6ms/step - loss: 0.3057 - val_loss: 0.3245\n",
      "Epoch 692/700\n",
      "5/5 [==============================] - 0s 5ms/step - loss: 0.3463 - val_loss: 0.3247\n",
      "Epoch 693/700\n",
      "5/5 [==============================] - 0s 5ms/step - loss: 0.3175 - val_loss: 0.3249\n",
      "Epoch 694/700\n",
      "5/5 [==============================] - 0s 5ms/step - loss: 0.3402 - val_loss: 0.3252\n",
      "Epoch 695/700\n",
      "5/5 [==============================] - 0s 6ms/step - loss: 0.3391 - val_loss: 0.3257\n",
      "Epoch 696/700\n",
      "5/5 [==============================] - 0s 5ms/step - loss: 0.3236 - val_loss: 0.3252\n",
      "Epoch 697/700\n",
      "5/5 [==============================] - 0s 5ms/step - loss: 0.3306 - val_loss: 0.3243\n",
      "Epoch 698/700\n",
      "5/5 [==============================] - 0s 5ms/step - loss: 0.3430 - val_loss: 0.3237\n",
      "Epoch 699/700\n",
      "5/5 [==============================] - 0s 6ms/step - loss: 0.3203 - val_loss: 0.3230\n",
      "Epoch 700/700\n",
      "5/5 [==============================] - 0s 5ms/step - loss: 0.3249 - val_loss: 0.3221\n"
     ]
    },
    {
     "output_type": "execute_result",
     "data": {
      "text/plain": [
       "<tensorflow.python.keras.callbacks.History at 0x13a887f1dc0>"
      ]
     },
     "metadata": {},
     "execution_count": 858
    }
   ],
   "source": [
    "model.fit(X_train,y_train,epochs=700,validation_data=(X_test,y_test))"
   ]
  },
  {
   "cell_type": "code",
   "execution_count": 859,
   "metadata": {},
   "outputs": [
    {
     "output_type": "execute_result",
     "data": {
      "text/plain": [
       "<AxesSubplot:>"
      ]
     },
     "metadata": {},
     "execution_count": 859
    },
    {
     "output_type": "display_data",
     "data": {
      "text/plain": "<Figure size 432x288 with 1 Axes>",
      "image/svg+xml": "<?xml version=\"1.0\" encoding=\"utf-8\" standalone=\"no\"?>\r\n<!DOCTYPE svg PUBLIC \"-//W3C//DTD SVG 1.1//EN\"\r\n  \"http://www.w3.org/Graphics/SVG/1.1/DTD/svg11.dtd\">\r\n<svg height=\"248.518125pt\" version=\"1.1\" viewBox=\"0 0 378.465625 248.518125\" width=\"378.465625pt\" xmlns=\"http://www.w3.org/2000/svg\" xmlns:xlink=\"http://www.w3.org/1999/xlink\">\r\n <metadata>\r\n  <rdf:RDF xmlns:cc=\"http://creativecommons.org/ns#\" xmlns:dc=\"http://purl.org/dc/elements/1.1/\" xmlns:rdf=\"http://www.w3.org/1999/02/22-rdf-syntax-ns#\">\r\n   <cc:Work>\r\n    <dc:type rdf:resource=\"http://purl.org/dc/dcmitype/StillImage\"/>\r\n    <dc:date>2021-06-20T17:37:19.919806</dc:date>\r\n    <dc:format>image/svg+xml</dc:format>\r\n    <dc:creator>\r\n     <cc:Agent>\r\n      <dc:title>Matplotlib v3.4.1, https://matplotlib.org/</dc:title>\r\n     </cc:Agent>\r\n    </dc:creator>\r\n   </cc:Work>\r\n  </rdf:RDF>\r\n </metadata>\r\n <defs>\r\n  <style type=\"text/css\">*{stroke-linecap:butt;stroke-linejoin:round;}</style>\r\n </defs>\r\n <g id=\"figure_1\">\r\n  <g id=\"patch_1\">\r\n   <path d=\"M 0 248.518125 \r\nL 378.465625 248.518125 \r\nL 378.465625 0 \r\nL 0 0 \r\nz\r\n\" style=\"fill:none;\"/>\r\n  </g>\r\n  <g id=\"axes_1\">\r\n   <g id=\"patch_2\">\r\n    <path d=\"M 36.465625 224.64 \r\nL 371.265625 224.64 \r\nL 371.265625 7.2 \r\nL 36.465625 7.2 \r\nz\r\n\" style=\"fill:#ffffff;\"/>\r\n   </g>\r\n   <g id=\"matplotlib.axis_1\">\r\n    <g id=\"xtick_1\">\r\n     <g id=\"line2d_1\">\r\n      <defs>\r\n       <path d=\"M 0 0 \r\nL 0 3.5 \r\n\" id=\"ma1dd7c37e0\" style=\"stroke:#000000;stroke-width:0.8;\"/>\r\n      </defs>\r\n      <g>\r\n       <use style=\"stroke:#000000;stroke-width:0.8;\" x=\"51.683807\" xlink:href=\"#ma1dd7c37e0\" y=\"224.64\"/>\r\n      </g>\r\n     </g>\r\n     <g id=\"text_1\">\r\n      <!-- 0 -->\r\n      <g transform=\"translate(48.502557 239.238438)scale(0.1 -0.1)\">\r\n       <defs>\r\n        <path d=\"M 2034 4250 \r\nQ 1547 4250 1301 3770 \r\nQ 1056 3291 1056 2328 \r\nQ 1056 1369 1301 889 \r\nQ 1547 409 2034 409 \r\nQ 2525 409 2770 889 \r\nQ 3016 1369 3016 2328 \r\nQ 3016 3291 2770 3770 \r\nQ 2525 4250 2034 4250 \r\nz\r\nM 2034 4750 \r\nQ 2819 4750 3233 4129 \r\nQ 3647 3509 3647 2328 \r\nQ 3647 1150 3233 529 \r\nQ 2819 -91 2034 -91 \r\nQ 1250 -91 836 529 \r\nQ 422 1150 422 2328 \r\nQ 422 3509 836 4129 \r\nQ 1250 4750 2034 4750 \r\nz\r\n\" id=\"DejaVuSans-30\" transform=\"scale(0.015625)\"/>\r\n       </defs>\r\n       <use xlink:href=\"#DejaVuSans-30\"/>\r\n      </g>\r\n     </g>\r\n    </g>\r\n    <g id=\"xtick_2\">\r\n     <g id=\"line2d_2\">\r\n      <g>\r\n       <use style=\"stroke:#000000;stroke-width:0.8;\" x=\"95.22653\" xlink:href=\"#ma1dd7c37e0\" y=\"224.64\"/>\r\n      </g>\r\n     </g>\r\n     <g id=\"text_2\">\r\n      <!-- 100 -->\r\n      <g transform=\"translate(85.68278 239.238438)scale(0.1 -0.1)\">\r\n       <defs>\r\n        <path d=\"M 794 531 \r\nL 1825 531 \r\nL 1825 4091 \r\nL 703 3866 \r\nL 703 4441 \r\nL 1819 4666 \r\nL 2450 4666 \r\nL 2450 531 \r\nL 3481 531 \r\nL 3481 0 \r\nL 794 0 \r\nL 794 531 \r\nz\r\n\" id=\"DejaVuSans-31\" transform=\"scale(0.015625)\"/>\r\n       </defs>\r\n       <use xlink:href=\"#DejaVuSans-31\"/>\r\n       <use x=\"63.623047\" xlink:href=\"#DejaVuSans-30\"/>\r\n       <use x=\"127.246094\" xlink:href=\"#DejaVuSans-30\"/>\r\n      </g>\r\n     </g>\r\n    </g>\r\n    <g id=\"xtick_3\">\r\n     <g id=\"line2d_3\">\r\n      <g>\r\n       <use style=\"stroke:#000000;stroke-width:0.8;\" x=\"138.769254\" xlink:href=\"#ma1dd7c37e0\" y=\"224.64\"/>\r\n      </g>\r\n     </g>\r\n     <g id=\"text_3\">\r\n      <!-- 200 -->\r\n      <g transform=\"translate(129.225504 239.238438)scale(0.1 -0.1)\">\r\n       <defs>\r\n        <path d=\"M 1228 531 \r\nL 3431 531 \r\nL 3431 0 \r\nL 469 0 \r\nL 469 531 \r\nQ 828 903 1448 1529 \r\nQ 2069 2156 2228 2338 \r\nQ 2531 2678 2651 2914 \r\nQ 2772 3150 2772 3378 \r\nQ 2772 3750 2511 3984 \r\nQ 2250 4219 1831 4219 \r\nQ 1534 4219 1204 4116 \r\nQ 875 4013 500 3803 \r\nL 500 4441 \r\nQ 881 4594 1212 4672 \r\nQ 1544 4750 1819 4750 \r\nQ 2544 4750 2975 4387 \r\nQ 3406 4025 3406 3419 \r\nQ 3406 3131 3298 2873 \r\nQ 3191 2616 2906 2266 \r\nQ 2828 2175 2409 1742 \r\nQ 1991 1309 1228 531 \r\nz\r\n\" id=\"DejaVuSans-32\" transform=\"scale(0.015625)\"/>\r\n       </defs>\r\n       <use xlink:href=\"#DejaVuSans-32\"/>\r\n       <use x=\"63.623047\" xlink:href=\"#DejaVuSans-30\"/>\r\n       <use x=\"127.246094\" xlink:href=\"#DejaVuSans-30\"/>\r\n      </g>\r\n     </g>\r\n    </g>\r\n    <g id=\"xtick_4\">\r\n     <g id=\"line2d_4\">\r\n      <g>\r\n       <use style=\"stroke:#000000;stroke-width:0.8;\" x=\"182.311977\" xlink:href=\"#ma1dd7c37e0\" y=\"224.64\"/>\r\n      </g>\r\n     </g>\r\n     <g id=\"text_4\">\r\n      <!-- 300 -->\r\n      <g transform=\"translate(172.768227 239.238438)scale(0.1 -0.1)\">\r\n       <defs>\r\n        <path d=\"M 2597 2516 \r\nQ 3050 2419 3304 2112 \r\nQ 3559 1806 3559 1356 \r\nQ 3559 666 3084 287 \r\nQ 2609 -91 1734 -91 \r\nQ 1441 -91 1130 -33 \r\nQ 819 25 488 141 \r\nL 488 750 \r\nQ 750 597 1062 519 \r\nQ 1375 441 1716 441 \r\nQ 2309 441 2620 675 \r\nQ 2931 909 2931 1356 \r\nQ 2931 1769 2642 2001 \r\nQ 2353 2234 1838 2234 \r\nL 1294 2234 \r\nL 1294 2753 \r\nL 1863 2753 \r\nQ 2328 2753 2575 2939 \r\nQ 2822 3125 2822 3475 \r\nQ 2822 3834 2567 4026 \r\nQ 2313 4219 1838 4219 \r\nQ 1578 4219 1281 4162 \r\nQ 984 4106 628 3988 \r\nL 628 4550 \r\nQ 988 4650 1302 4700 \r\nQ 1616 4750 1894 4750 \r\nQ 2613 4750 3031 4423 \r\nQ 3450 4097 3450 3541 \r\nQ 3450 3153 3228 2886 \r\nQ 3006 2619 2597 2516 \r\nz\r\n\" id=\"DejaVuSans-33\" transform=\"scale(0.015625)\"/>\r\n       </defs>\r\n       <use xlink:href=\"#DejaVuSans-33\"/>\r\n       <use x=\"63.623047\" xlink:href=\"#DejaVuSans-30\"/>\r\n       <use x=\"127.246094\" xlink:href=\"#DejaVuSans-30\"/>\r\n      </g>\r\n     </g>\r\n    </g>\r\n    <g id=\"xtick_5\">\r\n     <g id=\"line2d_5\">\r\n      <g>\r\n       <use style=\"stroke:#000000;stroke-width:0.8;\" x=\"225.8547\" xlink:href=\"#ma1dd7c37e0\" y=\"224.64\"/>\r\n      </g>\r\n     </g>\r\n     <g id=\"text_5\">\r\n      <!-- 400 -->\r\n      <g transform=\"translate(216.31095 239.238438)scale(0.1 -0.1)\">\r\n       <defs>\r\n        <path d=\"M 2419 4116 \r\nL 825 1625 \r\nL 2419 1625 \r\nL 2419 4116 \r\nz\r\nM 2253 4666 \r\nL 3047 4666 \r\nL 3047 1625 \r\nL 3713 1625 \r\nL 3713 1100 \r\nL 3047 1100 \r\nL 3047 0 \r\nL 2419 0 \r\nL 2419 1100 \r\nL 313 1100 \r\nL 313 1709 \r\nL 2253 4666 \r\nz\r\n\" id=\"DejaVuSans-34\" transform=\"scale(0.015625)\"/>\r\n       </defs>\r\n       <use xlink:href=\"#DejaVuSans-34\"/>\r\n       <use x=\"63.623047\" xlink:href=\"#DejaVuSans-30\"/>\r\n       <use x=\"127.246094\" xlink:href=\"#DejaVuSans-30\"/>\r\n      </g>\r\n     </g>\r\n    </g>\r\n    <g id=\"xtick_6\">\r\n     <g id=\"line2d_6\">\r\n      <g>\r\n       <use style=\"stroke:#000000;stroke-width:0.8;\" x=\"269.397424\" xlink:href=\"#ma1dd7c37e0\" y=\"224.64\"/>\r\n      </g>\r\n     </g>\r\n     <g id=\"text_6\">\r\n      <!-- 500 -->\r\n      <g transform=\"translate(259.853674 239.238438)scale(0.1 -0.1)\">\r\n       <defs>\r\n        <path d=\"M 691 4666 \r\nL 3169 4666 \r\nL 3169 4134 \r\nL 1269 4134 \r\nL 1269 2991 \r\nQ 1406 3038 1543 3061 \r\nQ 1681 3084 1819 3084 \r\nQ 2600 3084 3056 2656 \r\nQ 3513 2228 3513 1497 \r\nQ 3513 744 3044 326 \r\nQ 2575 -91 1722 -91 \r\nQ 1428 -91 1123 -41 \r\nQ 819 9 494 109 \r\nL 494 744 \r\nQ 775 591 1075 516 \r\nQ 1375 441 1709 441 \r\nQ 2250 441 2565 725 \r\nQ 2881 1009 2881 1497 \r\nQ 2881 1984 2565 2268 \r\nQ 2250 2553 1709 2553 \r\nQ 1456 2553 1204 2497 \r\nQ 953 2441 691 2322 \r\nL 691 4666 \r\nz\r\n\" id=\"DejaVuSans-35\" transform=\"scale(0.015625)\"/>\r\n       </defs>\r\n       <use xlink:href=\"#DejaVuSans-35\"/>\r\n       <use x=\"63.623047\" xlink:href=\"#DejaVuSans-30\"/>\r\n       <use x=\"127.246094\" xlink:href=\"#DejaVuSans-30\"/>\r\n      </g>\r\n     </g>\r\n    </g>\r\n    <g id=\"xtick_7\">\r\n     <g id=\"line2d_7\">\r\n      <g>\r\n       <use style=\"stroke:#000000;stroke-width:0.8;\" x=\"312.940147\" xlink:href=\"#ma1dd7c37e0\" y=\"224.64\"/>\r\n      </g>\r\n     </g>\r\n     <g id=\"text_7\">\r\n      <!-- 600 -->\r\n      <g transform=\"translate(303.396397 239.238438)scale(0.1 -0.1)\">\r\n       <defs>\r\n        <path d=\"M 2113 2584 \r\nQ 1688 2584 1439 2293 \r\nQ 1191 2003 1191 1497 \r\nQ 1191 994 1439 701 \r\nQ 1688 409 2113 409 \r\nQ 2538 409 2786 701 \r\nQ 3034 994 3034 1497 \r\nQ 3034 2003 2786 2293 \r\nQ 2538 2584 2113 2584 \r\nz\r\nM 3366 4563 \r\nL 3366 3988 \r\nQ 3128 4100 2886 4159 \r\nQ 2644 4219 2406 4219 \r\nQ 1781 4219 1451 3797 \r\nQ 1122 3375 1075 2522 \r\nQ 1259 2794 1537 2939 \r\nQ 1816 3084 2150 3084 \r\nQ 2853 3084 3261 2657 \r\nQ 3669 2231 3669 1497 \r\nQ 3669 778 3244 343 \r\nQ 2819 -91 2113 -91 \r\nQ 1303 -91 875 529 \r\nQ 447 1150 447 2328 \r\nQ 447 3434 972 4092 \r\nQ 1497 4750 2381 4750 \r\nQ 2619 4750 2861 4703 \r\nQ 3103 4656 3366 4563 \r\nz\r\n\" id=\"DejaVuSans-36\" transform=\"scale(0.015625)\"/>\r\n       </defs>\r\n       <use xlink:href=\"#DejaVuSans-36\"/>\r\n       <use x=\"63.623047\" xlink:href=\"#DejaVuSans-30\"/>\r\n       <use x=\"127.246094\" xlink:href=\"#DejaVuSans-30\"/>\r\n      </g>\r\n     </g>\r\n    </g>\r\n    <g id=\"xtick_8\">\r\n     <g id=\"line2d_8\">\r\n      <g>\r\n       <use style=\"stroke:#000000;stroke-width:0.8;\" x=\"356.48287\" xlink:href=\"#ma1dd7c37e0\" y=\"224.64\"/>\r\n      </g>\r\n     </g>\r\n     <g id=\"text_8\">\r\n      <!-- 700 -->\r\n      <g transform=\"translate(346.93912 239.238438)scale(0.1 -0.1)\">\r\n       <defs>\r\n        <path d=\"M 525 4666 \r\nL 3525 4666 \r\nL 3525 4397 \r\nL 1831 0 \r\nL 1172 0 \r\nL 2766 4134 \r\nL 525 4134 \r\nL 525 4666 \r\nz\r\n\" id=\"DejaVuSans-37\" transform=\"scale(0.015625)\"/>\r\n       </defs>\r\n       <use xlink:href=\"#DejaVuSans-37\"/>\r\n       <use x=\"63.623047\" xlink:href=\"#DejaVuSans-30\"/>\r\n       <use x=\"127.246094\" xlink:href=\"#DejaVuSans-30\"/>\r\n      </g>\r\n     </g>\r\n    </g>\r\n   </g>\r\n   <g id=\"matplotlib.axis_2\">\r\n    <g id=\"ytick_1\">\r\n     <g id=\"line2d_9\">\r\n      <defs>\r\n       <path d=\"M 0 0 \r\nL -3.5 0 \r\n\" id=\"m4532eba07e\" style=\"stroke:#000000;stroke-width:0.8;\"/>\r\n      </defs>\r\n      <g>\r\n       <use style=\"stroke:#000000;stroke-width:0.8;\" x=\"36.465625\" xlink:href=\"#m4532eba07e\" y=\"218.071273\"/>\r\n      </g>\r\n     </g>\r\n     <g id=\"text_9\">\r\n      <!-- 0.30 -->\r\n      <g transform=\"translate(7.2 221.870491)scale(0.1 -0.1)\">\r\n       <defs>\r\n        <path d=\"M 684 794 \r\nL 1344 794 \r\nL 1344 0 \r\nL 684 0 \r\nL 684 794 \r\nz\r\n\" id=\"DejaVuSans-2e\" transform=\"scale(0.015625)\"/>\r\n       </defs>\r\n       <use xlink:href=\"#DejaVuSans-30\"/>\r\n       <use x=\"63.623047\" xlink:href=\"#DejaVuSans-2e\"/>\r\n       <use x=\"95.410156\" xlink:href=\"#DejaVuSans-33\"/>\r\n       <use x=\"159.033203\" xlink:href=\"#DejaVuSans-30\"/>\r\n      </g>\r\n     </g>\r\n    </g>\r\n    <g id=\"ytick_2\">\r\n     <g id=\"line2d_10\">\r\n      <g>\r\n       <use style=\"stroke:#000000;stroke-width:0.8;\" x=\"36.465625\" xlink:href=\"#m4532eba07e\" y=\"188.817555\"/>\r\n      </g>\r\n     </g>\r\n     <g id=\"text_10\">\r\n      <!-- 0.35 -->\r\n      <g transform=\"translate(7.2 192.616774)scale(0.1 -0.1)\">\r\n       <use xlink:href=\"#DejaVuSans-30\"/>\r\n       <use x=\"63.623047\" xlink:href=\"#DejaVuSans-2e\"/>\r\n       <use x=\"95.410156\" xlink:href=\"#DejaVuSans-33\"/>\r\n       <use x=\"159.033203\" xlink:href=\"#DejaVuSans-35\"/>\r\n      </g>\r\n     </g>\r\n    </g>\r\n    <g id=\"ytick_3\">\r\n     <g id=\"line2d_11\">\r\n      <g>\r\n       <use style=\"stroke:#000000;stroke-width:0.8;\" x=\"36.465625\" xlink:href=\"#m4532eba07e\" y=\"159.563837\"/>\r\n      </g>\r\n     </g>\r\n     <g id=\"text_11\">\r\n      <!-- 0.40 -->\r\n      <g transform=\"translate(7.2 163.363056)scale(0.1 -0.1)\">\r\n       <use xlink:href=\"#DejaVuSans-30\"/>\r\n       <use x=\"63.623047\" xlink:href=\"#DejaVuSans-2e\"/>\r\n       <use x=\"95.410156\" xlink:href=\"#DejaVuSans-34\"/>\r\n       <use x=\"159.033203\" xlink:href=\"#DejaVuSans-30\"/>\r\n      </g>\r\n     </g>\r\n    </g>\r\n    <g id=\"ytick_4\">\r\n     <g id=\"line2d_12\">\r\n      <g>\r\n       <use style=\"stroke:#000000;stroke-width:0.8;\" x=\"36.465625\" xlink:href=\"#m4532eba07e\" y=\"130.310119\"/>\r\n      </g>\r\n     </g>\r\n     <g id=\"text_12\">\r\n      <!-- 0.45 -->\r\n      <g transform=\"translate(7.2 134.109338)scale(0.1 -0.1)\">\r\n       <use xlink:href=\"#DejaVuSans-30\"/>\r\n       <use x=\"63.623047\" xlink:href=\"#DejaVuSans-2e\"/>\r\n       <use x=\"95.410156\" xlink:href=\"#DejaVuSans-34\"/>\r\n       <use x=\"159.033203\" xlink:href=\"#DejaVuSans-35\"/>\r\n      </g>\r\n     </g>\r\n    </g>\r\n    <g id=\"ytick_5\">\r\n     <g id=\"line2d_13\">\r\n      <g>\r\n       <use style=\"stroke:#000000;stroke-width:0.8;\" x=\"36.465625\" xlink:href=\"#m4532eba07e\" y=\"101.056401\"/>\r\n      </g>\r\n     </g>\r\n     <g id=\"text_13\">\r\n      <!-- 0.50 -->\r\n      <g transform=\"translate(7.2 104.85562)scale(0.1 -0.1)\">\r\n       <use xlink:href=\"#DejaVuSans-30\"/>\r\n       <use x=\"63.623047\" xlink:href=\"#DejaVuSans-2e\"/>\r\n       <use x=\"95.410156\" xlink:href=\"#DejaVuSans-35\"/>\r\n       <use x=\"159.033203\" xlink:href=\"#DejaVuSans-30\"/>\r\n      </g>\r\n     </g>\r\n    </g>\r\n    <g id=\"ytick_6\">\r\n     <g id=\"line2d_14\">\r\n      <g>\r\n       <use style=\"stroke:#000000;stroke-width:0.8;\" x=\"36.465625\" xlink:href=\"#m4532eba07e\" y=\"71.802683\"/>\r\n      </g>\r\n     </g>\r\n     <g id=\"text_14\">\r\n      <!-- 0.55 -->\r\n      <g transform=\"translate(7.2 75.601902)scale(0.1 -0.1)\">\r\n       <use xlink:href=\"#DejaVuSans-30\"/>\r\n       <use x=\"63.623047\" xlink:href=\"#DejaVuSans-2e\"/>\r\n       <use x=\"95.410156\" xlink:href=\"#DejaVuSans-35\"/>\r\n       <use x=\"159.033203\" xlink:href=\"#DejaVuSans-35\"/>\r\n      </g>\r\n     </g>\r\n    </g>\r\n    <g id=\"ytick_7\">\r\n     <g id=\"line2d_15\">\r\n      <g>\r\n       <use style=\"stroke:#000000;stroke-width:0.8;\" x=\"36.465625\" xlink:href=\"#m4532eba07e\" y=\"42.548965\"/>\r\n      </g>\r\n     </g>\r\n     <g id=\"text_15\">\r\n      <!-- 0.60 -->\r\n      <g transform=\"translate(7.2 46.348184)scale(0.1 -0.1)\">\r\n       <use xlink:href=\"#DejaVuSans-30\"/>\r\n       <use x=\"63.623047\" xlink:href=\"#DejaVuSans-2e\"/>\r\n       <use x=\"95.410156\" xlink:href=\"#DejaVuSans-36\"/>\r\n       <use x=\"159.033203\" xlink:href=\"#DejaVuSans-30\"/>\r\n      </g>\r\n     </g>\r\n    </g>\r\n    <g id=\"ytick_8\">\r\n     <g id=\"line2d_16\">\r\n      <g>\r\n       <use style=\"stroke:#000000;stroke-width:0.8;\" x=\"36.465625\" xlink:href=\"#m4532eba07e\" y=\"13.295248\"/>\r\n      </g>\r\n     </g>\r\n     <g id=\"text_16\">\r\n      <!-- 0.65 -->\r\n      <g transform=\"translate(7.2 17.094466)scale(0.1 -0.1)\">\r\n       <use xlink:href=\"#DejaVuSans-30\"/>\r\n       <use x=\"63.623047\" xlink:href=\"#DejaVuSans-2e\"/>\r\n       <use x=\"95.410156\" xlink:href=\"#DejaVuSans-36\"/>\r\n       <use x=\"159.033203\" xlink:href=\"#DejaVuSans-35\"/>\r\n      </g>\r\n     </g>\r\n    </g>\r\n   </g>\r\n   <g id=\"line2d_17\">\r\n    <path clip-path=\"url(#p86e9572c87)\" d=\"M 51.683807 17.083636 \r\nL 52.119234 21.756917 \r\nL 52.554661 28.738696 \r\nL 52.990089 40.377993 \r\nL 54.29637 60.37764 \r\nL 54.731797 65.422808 \r\nL 55.167225 72.514926 \r\nL 55.602652 84.423548 \r\nL 56.038079 80.840646 \r\nL 56.473506 89.482038 \r\nL 56.908934 86.221991 \r\nL 57.344361 101.219921 \r\nL 57.779788 92.71858 \r\nL 58.215215 99.740847 \r\nL 58.650643 100.068968 \r\nL 59.08607 109.701228 \r\nL 59.521497 101.294271 \r\nL 59.956924 102.075918 \r\nL 60.392351 94.721205 \r\nL 60.827779 97.587988 \r\nL 61.263206 107.286298 \r\nL 61.698633 105.062925 \r\nL 62.13406 106.24291 \r\nL 62.569488 104.293798 \r\nL 63.004915 108.122033 \r\nL 63.440342 108.59064 \r\nL 63.875769 104.953685 \r\nL 64.311197 109.142613 \r\nL 64.746624 115.951595 \r\nL 65.182051 110.947281 \r\nL 65.617478 112.58862 \r\nL 66.052906 112.481664 \r\nL 66.488333 107.84446 \r\nL 66.92376 105.699308 \r\nL 67.359187 111.41404 \r\nL 67.794614 108.834753 \r\nL 68.230042 111.367101 \r\nL 68.665469 122.285431 \r\nL 69.100896 112.041251 \r\nL 69.971751 119.82935 \r\nL 70.842605 114.67386 \r\nL 71.278032 114.556687 \r\nL 71.71346 120.964401 \r\nL 72.148887 117.340976 \r\nL 72.584314 128.252349 \r\nL 73.019741 130.888079 \r\nL 73.455169 118.478503 \r\nL 73.890596 115.709697 \r\nL 74.326023 114.811121 \r\nL 74.76145 128.86847 \r\nL 75.196877 129.102277 \r\nL 75.632305 116.952629 \r\nL 76.067732 128.424744 \r\nL 76.503159 126.706038 \r\nL 76.938586 131.65745 \r\nL 77.374014 124.193445 \r\nL 77.809441 131.63623 \r\nL 78.244868 125.116154 \r\nL 78.680295 127.087795 \r\nL 79.115723 134.081483 \r\nL 79.55115 117.728818 \r\nL 79.986577 132.692119 \r\nL 80.422004 125.81829 \r\nL 80.857431 129.425848 \r\nL 81.292859 140.367996 \r\nL 81.728286 139.705441 \r\nL 82.163713 136.038058 \r\nL 82.59914 136.507817 \r\nL 83.034568 139.82183 \r\nL 83.469995 129.501714 \r\nL 83.905422 139.093016 \r\nL 84.340849 129.504922 \r\nL 84.776277 142.016258 \r\nL 85.211704 137.798629 \r\nL 85.647131 131.924648 \r\nL 86.082558 138.310253 \r\nL 86.517986 142.577175 \r\nL 86.953413 139.891646 \r\nL 87.38884 142.466732 \r\nL 87.824267 137.410421 \r\nL 88.259694 135.90343 \r\nL 88.695122 144.001691 \r\nL 89.130549 142.405407 \r\nL 89.565976 146.073923 \r\nL 90.001403 131.860063 \r\nL 90.436831 147.985896 \r\nL 90.872258 151.823616 \r\nL 91.307685 150.568706 \r\nL 91.743112 136.225449 \r\nL 92.17854 152.593545 \r\nL 92.613967 140.457184 \r\nL 93.049394 146.423177 \r\nL 93.484821 143.615819 \r\nL 93.920248 145.868293 \r\nL 94.355676 149.001524 \r\nL 94.791103 147.462118 \r\nL 95.22653 142.478606 \r\nL 95.661957 150.22674 \r\nL 96.532812 140.260953 \r\nL 96.968239 152.767475 \r\nL 97.403666 151.136179 \r\nL 97.839094 137.615179 \r\nL 98.274521 148.522349 \r\nL 98.709948 141.950278 \r\nL 99.145375 147.629719 \r\nL 99.580803 151.248418 \r\nL 100.01623 144.894199 \r\nL 100.887084 153.704168 \r\nL 101.757939 149.907668 \r\nL 102.193366 149.530881 \r\nL 102.628793 147.372913 \r\nL 103.06422 153.655991 \r\nL 103.499648 150.825128 \r\nL 103.935075 152.052872 \r\nL 104.370502 142.043616 \r\nL 104.805929 155.893382 \r\nL 105.241357 154.132776 \r\nL 105.676784 155.463065 \r\nL 106.112211 149.605178 \r\nL 106.547638 156.055664 \r\nL 106.983065 143.693395 \r\nL 107.418493 140.286637 \r\nL 107.85392 153.387276 \r\nL 108.289347 152.185512 \r\nL 108.724774 157.798276 \r\nL 109.160202 157.075233 \r\nL 109.595629 153.269352 \r\nL 110.031056 153.596532 \r\nL 110.466483 151.229709 \r\nL 110.901911 154.362887 \r\nL 111.337338 152.574121 \r\nL 111.772765 167.775257 \r\nL 112.208192 155.879381 \r\nL 112.64362 160.720698 \r\nL 113.079047 152.640886 \r\nL 113.514474 167.396517 \r\nL 113.949901 155.192484 \r\nL 114.385328 159.03493 \r\nL 114.820756 167.211707 \r\nL 115.256183 158.546305 \r\nL 115.69161 159.151424 \r\nL 116.127037 157.032095 \r\nL 116.562465 155.854847 \r\nL 116.997892 160.72211 \r\nL 117.433319 161.524507 \r\nL 117.868746 156.758602 \r\nL 118.304174 160.586384 \r\nL 118.739601 162.144272 \r\nL 119.175028 159.127745 \r\nL 119.610455 168.681558 \r\nL 120.045883 165.491048 \r\nL 120.48131 164.106759 \r\nL 120.916737 158.840407 \r\nL 121.352164 168.543373 \r\nL 121.787591 168.175113 \r\nL 122.223019 161.148312 \r\nL 122.658446 152.14349 \r\nL 123.5293 166.645576 \r\nL 123.964728 158.733382 \r\nL 124.400155 155.001031 \r\nL 124.835582 169.197994 \r\nL 125.271009 161.134241 \r\nL 125.706437 163.655953 \r\nL 126.141864 161.874232 \r\nL 126.577291 162.394766 \r\nL 127.012718 164.407592 \r\nL 127.448145 162.393633 \r\nL 127.883573 166.411333 \r\nL 128.319 165.96201 \r\nL 128.754427 160.568825 \r\nL 129.625282 165.622991 \r\nL 130.060709 164.670623 \r\nL 130.496136 150.729959 \r\nL 130.931563 163.500977 \r\nL 131.366991 157.750203 \r\nL 131.802418 165.814601 \r\nL 132.237845 161.050807 \r\nL 132.673272 168.426914 \r\nL 133.1087 173.366295 \r\nL 133.544127 170.268408 \r\nL 133.979554 164.313678 \r\nL 134.414981 165.587682 \r\nL 134.850408 167.817 \r\nL 135.285836 172.089379 \r\nL 135.721263 168.854982 \r\nL 136.15669 163.324589 \r\nL 136.592117 164.437286 \r\nL 137.027545 178.686019 \r\nL 137.462972 167.147558 \r\nL 137.898399 170.915863 \r\nL 138.333826 172.059301 \r\nL 138.769254 166.140439 \r\nL 139.204681 167.577596 \r\nL 139.640108 158.703182 \r\nL 140.075535 176.046471 \r\nL 140.510962 167.703261 \r\nL 140.94639 168.649649 \r\nL 141.381817 168.450087 \r\nL 141.817244 176.521373 \r\nL 142.252671 173.785731 \r\nL 142.688099 170.066336 \r\nL 143.123526 169.976468 \r\nL 143.558953 170.328024 \r\nL 143.99438 165.826894 \r\nL 144.429808 170.553304 \r\nL 145.300662 164.847796 \r\nL 145.736089 172.708727 \r\nL 146.171517 171.327453 \r\nL 146.606944 166.456808 \r\nL 147.042371 171.377427 \r\nL 147.477798 171.392021 \r\nL 147.913225 176.928168 \r\nL 148.348653 177.156727 \r\nL 148.78408 174.629941 \r\nL 149.219507 174.20407 \r\nL 149.654934 171.797177 \r\nL 150.090362 161.166377 \r\nL 150.525789 170.465058 \r\nL 150.961216 172.607682 \r\nL 151.396643 170.857886 \r\nL 151.832071 174.745423 \r\nL 152.267498 172.148542 \r\nL 152.702925 174.619095 \r\nL 153.138352 160.613899 \r\nL 153.57378 175.008279 \r\nL 154.009207 172.775142 \r\nL 154.444634 177.619302 \r\nL 154.880061 173.605071 \r\nL 155.315488 172.948497 \r\nL 155.750916 187.022724 \r\nL 156.186343 177.365861 \r\nL 156.62177 173.415902 \r\nL 157.057197 172.861488 \r\nL 157.492625 173.634748 \r\nL 157.928052 180.144676 \r\nL 158.363479 167.564327 \r\nL 158.798906 174.79245 \r\nL 159.234334 180.117004 \r\nL 159.669761 179.522504 \r\nL 160.105188 171.046393 \r\nL 160.540615 174.176572 \r\nL 160.976042 171.874282 \r\nL 161.41147 175.495963 \r\nL 161.846897 182.233386 \r\nL 162.282324 177.613426 \r\nL 162.717751 179.316037 \r\nL 163.153179 173.140909 \r\nL 163.588606 177.181644 \r\nL 164.024033 182.28362 \r\nL 164.45946 182.556102 \r\nL 164.894888 175.308433 \r\nL 165.330315 193.11543 \r\nL 165.765742 192.68227 \r\nL 166.201169 180.767092 \r\nL 166.636597 178.023586 \r\nL 167.072024 189.29403 \r\nL 167.507451 180.778617 \r\nL 167.942878 186.853415 \r\nL 168.378305 175.905095 \r\nL 168.813733 173.171493 \r\nL 169.24916 175.416696 \r\nL 169.684587 171.823367 \r\nL 170.120014 181.420475 \r\nL 170.555442 183.510092 \r\nL 170.990869 176.828292 \r\nL 171.426296 185.60119 \r\nL 171.861723 170.592153 \r\nL 172.297151 176.761858 \r\nL 172.732578 176.629026 \r\nL 173.603432 184.095071 \r\nL 174.038859 177.794348 \r\nL 174.474287 176.625644 \r\nL 174.909714 181.831194 \r\nL 175.345141 174.720733 \r\nL 175.780568 179.80536 \r\nL 176.215996 175.923926 \r\nL 176.651423 180.174196 \r\nL 177.08685 188.238873 \r\nL 177.522277 186.292341 \r\nL 177.957705 173.48019 \r\nL 178.393132 174.828718 \r\nL 179.263986 184.422513 \r\nL 179.699414 174.502793 \r\nL 180.134841 177.749431 \r\nL 180.570268 187.678636 \r\nL 181.005695 185.541819 \r\nL 181.441122 180.301309 \r\nL 181.87655 180.119689 \r\nL 182.311977 190.418218 \r\nL 182.747404 174.723662 \r\nL 183.182831 186.775823 \r\nL 183.618259 183.490074 \r\nL 184.053686 181.667935 \r\nL 184.489113 186.489549 \r\nL 184.92454 172.949683 \r\nL 185.359968 187.515709 \r\nL 185.795395 188.859563 \r\nL 186.230822 191.602859 \r\nL 186.666249 173.02473 \r\nL 187.101677 184.456218 \r\nL 187.537104 182.57047 \r\nL 187.972531 192.928998 \r\nL 188.407958 176.792983 \r\nL 188.843385 186.637027 \r\nL 189.278813 191.707723 \r\nL 189.71424 188.53941 \r\nL 190.585094 171.785512 \r\nL 191.020522 179.250633 \r\nL 191.455949 174.662146 \r\nL 192.326803 182.611864 \r\nL 192.762231 182.340551 \r\nL 193.197658 191.515729 \r\nL 193.633085 190.13517 \r\nL 194.503939 179.163206 \r\nL 194.939367 178.69186 \r\nL 195.374794 180.661757 \r\nL 195.810221 170.488109 \r\nL 196.681076 188.452541 \r\nL 197.116503 180.104275 \r\nL 197.55193 186.410369 \r\nL 197.987357 184.54905 \r\nL 198.422785 188.936981 \r\nL 198.858212 185.523702 \r\nL 199.293639 195.472035 \r\nL 199.729066 175.126063 \r\nL 200.164494 184.928243 \r\nL 200.599921 182.005629 \r\nL 201.035348 199.946469 \r\nL 201.470775 187.832531 \r\nL 201.906202 187.962451 \r\nL 202.34163 193.34901 \r\nL 202.777057 176.013742 \r\nL 203.212484 187.464062 \r\nL 203.647911 188.814873 \r\nL 204.083339 185.838432 \r\nL 204.518766 184.297667 \r\nL 204.954193 180.757362 \r\nL 205.38962 188.415471 \r\nL 205.825048 183.703934 \r\nL 206.260475 189.283376 \r\nL 206.695902 192.606543 \r\nL 207.131329 188.33814 \r\nL 207.566756 192.227682 \r\nL 208.002184 181.340058 \r\nL 208.437611 178.245606 \r\nL 208.873038 184.755813 \r\nL 209.308465 189.018742 \r\nL 209.743893 190.798859 \r\nL 210.17932 176.739226 \r\nL 210.614747 195.093609 \r\nL 211.050174 186.180137 \r\nL 211.485602 185.730169 \r\nL 211.921029 176.654432 \r\nL 212.356456 186.554064 \r\nL 212.791883 191.464901 \r\nL 213.227311 193.610908 \r\nL 213.662738 191.131915 \r\nL 214.098165 174.162623 \r\nL 214.533592 188.873007 \r\nL 214.969019 184.922942 \r\nL 215.404447 191.49395 \r\nL 215.839874 183.379753 \r\nL 216.275301 184.514526 \r\nL 216.710728 182.143849 \r\nL 217.146156 190.578914 \r\nL 217.581583 179.741298 \r\nL 218.01701 195.274549 \r\nL 218.452437 196.472999 \r\nL 218.887865 200.199858 \r\nL 219.323292 181.225883 \r\nL 219.758719 187.540661 \r\nL 220.194146 199.138633 \r\nL 220.629573 181.186215 \r\nL 221.065001 186.474553 \r\nL 221.500428 188.310381 \r\nL 221.935855 193.953118 \r\nL 222.371282 171.716603 \r\nL 222.80671 190.605034 \r\nL 223.242137 191.855097 \r\nL 223.677564 175.766056 \r\nL 224.112991 187.933855 \r\nL 224.548419 184.037583 \r\nL 224.983846 185.095704 \r\nL 225.419273 186.960389 \r\nL 225.8547 184.088498 \r\nL 226.725555 190.42066 \r\nL 227.160982 195.624344 \r\nL 227.596409 190.828972 \r\nL 228.031836 193.501563 \r\nL 228.467264 193.643095 \r\nL 228.902691 190.980618 \r\nL 229.338118 184.042465 \r\nL 229.773545 185.440024 \r\nL 230.208973 182.19853 \r\nL 230.6444 197.52786 \r\nL 231.079827 190.091091 \r\nL 231.515254 189.342853 \r\nL 231.950682 187.016133 \r\nL 232.386109 189.870605 \r\nL 232.821536 178.983662 \r\nL 233.256963 187.677695 \r\nL 233.692391 192.011154 \r\nL 234.127818 191.011097 \r\nL 234.563245 194.263768 \r\nL 234.998672 191.948871 \r\nL 235.434099 191.926848 \r\nL 235.869527 191.457508 \r\nL 236.304954 190.247096 \r\nL 236.740381 189.758174 \r\nL 237.175808 189.513086 \r\nL 237.611236 200.44744 \r\nL 238.046663 194.995389 \r\nL 238.48209 197.967767 \r\nL 239.352945 182.077102 \r\nL 239.788372 189.746684 \r\nL 240.223799 183.446814 \r\nL 240.659226 191.937973 \r\nL 241.094653 198.042308 \r\nL 241.530081 191.852586 \r\nL 241.965508 190.54833 \r\nL 242.400935 192.601086 \r\nL 242.836362 190.853732 \r\nL 243.27179 182.83024 \r\nL 243.707217 194.358919 \r\nL 244.142644 192.052636 \r\nL 244.578071 191.637331 \r\nL 245.013499 201.753927 \r\nL 245.448926 199.558 \r\nL 245.884353 195.05068 \r\nL 246.31978 185.030404 \r\nL 246.755208 195.864637 \r\nL 247.190635 188.613114 \r\nL 247.626062 192.332615 \r\nL 248.061489 188.902143 \r\nL 248.496916 194.765331 \r\nL 248.932344 195.4433 \r\nL 249.367771 195.255734 \r\nL 249.803198 189.847537 \r\nL 250.238625 193.966335 \r\nL 250.674053 191.798637 \r\nL 251.10948 196.043135 \r\nL 251.544907 185.445133 \r\nL 251.980334 202.47221 \r\nL 252.851189 190.05981 \r\nL 253.286616 186.95378 \r\nL 253.722043 194.408648 \r\nL 254.15747 199.536483 \r\nL 254.592898 196.43368 \r\nL 255.028325 199.751162 \r\nL 255.463752 196.117467 \r\nL 255.899179 189.539764 \r\nL 256.334607 195.809642 \r\nL 256.770034 189.98424 \r\nL 257.205461 186.12624 \r\nL 257.640888 194.137457 \r\nL 258.076316 193.99446 \r\nL 258.511743 192.864483 \r\nL 258.94717 194.704704 \r\nL 259.382597 203.187109 \r\nL 259.818025 188.884497 \r\nL 260.253452 197.007587 \r\nL 260.688879 202.008885 \r\nL 261.124306 188.062206 \r\nL 261.559733 190.992631 \r\nL 261.995161 192.984935 \r\nL 262.430588 192.865564 \r\nL 262.866015 191.957885 \r\nL 263.301442 192.218684 \r\nL 263.73687 185.111467 \r\nL 264.172297 190.004431 \r\nL 264.607724 198.91473 \r\nL 265.043151 193.817165 \r\nL 265.478579 198.710147 \r\nL 265.914006 199.221544 \r\nL 266.349433 194.33667 \r\nL 266.78486 204.05137 \r\nL 267.220288 193.691935 \r\nL 267.655715 201.226262 \r\nL 268.091142 195.862213 \r\nL 268.526569 185.647083 \r\nL 268.961996 196.043589 \r\nL 269.397424 198.094566 \r\nL 269.832851 199.480111 \r\nL 270.268278 194.997412 \r\nL 270.703705 197.64587 \r\nL 271.139133 192.703648 \r\nL 271.57456 199.589055 \r\nL 272.009987 185.984952 \r\nL 272.445414 182.358946 \r\nL 272.880842 200.245803 \r\nL 273.316269 195.578956 \r\nL 273.751696 199.711895 \r\nL 274.187123 197.026331 \r\nL 274.62255 196.294065 \r\nL 275.057978 197.394906 \r\nL 275.493405 201.060963 \r\nL 275.928832 192.447853 \r\nL 276.364259 201.024555 \r\nL 276.799687 194.757153 \r\nL 277.235114 203.211712 \r\nL 277.670541 189.518474 \r\nL 278.105968 197.08171 \r\nL 278.541396 195.798884 \r\nL 278.976823 190.993521 \r\nL 279.41225 190.01838 \r\nL 279.847677 191.384344 \r\nL 280.718532 195.363615 \r\nL 281.153959 195.647465 \r\nL 281.589386 189.715838 \r\nL 282.024813 198.166125 \r\nL 282.460241 195.417093 \r\nL 282.895668 196.628411 \r\nL 283.331095 191.599285 \r\nL 283.766522 193.98276 \r\nL 284.20195 192.713621 \r\nL 284.637377 196.408083 \r\nL 285.072804 201.275869 \r\nL 285.508231 195.113504 \r\nL 285.943659 193.75401 \r\nL 286.379086 196.184563 \r\nL 286.814513 188.574806 \r\nL 287.24994 189.037155 \r\nL 287.685367 197.289972 \r\nL 288.120795 189.828932 \r\nL 288.556222 191.244067 \r\nL 288.991649 190.411924 \r\nL 289.427076 196.003886 \r\nL 289.862504 194.769516 \r\nL 290.297931 191.156989 \r\nL 291.168785 200.618126 \r\nL 291.604213 192.138668 \r\nL 292.03964 196.152637 \r\nL 292.475067 192.968701 \r\nL 292.910494 200.706913 \r\nL 293.345922 198.411545 \r\nL 293.781349 193.554762 \r\nL 294.216776 195.180426 \r\nL 294.652203 204.971028 \r\nL 295.08763 206.110508 \r\nL 295.523058 203.39987 \r\nL 295.958485 191.3973 \r\nL 296.393912 204.150933 \r\nL 296.829339 194.019429 \r\nL 297.264767 200.535041 \r\nL 297.700194 202.128918 \r\nL 298.135621 198.440664 \r\nL 298.571048 193.724577 \r\nL 299.006476 208.006753 \r\nL 299.441903 192.767745 \r\nL 299.87733 197.800672 \r\nL 300.312757 197.428227 \r\nL 300.748185 192.221317 \r\nL 301.183612 198.129404 \r\nL 301.619039 193.006538 \r\nL 302.054466 214.590612 \r\nL 302.489893 191.41294 \r\nL 302.925321 193.243554 \r\nL 303.360748 198.486941 \r\nL 303.796175 209.500997 \r\nL 304.231602 198.970196 \r\nL 304.66703 196.660285 \r\nL 305.102457 197.130376 \r\nL 305.537884 195.006147 \r\nL 305.973311 199.534077 \r\nL 306.408739 187.314438 \r\nL 306.844166 193.845185 \r\nL 307.279593 192.438001 \r\nL 307.71502 194.632081 \r\nL 308.150447 196.018811 \r\nL 308.585875 183.378725 \r\nL 309.456729 203.042682 \r\nL 309.892156 195.846398 \r\nL 310.327584 194.328213 \r\nL 310.763011 201.780414 \r\nL 311.198438 198.613653 \r\nL 311.633865 191.226473 \r\nL 312.069293 198.761393 \r\nL 312.50472 194.383644 \r\nL 312.940147 202.632086 \r\nL 313.375574 194.275206 \r\nL 313.811002 202.813234 \r\nL 314.246429 199.043394 \r\nL 314.681856 192.019977 \r\nL 315.117283 190.238011 \r\nL 315.55271 202.425846 \r\nL 315.988138 195.915534 \r\nL 316.423565 197.835842 \r\nL 316.858992 197.424234 \r\nL 317.294419 199.475769 \r\nL 317.729847 194.966183 \r\nL 318.165274 208.338466 \r\nL 318.600701 191.480943 \r\nL 319.036128 198.240859 \r\nL 319.471556 199.973479 \r\nL 319.906983 188.189144 \r\nL 320.34241 193.122422 \r\nL 320.777837 205.382618 \r\nL 321.213264 195.90774 \r\nL 321.648692 201.845469 \r\nL 322.084119 195.633062 \r\nL 322.519546 195.044508 \r\nL 322.954973 197.443955 \r\nL 323.390401 205.071968 \r\nL 323.825828 205.41505 \r\nL 324.261255 202.491006 \r\nL 324.696682 197.349815 \r\nL 325.13211 199.222712 \r\nL 325.567537 203.324527 \r\nL 326.002964 193.970676 \r\nL 326.438391 201.885207 \r\nL 327.309246 196.265033 \r\nL 327.744673 197.5016 \r\nL 328.1801 206.218092 \r\nL 328.615527 202.71749 \r\nL 329.050955 197.612253 \r\nL 329.486382 206.183846 \r\nL 329.921809 198.556809 \r\nL 330.357236 208.327882 \r\nL 330.792664 201.212888 \r\nL 331.228091 199.939268 \r\nL 331.663518 210.071139 \r\nL 332.098945 198.837329 \r\nL 332.534373 208.392642 \r\nL 332.9698 208.378919 \r\nL 333.405227 197.638617 \r\nL 333.840654 203.974039 \r\nL 334.276081 190.543587 \r\nL 334.711509 200.186205 \r\nL 335.582363 191.299585 \r\nL 336.01779 199.309947 \r\nL 336.453218 195.21985 \r\nL 336.888645 195.347102 \r\nL 337.324072 205.767652 \r\nL 337.759499 199.523423 \r\nL 338.194927 181.215874 \r\nL 338.630354 204.914115 \r\nL 339.065781 197.885309 \r\nL 339.501208 198.449784 \r\nL 339.936636 198.296847 \r\nL 340.372063 206.623283 \r\nL 340.80749 192.371777 \r\nL 341.242917 201.204972 \r\nL 341.678344 192.685967 \r\nL 342.113772 204.670473 \r\nL 342.549199 199.51127 \r\nL 342.984626 206.942825 \r\nL 343.420053 200.748378 \r\nL 343.855481 191.92432 \r\nL 344.290908 205.703102 \r\nL 344.726335 205.291495 \r\nL 345.161762 199.940785 \r\nL 345.59719 204.624894 \r\nL 346.032617 187.155644 \r\nL 346.903471 205.0942 \r\nL 347.338899 201.083578 \r\nL 347.774326 209.855884 \r\nL 348.209753 212.055002 \r\nL 348.64518 205.638064 \r\nL 349.080607 197.558531 \r\nL 349.516035 198.379793 \r\nL 349.951462 202.437511 \r\nL 350.386889 204.225945 \r\nL 350.822316 198.25704 \r\nL 351.257744 201.468979 \r\nL 351.693171 198.628631 \r\nL 352.128598 214.756364 \r\nL 352.564025 190.998909 \r\nL 352.999453 207.843825 \r\nL 353.43488 194.559475 \r\nL 353.870307 195.199484 \r\nL 354.305734 204.261272 \r\nL 354.741161 200.154 \r\nL 355.176589 192.920105 \r\nL 355.612016 206.181562 \r\nL 356.047443 203.477951 \r\nL 356.047443 203.477951 \r\n\" style=\"fill:none;stroke:#1f77b4;stroke-linecap:square;stroke-width:1.5;\"/>\r\n   </g>\r\n   <g id=\"line2d_18\">\r\n    <path clip-path=\"url(#p86e9572c87)\" d=\"M 51.683807 22.072136 \r\nL 53.425516 56.683806 \r\nL 55.167225 90.128691 \r\nL 56.038079 103.175015 \r\nL 56.908934 112.805584 \r\nL 57.779788 120.109451 \r\nL 58.650643 125.545931 \r\nL 59.08607 127.308873 \r\nL 59.956924 129.390451 \r\nL 60.392351 129.94544 \r\nL 60.827779 129.904708 \r\nL 61.263206 130.070303 \r\nL 62.13406 131.943759 \r\nL 62.569488 132.849345 \r\nL 63.440342 135.171495 \r\nL 64.311197 136.200375 \r\nL 65.182051 137.681647 \r\nL 66.052906 139.378156 \r\nL 66.488333 139.560264 \r\nL 67.794614 141.227758 \r\nL 68.665469 143.204787 \r\nL 69.536323 144.680653 \r\nL 70.842605 145.911048 \r\nL 71.278032 146.550796 \r\nL 71.71346 147.428588 \r\nL 72.148887 148.049783 \r\nL 73.019741 150.222973 \r\nL 73.455169 150.919547 \r\nL 74.326023 151.736886 \r\nL 74.76145 151.919622 \r\nL 76.067732 153.424642 \r\nL 76.938586 154.890518 \r\nL 77.374014 155.326798 \r\nL 77.809441 156.14766 \r\nL 78.244868 156.624724 \r\nL 79.115723 157.020622 \r\nL 79.986577 157.234691 \r\nL 81.292859 158.070792 \r\nL 81.728286 158.554744 \r\nL 82.59914 159.775862 \r\nL 83.034568 160.030994 \r\nL 84.340849 161.30831 \r\nL 84.776277 161.378214 \r\nL 86.953413 163.094199 \r\nL 88.259694 163.674698 \r\nL 88.695122 163.528719 \r\nL 89.130549 163.547986 \r\nL 89.565976 163.842978 \r\nL 90.436831 163.950108 \r\nL 91.743112 164.87259 \r\nL 92.613967 165.702589 \r\nL 93.484821 166.041591 \r\nL 94.791103 165.870712 \r\nL 95.22653 166.198781 \r\nL 95.661957 166.934988 \r\nL 96.097385 167.379621 \r\nL 97.403666 167.542618 \r\nL 97.839094 167.302325 \r\nL 99.580803 168.554288 \r\nL 100.451657 169.344845 \r\nL 101.757939 170.182655 \r\nL 102.628793 170.874538 \r\nL 103.499648 171.557424 \r\nL 103.935075 171.55854 \r\nL 104.370502 171.229233 \r\nL 104.805929 171.215493 \r\nL 105.676784 171.597825 \r\nL 106.112211 171.584207 \r\nL 106.983065 172.345749 \r\nL 108.289347 172.499278 \r\nL 108.724774 172.445591 \r\nL 109.595629 172.867731 \r\nL 110.031056 173.084729 \r\nL 110.466483 173.075383 \r\nL 110.901911 173.193899 \r\nL 111.772765 174.04374 \r\nL 112.208192 174.205552 \r\nL 113.079047 174.958812 \r\nL 116.127037 176.949057 \r\nL 116.997892 177.106858 \r\nL 117.433319 176.999031 \r\nL 118.304174 176.509412 \r\nL 119.610455 177.182202 \r\nL 120.045883 177.592885 \r\nL 120.48131 177.757923 \r\nL 120.916737 178.313992 \r\nL 121.787591 178.899617 \r\nL 122.658446 179.263693 \r\nL 124.835582 179.385226 \r\nL 125.706437 179.786302 \r\nL 126.577291 180.30239 \r\nL 127.012718 180.282808 \r\nL 127.448145 180.411979 \r\nL 128.754427 181.466473 \r\nL 129.625282 182.189201 \r\nL 130.060709 182.316279 \r\nL 130.931563 182.025001 \r\nL 131.802418 182.220413 \r\nL 132.673272 182.205888 \r\nL 133.1087 182.156211 \r\nL 134.414981 182.642901 \r\nL 135.285836 183.259947 \r\nL 136.15669 183.21088 \r\nL 136.592117 183.475724 \r\nL 137.898399 185.207071 \r\nL 138.333826 185.350313 \r\nL 138.769254 185.242433 \r\nL 139.204681 185.266286 \r\nL 140.075535 185.618888 \r\nL 141.381817 186.436734 \r\nL 142.252671 187.405143 \r\nL 144.865235 187.240141 \r\nL 145.300662 186.987189 \r\nL 145.736089 186.873049 \r\nL 147.477798 187.213568 \r\nL 147.913225 187.541445 \r\nL 148.348653 187.697921 \r\nL 148.78408 188.005694 \r\nL 149.654934 189.013615 \r\nL 150.090362 189.284981 \r\nL 150.961216 189.998956 \r\nL 151.832071 190.133008 \r\nL 152.267498 189.831234 \r\nL 152.702925 189.907118 \r\nL 153.138352 190.215047 \r\nL 154.009207 190.489238 \r\nL 154.444634 190.411087 \r\nL 155.750916 189.61699 \r\nL 156.186343 189.149446 \r\nL 156.62177 189.29675 \r\nL 157.057197 189.262313 \r\nL 157.492625 189.71732 \r\nL 158.798906 191.648892 \r\nL 159.669761 192.011137 \r\nL 160.105188 191.823938 \r\nL 160.540615 191.806344 \r\nL 161.41147 191.409906 \r\nL 162.282324 190.276198 \r\nL 162.717751 190.180767 \r\nL 163.153179 190.281655 \r\nL 164.024033 191.001681 \r\nL 164.45946 191.21697 \r\nL 164.894888 191.30091 \r\nL 166.636597 192.18341 \r\nL 167.072024 192.191448 \r\nL 167.507451 192.378456 \r\nL 168.813733 192.484296 \r\nL 169.24916 192.690657 \r\nL 169.684587 193.14413 \r\nL 170.120014 193.265123 \r\nL 171.426296 191.838183 \r\nL 171.861723 191.630217 \r\nL 172.732578 192.038373 \r\nL 173.168005 191.825978 \r\nL 173.603432 191.899926 \r\nL 174.038859 192.333138 \r\nL 175.345141 194.68453 \r\nL 175.780568 194.969548 \r\nL 176.215996 194.929322 \r\nL 176.651423 194.703448 \r\nL 177.522277 194.635498 \r\nL 177.957705 194.482597 \r\nL 178.393132 194.653562 \r\nL 178.828559 194.25777 \r\nL 179.263986 194.054302 \r\nL 179.699414 193.57722 \r\nL 180.570268 193.35949 \r\nL 181.005695 193.753922 \r\nL 181.441122 194.626518 \r\nL 181.87655 194.680136 \r\nL 182.311977 194.194283 \r\nL 182.747404 194.13526 \r\nL 183.618259 195.184611 \r\nL 184.053686 195.971558 \r\nL 184.489113 196.243412 \r\nL 185.359968 196.51204 \r\nL 185.795395 196.828444 \r\nL 186.230822 196.925356 \r\nL 187.101677 196.355267 \r\nL 187.537104 195.893582 \r\nL 188.407958 196.370629 \r\nL 189.71424 196.587505 \r\nL 190.585094 196.900422 \r\nL 191.020522 196.456923 \r\nL 191.891376 197.195885 \r\nL 192.326803 197.177524 \r\nL 193.197658 196.404351 \r\nL 193.633085 196.012447 \r\nL 194.068512 195.911385 \r\nL 194.939367 195.954052 \r\nL 195.810221 196.312199 \r\nL 196.245648 196.150527 \r\nL 197.116503 196.776657 \r\nL 198.422785 196.500253 \r\nL 199.729066 197.860602 \r\nL 200.164494 198.164399 \r\nL 200.599921 197.803654 \r\nL 201.470775 197.670037 \r\nL 202.777057 196.687016 \r\nL 203.647911 197.293599 \r\nL 204.518766 198.425372 \r\nL 204.954193 198.798166 \r\nL 205.38962 198.598151 \r\nL 205.825048 198.238731 \r\nL 206.695902 198.42328 \r\nL 207.131329 198.111741 \r\nL 207.566756 198.26874 \r\nL 208.002184 198.617768 \r\nL 208.873038 198.757016 \r\nL 209.308465 199.095408 \r\nL 209.743893 199.576343 \r\nL 210.17932 199.530241 \r\nL 210.614747 199.248937 \r\nL 211.485602 199.088799 \r\nL 211.921029 199.397496 \r\nL 212.791883 199.65486 \r\nL 213.662738 199.317428 \r\nL 214.098165 199.461837 \r\nL 214.533592 199.727518 \r\nL 214.969019 199.757143 \r\nL 215.404447 199.544713 \r\nL 216.275301 199.785216 \r\nL 216.710728 199.713691 \r\nL 218.01701 200.17794 \r\nL 218.452437 200.399297 \r\nL 219.758719 200.133791 \r\nL 220.194146 200.209082 \r\nL 220.629573 200.143102 \r\nL 221.500428 200.369184 \r\nL 221.935855 200.023382 \r\nL 222.371282 200.047671 \r\nL 223.677564 199.590659 \r\nL 225.419273 199.74145 \r\nL 226.290128 199.61357 \r\nL 226.725555 199.703072 \r\nL 227.596409 199.275092 \r\nL 228.031836 199.207769 \r\nL 228.467264 199.421576 \r\nL 228.902691 199.373085 \r\nL 229.338118 199.675226 \r\nL 229.773545 199.477617 \r\nL 230.208973 199.110421 \r\nL 230.6444 199.010649 \r\nL 231.515254 199.80267 \r\nL 231.950682 199.814841 \r\nL 232.386109 199.648444 \r\nL 232.821536 199.238562 \r\nL 233.692391 199.515455 \r\nL 234.563245 200.233214 \r\nL 234.998672 200.152936 \r\nL 235.869527 199.432056 \r\nL 236.304954 199.42407 \r\nL 236.740381 199.701416 \r\nL 237.611236 199.81791 \r\nL 238.48209 199.43237 \r\nL 238.917517 199.244124 \r\nL 239.352945 199.375038 \r\nL 239.788372 199.648095 \r\nL 240.223799 199.273226 \r\nL 240.659226 199.110979 \r\nL 241.094653 199.703561 \r\nL 241.530081 199.99034 \r\nL 242.400935 200.182962 \r\nL 242.836362 200.196859 \r\nL 243.27179 200.025632 \r\nL 243.707217 200.184095 \r\nL 244.142644 200.057035 \r\nL 244.578071 199.802548 \r\nL 245.013499 200.16638 \r\nL 245.448926 200.198236 \r\nL 246.31978 199.773377 \r\nL 246.755208 199.926016 \r\nL 247.190635 199.870533 \r\nL 247.626062 199.530328 \r\nL 248.496916 199.168432 \r\nL 248.932344 199.311883 \r\nL 249.367771 198.959786 \r\nL 249.803198 198.457177 \r\nL 250.674053 198.425634 \r\nL 251.10948 198.550689 \r\nL 251.544907 197.862956 \r\nL 251.980334 197.689566 \r\nL 252.851189 198.095577 \r\nL 253.286616 198.979298 \r\nL 253.722043 199.391777 \r\nL 254.15747 199.622324 \r\nL 254.592898 199.697074 \r\nL 255.463752 200.308906 \r\nL 256.334607 199.873602 \r\nL 256.770034 198.764671 \r\nL 257.205461 198.542721 \r\nL 258.076316 198.856614 \r\nL 258.94717 199.461471 \r\nL 259.382597 199.393713 \r\nL 259.818025 199.460931 \r\nL 260.688879 199.953287 \r\nL 261.124306 200.407702 \r\nL 261.559733 200.383866 \r\nL 261.995161 200.226658 \r\nL 262.430588 200.692877 \r\nL 262.866015 200.577813 \r\nL 263.301442 200.136493 \r\nL 263.73687 200.195464 \r\nL 264.172297 200.623026 \r\nL 264.607724 200.700811 \r\nL 265.043151 200.906004 \r\nL 265.478579 200.868202 \r\nL 265.914006 200.186745 \r\nL 266.349433 200.010183 \r\nL 267.220288 199.274394 \r\nL 268.526569 200.801611 \r\nL 269.397424 200.056285 \r\nL 269.832851 199.412335 \r\nL 270.268278 199.089828 \r\nL 270.703705 198.291006 \r\nL 271.139133 198.37315 \r\nL 271.57456 200.106712 \r\nL 272.009987 200.73809 \r\nL 272.445414 200.913258 \r\nL 272.880842 200.963301 \r\nL 273.751696 200.141376 \r\nL 274.187123 199.610188 \r\nL 274.62255 199.394201 \r\nL 275.057978 199.011677 \r\nL 275.493405 199.289756 \r\nL 275.928832 198.892341 \r\nL 276.364259 198.722858 \r\nL 277.670541 201.372154 \r\nL 278.105968 201.510182 \r\nL 278.976823 200.48594 \r\nL 279.41225 199.539883 \r\nL 279.847677 199.296887 \r\nL 280.283105 199.455752 \r\nL 280.718532 200.030758 \r\nL 281.153959 200.052676 \r\nL 282.024813 200.977215 \r\nL 282.460241 200.910782 \r\nL 283.331095 199.428882 \r\nL 283.766522 199.308657 \r\nL 284.20195 199.375178 \r\nL 285.072804 200.860809 \r\nL 285.943659 201.451124 \r\nL 286.814513 200.021115 \r\nL 287.24994 199.604713 \r\nL 287.685367 199.606753 \r\nL 288.120795 199.953095 \r\nL 288.991649 199.608409 \r\nL 289.427076 199.38081 \r\nL 289.862504 199.407575 \r\nL 292.03964 201.047101 \r\nL 292.475067 200.651256 \r\nL 292.910494 200.574082 \r\nL 293.345922 200.656713 \r\nL 293.781349 201.051042 \r\nL 294.216776 201.713771 \r\nL 294.652203 201.96906 \r\nL 295.08763 202.081979 \r\nL 295.523058 201.998127 \r\nL 296.393912 201.517836 \r\nL 296.829339 201.764825 \r\nL 297.264767 201.807789 \r\nL 298.571048 201.135435 \r\nL 299.006476 200.703287 \r\nL 299.441903 200.068386 \r\nL 299.87733 199.903314 \r\nL 300.312757 199.87885 \r\nL 300.748185 199.971927 \r\nL 301.183612 200.506724 \r\nL 301.619039 200.714463 \r\nL 302.054466 201.298205 \r\nL 302.925321 201.870752 \r\nL 303.796175 201.9243 \r\nL 304.66703 201.431473 \r\nL 305.102457 201.002428 \r\nL 305.537884 200.27351 \r\nL 305.973311 200.229012 \r\nL 306.408739 200.559818 \r\nL 306.844166 201.956628 \r\nL 307.279593 202.808038 \r\nL 307.71502 202.696514 \r\nL 308.150447 201.977464 \r\nL 308.585875 201.648018 \r\nL 309.021302 201.829306 \r\nL 309.456729 201.738583 \r\nL 309.892156 201.382755 \r\nL 310.327584 201.288911 \r\nL 311.198438 201.85621 \r\nL 312.069293 201.749882 \r\nL 312.50472 201.393775 \r\nL 313.375574 201.2777 \r\nL 314.246429 200.780008 \r\nL 314.681856 200.655231 \r\nL 315.117283 200.901889 \r\nL 315.55271 201.361378 \r\nL 315.988138 201.377803 \r\nL 316.423565 200.62592 \r\nL 317.294419 199.764031 \r\nL 317.729847 200.048578 \r\nL 318.165274 199.971282 \r\nL 318.600701 200.042109 \r\nL 319.036128 199.751651 \r\nL 319.471556 200.076093 \r\nL 321.213264 199.741869 \r\nL 321.648692 199.977925 \r\nL 322.084119 199.692471 \r\nL 322.519546 199.59385 \r\nL 324.261255 201.143926 \r\nL 324.696682 201.192923 \r\nL 325.13211 201.418116 \r\nL 325.567537 202.385044 \r\nL 326.002964 202.973389 \r\nL 326.438391 203.183604 \r\nL 327.309246 203.057922 \r\nL 327.744673 202.793897 \r\nL 328.615527 201.889113 \r\nL 329.050955 202.313955 \r\nL 329.921809 202.386352 \r\nL 330.792664 202.800645 \r\nL 331.663518 202.343441 \r\nL 332.9698 202.978638 \r\nL 333.405227 202.87278 \r\nL 333.840654 202.979178 \r\nL 334.276081 203.366601 \r\nL 334.711509 203.057869 \r\nL 335.146936 203.121966 \r\nL 335.582363 203.453732 \r\nL 336.01779 203.612509 \r\nL 336.453218 203.368223 \r\nL 336.888645 203.674339 \r\nL 337.759499 203.24526 \r\nL 338.194927 204.159216 \r\nL 338.630354 204.693577 \r\nL 339.501208 205.370674 \r\nL 339.936636 205.533253 \r\nL 340.372063 204.871622 \r\nL 341.678344 202.285011 \r\nL 342.113772 201.869654 \r\nL 342.984626 203.311798 \r\nL 343.420053 204.344758 \r\nL 343.855481 205.024663 \r\nL 344.726335 205.473375 \r\nL 345.161762 205.30649 \r\nL 345.59719 205.313848 \r\nL 346.468044 205.730861 \r\nL 346.903471 205.378573 \r\nL 347.338899 205.290919 \r\nL 348.64518 204.708381 \r\nL 349.516035 204.544006 \r\nL 350.822316 203.770607 \r\nL 351.257744 203.598264 \r\nL 351.693171 203.583878 \r\nL 352.128598 203.735542 \r\nL 353.43488 203.350472 \r\nL 353.870307 203.034225 \r\nL 354.305734 203.306933 \r\nL 355.176589 204.225771 \r\nL 356.047443 205.120477 \r\nL 356.047443 205.120477 \r\n\" style=\"fill:none;stroke:#ff7f0e;stroke-linecap:square;stroke-width:1.5;\"/>\r\n   </g>\r\n   <g id=\"patch_3\">\r\n    <path d=\"M 36.465625 224.64 \r\nL 36.465625 7.2 \r\n\" style=\"fill:none;stroke:#000000;stroke-linecap:square;stroke-linejoin:miter;stroke-width:0.8;\"/>\r\n   </g>\r\n   <g id=\"patch_4\">\r\n    <path d=\"M 371.265625 224.64 \r\nL 371.265625 7.2 \r\n\" style=\"fill:none;stroke:#000000;stroke-linecap:square;stroke-linejoin:miter;stroke-width:0.8;\"/>\r\n   </g>\r\n   <g id=\"patch_5\">\r\n    <path d=\"M 36.465625 224.64 \r\nL 371.265625 224.64 \r\n\" style=\"fill:none;stroke:#000000;stroke-linecap:square;stroke-linejoin:miter;stroke-width:0.8;\"/>\r\n   </g>\r\n   <g id=\"patch_6\">\r\n    <path d=\"M 36.465625 7.2 \r\nL 371.265625 7.2 \r\n\" style=\"fill:none;stroke:#000000;stroke-linecap:square;stroke-linejoin:miter;stroke-width:0.8;\"/>\r\n   </g>\r\n   <g id=\"legend_1\">\r\n    <g id=\"patch_7\">\r\n     <path d=\"M 293.125 44.834375 \r\nL 364.265625 44.834375 \r\nQ 366.265625 44.834375 366.265625 42.834375 \r\nL 366.265625 14.2 \r\nQ 366.265625 12.2 364.265625 12.2 \r\nL 293.125 12.2 \r\nQ 291.125 12.2 291.125 14.2 \r\nL 291.125 42.834375 \r\nQ 291.125 44.834375 293.125 44.834375 \r\nz\r\n\" style=\"fill:#ffffff;opacity:0.8;stroke:#cccccc;stroke-linejoin:miter;\"/>\r\n    </g>\r\n    <g id=\"line2d_19\">\r\n     <path d=\"M 295.125 20.298437 \r\nL 315.125 20.298437 \r\n\" style=\"fill:none;stroke:#1f77b4;stroke-linecap:square;stroke-width:1.5;\"/>\r\n    </g>\r\n    <g id=\"line2d_20\"/>\r\n    <g id=\"text_17\">\r\n     <!-- loss -->\r\n     <g transform=\"translate(323.125 23.798437)scale(0.1 -0.1)\">\r\n      <defs>\r\n       <path d=\"M 603 4863 \r\nL 1178 4863 \r\nL 1178 0 \r\nL 603 0 \r\nL 603 4863 \r\nz\r\n\" id=\"DejaVuSans-6c\" transform=\"scale(0.015625)\"/>\r\n       <path d=\"M 1959 3097 \r\nQ 1497 3097 1228 2736 \r\nQ 959 2375 959 1747 \r\nQ 959 1119 1226 758 \r\nQ 1494 397 1959 397 \r\nQ 2419 397 2687 759 \r\nQ 2956 1122 2956 1747 \r\nQ 2956 2369 2687 2733 \r\nQ 2419 3097 1959 3097 \r\nz\r\nM 1959 3584 \r\nQ 2709 3584 3137 3096 \r\nQ 3566 2609 3566 1747 \r\nQ 3566 888 3137 398 \r\nQ 2709 -91 1959 -91 \r\nQ 1206 -91 779 398 \r\nQ 353 888 353 1747 \r\nQ 353 2609 779 3096 \r\nQ 1206 3584 1959 3584 \r\nz\r\n\" id=\"DejaVuSans-6f\" transform=\"scale(0.015625)\"/>\r\n       <path d=\"M 2834 3397 \r\nL 2834 2853 \r\nQ 2591 2978 2328 3040 \r\nQ 2066 3103 1784 3103 \r\nQ 1356 3103 1142 2972 \r\nQ 928 2841 928 2578 \r\nQ 928 2378 1081 2264 \r\nQ 1234 2150 1697 2047 \r\nL 1894 2003 \r\nQ 2506 1872 2764 1633 \r\nQ 3022 1394 3022 966 \r\nQ 3022 478 2636 193 \r\nQ 2250 -91 1575 -91 \r\nQ 1294 -91 989 -36 \r\nQ 684 19 347 128 \r\nL 347 722 \r\nQ 666 556 975 473 \r\nQ 1284 391 1588 391 \r\nQ 1994 391 2212 530 \r\nQ 2431 669 2431 922 \r\nQ 2431 1156 2273 1281 \r\nQ 2116 1406 1581 1522 \r\nL 1381 1569 \r\nQ 847 1681 609 1914 \r\nQ 372 2147 372 2553 \r\nQ 372 3047 722 3315 \r\nQ 1072 3584 1716 3584 \r\nQ 2034 3584 2315 3537 \r\nQ 2597 3491 2834 3397 \r\nz\r\n\" id=\"DejaVuSans-73\" transform=\"scale(0.015625)\"/>\r\n      </defs>\r\n      <use xlink:href=\"#DejaVuSans-6c\"/>\r\n      <use x=\"27.783203\" xlink:href=\"#DejaVuSans-6f\"/>\r\n      <use x=\"88.964844\" xlink:href=\"#DejaVuSans-73\"/>\r\n      <use x=\"141.064453\" xlink:href=\"#DejaVuSans-73\"/>\r\n     </g>\r\n    </g>\r\n    <g id=\"line2d_21\">\r\n     <path d=\"M 295.125 34.976562 \r\nL 315.125 34.976562 \r\n\" style=\"fill:none;stroke:#ff7f0e;stroke-linecap:square;stroke-width:1.5;\"/>\r\n    </g>\r\n    <g id=\"line2d_22\"/>\r\n    <g id=\"text_18\">\r\n     <!-- val_loss -->\r\n     <g transform=\"translate(323.125 38.476562)scale(0.1 -0.1)\">\r\n      <defs>\r\n       <path d=\"M 191 3500 \r\nL 800 3500 \r\nL 1894 563 \r\nL 2988 3500 \r\nL 3597 3500 \r\nL 2284 0 \r\nL 1503 0 \r\nL 191 3500 \r\nz\r\n\" id=\"DejaVuSans-76\" transform=\"scale(0.015625)\"/>\r\n       <path d=\"M 2194 1759 \r\nQ 1497 1759 1228 1600 \r\nQ 959 1441 959 1056 \r\nQ 959 750 1161 570 \r\nQ 1363 391 1709 391 \r\nQ 2188 391 2477 730 \r\nQ 2766 1069 2766 1631 \r\nL 2766 1759 \r\nL 2194 1759 \r\nz\r\nM 3341 1997 \r\nL 3341 0 \r\nL 2766 0 \r\nL 2766 531 \r\nQ 2569 213 2275 61 \r\nQ 1981 -91 1556 -91 \r\nQ 1019 -91 701 211 \r\nQ 384 513 384 1019 \r\nQ 384 1609 779 1909 \r\nQ 1175 2209 1959 2209 \r\nL 2766 2209 \r\nL 2766 2266 \r\nQ 2766 2663 2505 2880 \r\nQ 2244 3097 1772 3097 \r\nQ 1472 3097 1187 3025 \r\nQ 903 2953 641 2809 \r\nL 641 3341 \r\nQ 956 3463 1253 3523 \r\nQ 1550 3584 1831 3584 \r\nQ 2591 3584 2966 3190 \r\nQ 3341 2797 3341 1997 \r\nz\r\n\" id=\"DejaVuSans-61\" transform=\"scale(0.015625)\"/>\r\n       <path d=\"M 3263 -1063 \r\nL 3263 -1509 \r\nL -63 -1509 \r\nL -63 -1063 \r\nL 3263 -1063 \r\nz\r\n\" id=\"DejaVuSans-5f\" transform=\"scale(0.015625)\"/>\r\n      </defs>\r\n      <use xlink:href=\"#DejaVuSans-76\"/>\r\n      <use x=\"59.179688\" xlink:href=\"#DejaVuSans-61\"/>\r\n      <use x=\"120.458984\" xlink:href=\"#DejaVuSans-6c\"/>\r\n      <use x=\"148.242188\" xlink:href=\"#DejaVuSans-5f\"/>\r\n      <use x=\"198.242188\" xlink:href=\"#DejaVuSans-6c\"/>\r\n      <use x=\"226.025391\" xlink:href=\"#DejaVuSans-6f\"/>\r\n      <use x=\"287.207031\" xlink:href=\"#DejaVuSans-73\"/>\r\n      <use x=\"339.306641\" xlink:href=\"#DejaVuSans-73\"/>\r\n     </g>\r\n    </g>\r\n   </g>\r\n  </g>\r\n </g>\r\n <defs>\r\n  <clipPath id=\"p86e9572c87\">\r\n   <rect height=\"217.44\" width=\"334.8\" x=\"36.465625\" y=\"7.2\"/>\r\n  </clipPath>\r\n </defs>\r\n</svg>\r\n",
      "image/png": "[encoded data removed]"
     },
     "metadata": {
      "needs_background": "light"
     }
    }
   ],
   "source": [
    "loss=pd.DataFrame(model.history.history)\n",
    "loss.plot()"
   ]
  },
  {
   "cell_type": "code",
   "execution_count": 860,
   "metadata": {},
   "outputs": [],
   "source": [
    "from sklearn.metrics import confusion_matrix, classification_report"
   ]
  },
  {
   "cell_type": "code",
   "execution_count": 861,
   "metadata": {},
   "outputs": [],
   "source": [
    "predictions=pd.DataFrame(model.predict(X_test),columns=y_test.columns)\n",
    "df=predictions.round(decimals=0)"
   ]
  },
  {
   "cell_type": "code",
   "execution_count": 862,
   "metadata": {},
   "outputs": [
    {
     "output_type": "stream",
     "name": "stdout",
     "text": [
      "DS\n[[35  0]\n [ 1  0]]\n \nIC\n[[22  4]\n [ 2  8]]\n \nCY.C\n[[29  0]\n [ 7  0]]\n \nCY.B\n[[ 8  8]\n [ 7 13]]\n \nBX.C\n[[36]]\n \nBX.B\n[[21  0]\n [ 3 12]]\n \n"
     ]
    }
   ],
   "source": [
    "for i in range(6):\n",
    "    print(y_test.columns[i])\n",
    "    print(confusion_matrix(y_test.iloc[:,i],df.iloc[:,i]))\n",
    "    print(' ')"
   ]
  },
  {
   "cell_type": "code",
   "execution_count": 863,
   "metadata": {},
   "outputs": [
    {
     "output_type": "stream",
     "name": "stdout",
     "text": [
      "DS\n",
      "              precision    recall  f1-score   support\n",
      "\n",
      "         0.0       0.97      1.00      0.99        35\n",
      "         1.0       0.00      0.00      0.00         1\n",
      "\n",
      "    accuracy                           0.97        36\n",
      "   macro avg       0.49      0.50      0.49        36\n",
      "weighted avg       0.95      0.97      0.96        36\n",
      "\n",
      " \n",
      "IC\n",
      "              precision    recall  f1-score   support\n",
      "\n",
      "         0.0       0.92      0.85      0.88        26\n",
      "         1.0       0.67      0.80      0.73        10\n",
      "\n",
      "    accuracy                           0.83        36\n",
      "   macro avg       0.79      0.82      0.80        36\n",
      "weighted avg       0.85      0.83      0.84        36\n",
      "\n",
      " \n",
      "CY.C\n",
      "              precision    recall  f1-score   support\n",
      "\n",
      "         0.0       0.81      1.00      0.89        29\n",
      "         1.0       0.00      0.00      0.00         7\n",
      "\n",
      "    accuracy                           0.81        36\n",
      "   macro avg       0.40      0.50      0.45        36\n",
      "weighted avg       0.65      0.81      0.72        36\n",
      "\n",
      " \n",
      "CY.B\n",
      "              precision    recall  f1-score   support\n",
      "\n",
      "         0.0       0.53      0.50      0.52        16\n",
      "         1.0       0.62      0.65      0.63        20\n",
      "\n",
      "    accuracy                           0.58        36\n",
      "   macro avg       0.58      0.57      0.58        36\n",
      "weighted avg       0.58      0.58      0.58        36\n",
      "\n",
      " \n",
      "BX.C\n",
      "              precision    recall  f1-score   support\n",
      "\n",
      "         0.0       1.00      1.00      1.00        36\n",
      "\n",
      "    accuracy                           1.00        36\n",
      "   macro avg       1.00      1.00      1.00        36\n",
      "weighted avg       1.00      1.00      1.00        36\n",
      "\n",
      " \n",
      "BX.B\n",
      "              precision    recall  f1-score   support\n",
      "\n",
      "         0.0       0.88      1.00      0.93        21\n",
      "         1.0       1.00      0.80      0.89        15\n",
      "\n",
      "    accuracy                           0.92        36\n",
      "   macro avg       0.94      0.90      0.91        36\n",
      "weighted avg       0.93      0.92      0.91        36\n",
      "\n",
      " \n",
      "C:\\Users\\gfernandez\\AppData\\Local\\Programs\\Python\\Python39\\lib\\site-packages\\sklearn\\metrics\\_classification.py:1248: UndefinedMetricWarning: Precision and F-score are ill-defined and being set to 0.0 in labels with no predicted samples. Use `zero_division` parameter to control this behavior.\n",
      "  _warn_prf(average, modifier, msg_start, len(result))\n",
      "C:\\Users\\gfernandez\\AppData\\Local\\Programs\\Python\\Python39\\lib\\site-packages\\sklearn\\metrics\\_classification.py:1248: UndefinedMetricWarning: Precision and F-score are ill-defined and being set to 0.0 in labels with no predicted samples. Use `zero_division` parameter to control this behavior.\n",
      "  _warn_prf(average, modifier, msg_start, len(result))\n",
      "C:\\Users\\gfernandez\\AppData\\Local\\Programs\\Python\\Python39\\lib\\site-packages\\sklearn\\metrics\\_classification.py:1248: UndefinedMetricWarning: Precision and F-score are ill-defined and being set to 0.0 in labels with no predicted samples. Use `zero_division` parameter to control this behavior.\n",
      "  _warn_prf(average, modifier, msg_start, len(result))\n",
      "C:\\Users\\gfernandez\\AppData\\Local\\Programs\\Python\\Python39\\lib\\site-packages\\sklearn\\metrics\\_classification.py:1248: UndefinedMetricWarning: Precision and F-score are ill-defined and being set to 0.0 in labels with no predicted samples. Use `zero_division` parameter to control this behavior.\n",
      "  _warn_prf(average, modifier, msg_start, len(result))\n",
      "C:\\Users\\gfernandez\\AppData\\Local\\Programs\\Python\\Python39\\lib\\site-packages\\sklearn\\metrics\\_classification.py:1248: UndefinedMetricWarning: Precision and F-score are ill-defined and being set to 0.0 in labels with no predicted samples. Use `zero_division` parameter to control this behavior.\n",
      "  _warn_prf(average, modifier, msg_start, len(result))\n",
      "C:\\Users\\gfernandez\\AppData\\Local\\Programs\\Python\\Python39\\lib\\site-packages\\sklearn\\metrics\\_classification.py:1248: UndefinedMetricWarning: Precision and F-score are ill-defined and being set to 0.0 in labels with no predicted samples. Use `zero_division` parameter to control this behavior.\n",
      "  _warn_prf(average, modifier, msg_start, len(result))\n"
     ]
    },
    {
     "output_type": "error",
     "ename": "IndexError",
     "evalue": "index 6 is out of bounds for axis 0 with size 6",
     "traceback": [
      "\u001b[1;31m---------------------------------------------------------------------------\u001b[0m",
      "\u001b[1;31mIndexError\u001b[0m                                Traceback (most recent call last)",
      "\u001b[1;32m<ipython-input-863-d6e6e26ae2f4>\u001b[0m in \u001b[0;36m<module>\u001b[1;34m\u001b[0m\n\u001b[0;32m      1\u001b[0m \u001b[1;32mfor\u001b[0m \u001b[0mi\u001b[0m \u001b[1;32min\u001b[0m \u001b[0mrange\u001b[0m\u001b[1;33m(\u001b[0m\u001b[1;36m7\u001b[0m\u001b[1;33m)\u001b[0m\u001b[1;33m:\u001b[0m\u001b[1;33m\u001b[0m\u001b[1;33m\u001b[0m\u001b[0m\n\u001b[1;32m----> 2\u001b[1;33m     \u001b[0mprint\u001b[0m\u001b[1;33m(\u001b[0m\u001b[0my_test\u001b[0m\u001b[1;33m.\u001b[0m\u001b[0mcolumns\u001b[0m\u001b[1;33m[\u001b[0m\u001b[0mi\u001b[0m\u001b[1;33m]\u001b[0m\u001b[1;33m)\u001b[0m\u001b[1;33m\u001b[0m\u001b[1;33m\u001b[0m\u001b[0m\n\u001b[0m\u001b[0;32m      3\u001b[0m     \u001b[0mprint\u001b[0m\u001b[1;33m(\u001b[0m\u001b[0mclassification_report\u001b[0m\u001b[1;33m(\u001b[0m\u001b[0my_test\u001b[0m\u001b[1;33m.\u001b[0m\u001b[0miloc\u001b[0m\u001b[1;33m[\u001b[0m\u001b[1;33m:\u001b[0m\u001b[1;33m,\u001b[0m\u001b[0mi\u001b[0m\u001b[1;33m]\u001b[0m\u001b[1;33m,\u001b[0m\u001b[0mdf\u001b[0m\u001b[1;33m.\u001b[0m\u001b[0miloc\u001b[0m\u001b[1;33m[\u001b[0m\u001b[1;33m:\u001b[0m\u001b[1;33m,\u001b[0m\u001b[0mi\u001b[0m\u001b[1;33m]\u001b[0m\u001b[1;33m)\u001b[0m\u001b[1;33m)\u001b[0m\u001b[1;33m\u001b[0m\u001b[1;33m\u001b[0m\u001b[0m\n\u001b[0;32m      4\u001b[0m     \u001b[0mprint\u001b[0m\u001b[1;33m(\u001b[0m\u001b[1;34m' '\u001b[0m\u001b[1;33m)\u001b[0m\u001b[1;33m\u001b[0m\u001b[1;33m\u001b[0m\u001b[0m\n",
      "\u001b[1;32m~\\AppData\\Local\\Programs\\Python\\Python39\\lib\\site-packages\\pandas\\core\\indexes\\base.py\u001b[0m in \u001b[0;36m__getitem__\u001b[1;34m(self, key)\u001b[0m\n\u001b[0;32m   4295\u001b[0m         \u001b[1;32mif\u001b[0m \u001b[0mis_scalar\u001b[0m\u001b[1;33m(\u001b[0m\u001b[0mkey\u001b[0m\u001b[1;33m)\u001b[0m\u001b[1;33m:\u001b[0m\u001b[1;33m\u001b[0m\u001b[1;33m\u001b[0m\u001b[0m\n\u001b[0;32m   4296\u001b[0m             \u001b[0mkey\u001b[0m \u001b[1;33m=\u001b[0m \u001b[0mcom\u001b[0m\u001b[1;33m.\u001b[0m\u001b[0mcast_scalar_indexer\u001b[0m\u001b[1;33m(\u001b[0m\u001b[0mkey\u001b[0m\u001b[1;33m,\u001b[0m \u001b[0mwarn_float\u001b[0m\u001b[1;33m=\u001b[0m\u001b[1;32mTrue\u001b[0m\u001b[1;33m)\u001b[0m\u001b[1;33m\u001b[0m\u001b[1;33m\u001b[0m\u001b[0m\n\u001b[1;32m-> 4297\u001b[1;33m             \u001b[1;32mreturn\u001b[0m \u001b[0mgetitem\u001b[0m\u001b[1;33m(\u001b[0m\u001b[0mkey\u001b[0m\u001b[1;33m)\u001b[0m\u001b[1;33m\u001b[0m\u001b[1;33m\u001b[0m\u001b[0m\n\u001b[0m\u001b[0;32m   4298\u001b[0m \u001b[1;33m\u001b[0m\u001b[0m\n\u001b[0;32m   4299\u001b[0m         \u001b[1;32mif\u001b[0m \u001b[0misinstance\u001b[0m\u001b[1;33m(\u001b[0m\u001b[0mkey\u001b[0m\u001b[1;33m,\u001b[0m \u001b[0mslice\u001b[0m\u001b[1;33m)\u001b[0m\u001b[1;33m:\u001b[0m\u001b[1;33m\u001b[0m\u001b[1;33m\u001b[0m\u001b[0m\n",
      "\u001b[1;31mIndexError\u001b[0m: index 6 is out of bounds for axis 0 with size 6"
     ]
    }
   ],
   "source": [
    "for i in range(7):\n",
    "    print(y_test.columns[i])\n",
    "    print(classification_report(y_test.iloc[:,i],df.iloc[:,i]))\n",
    "    print(' ')"
   ]
  },
  {
   "cell_type": "code",
   "execution_count": null,
   "metadata": {},
   "outputs": [],
   "source": []
  }
 ]
}