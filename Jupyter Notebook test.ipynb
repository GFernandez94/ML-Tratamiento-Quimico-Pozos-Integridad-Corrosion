{
 "metadata": {
  "language_info": {
   "codemirror_mode": {
    "name": "ipython",
    "version": 3
   },
   "file_extension": ".py",
   "mimetype": "text/x-python",
   "name": "python",
   "nbconvert_exporter": "python",
   "pygments_lexer": "ipython3",
   "version": "3.9.4"
  },
  "orig_nbformat": 2,
  "kernelspec": {
   "name": "python394jvsc74a57bd0f0ddf3bf13ebbae7e4997e51a0e26f1385075f78bcaf8066a56efa571a489e41",
   "display_name": "Python 3.9.4 64-bit"
  },
  "metadata": {
   "interpreter": {
    "hash": "f0ddf3bf13ebbae7e4997e51a0e26f1385075f78bcaf8066a56efa571a489e41"
   }
  }
 },
 "nbformat": 4,
 "nbformat_minor": 2,
 "cells": [
  {
   "source": [
    "# Jupyter Notebook Test"
   ],
   "cell_type": "markdown",
   "metadata": {}
  },
  {
   "source": [
    "Importación de los modulos a utilizar en este cuaderno. Tener en cuenta que los paquetes deben estar previamente instalados en el global/virtual environment."
   ],
   "cell_type": "markdown",
   "metadata": {}
  },
  {
   "cell_type": "code",
   "execution_count": 1,
   "metadata": {},
   "outputs": [],
   "source": [
    "import numpy as np \n",
    "import pandas as pd\n",
    "import matplotlib as plot\n",
    "import os"
   ]
  },
  {
   "source": [
    "Lectura del archivo excel que contiene los datos de recomendaciones. \n",
    "\n",
    "##### Se puede presionar \"o\" para ocultar/mostrar output de celda"
   ],
   "cell_type": "markdown",
   "metadata": {}
  },
  {
   "cell_type": "code",
   "execution_count": 4,
   "metadata": {},
   "outputs": [
    {
     "output_type": "execute_result",
     "data": {
      "text/plain": [
       "    Número de protocolo Protocolo AFQ  N Form AFQ  N Form Solicitud  \\\n",
       "0           SUR-0119-20    00188-20LH        86.0               NaN   \n",
       "1           SUR-0583-20    00838-20CR        38.0               NaN   \n",
       "2           SUR-0584-20    00855-20CR        39.0               NaN   \n",
       "3           SUR-0585-20    01287-20CR        85.0               NaN   \n",
       "4           SUR-0587-20    01207-20CR        88.0               NaN   \n",
       "..                  ...           ...         ...               ...   \n",
       "182         SUR-0127-21    00377-21CR       197.0              78.0   \n",
       "183         SUR-0123-21    00376-21CR       196.0              77.0   \n",
       "184         SUR-0128-21    00375-21CR       195.0              81.0   \n",
       "185         SUR-0126-21    00376-21CR       196.0              77.0   \n",
       "186         SUR-0126-21    00376-21CR       196.0              77.0   \n",
       "\n",
       "     N Form BSRp        Responsable         Operadora    Pozo Batería  \\\n",
       "0            NaN  Gabriel Fernández  YPF - Santa Cruz  LC-889   LC-06   \n",
       "1            NaN    Cristian Carlés      YPF - Chubut   E-638    E-15   \n",
       "2            NaN    Cristian Carlés      YPF - Chubut   E-952    E-15   \n",
       "3            NaN    Cristian Carlés      YPF - Chubut  E-1127    E-11   \n",
       "4            NaN    Cristian Carlés      YPF - Chubut   E-438   E-020   \n",
       "..           ...                ...               ...     ...     ...   \n",
       "182          NaN    Cristian Carlés      YPF - Chubut   E-683    E-21   \n",
       "183          NaN    Cristian Carlés      YPF - Chubut   E-887    E-21   \n",
       "184          NaN    Cristian Carlés      YPF - Chubut   E-925    E-21   \n",
       "185          NaN    Cristian Carlés      YPF - Chubut   E-887    E-21   \n",
       "186          NaN    Cristian Carlés      YPF - Chubut   E-887    E-21   \n",
       "\n",
       "    Yacimiento  ... Costo [U$S/mes] TQ Propuesto 2 PQ Propuesto 3  \\\n",
       "0     Loma Cuy  ...                        452.925            NaN   \n",
       "1    El Trébol  ...                            NaN              0   \n",
       "2    El Trébol  ...                            670              0   \n",
       "3    El Trébol  ...                            NaN              0   \n",
       "4    El Trébol  ...                              0              0   \n",
       "..         ...  ...                            ...            ...   \n",
       "182  El Trébol  ...                     356.483333              0   \n",
       "183  El Trébol  ...                            NaN              0   \n",
       "184  El Trébol  ...                     356.483333              0   \n",
       "185  El Trébol  ...                            NaN              0   \n",
       "186  El Trébol  ...                            NaN              0   \n",
       "\n",
       "    Modalidad PQ Propuesto 3  Punto Inyección PQ Propuesto 3  \\\n",
       "0                        NaN                             NaN   \n",
       "1                          0                               0   \n",
       "2                          0                               0   \n",
       "3                          0                               0   \n",
       "4                          0                               0   \n",
       "..                       ...                             ...   \n",
       "182                        0                               0   \n",
       "183                        0                               0   \n",
       "184                        0                               0   \n",
       "185                        0                               0   \n",
       "186                        0                               0   \n",
       "\n",
       "     Tasa Inyección (l/d)  PQ Propuesto 3   Volumen Batch PQ Propuesto 3 (l)  \\\n",
       "0                                      NaN                               NaN   \n",
       "1                                      0.0                               0.0   \n",
       "2                                      0.0                               0.0   \n",
       "3                                      0.0                               0.0   \n",
       "4                                      0.0                               0.0   \n",
       "..                                     ...                               ...   \n",
       "182                                    0.0                               0.0   \n",
       "183                                    0.0                               0.0   \n",
       "184                                    0.0                               0.0   \n",
       "185                                    0.0                               0.0   \n",
       "186                                    0.0                               0.0   \n",
       "\n",
       "    Frecuencia batcheo PQ Propuesto 3 Concentración [ppmV] PQ Propuesto 3  \\\n",
       "0                                 NaN                                 NaN   \n",
       "1                                   0                                 NaN   \n",
       "2                                   0                                 NaN   \n",
       "3                                   0                                 NaN   \n",
       "4                                 NaN                                 NaN   \n",
       "..                                ...                                 ...   \n",
       "182                                 0                                 NaN   \n",
       "183                                 0                                 NaN   \n",
       "184                                 0                                 NaN   \n",
       "185                                 0                                 NaN   \n",
       "186                                 0                                 NaN   \n",
       "\n",
       "     Precio del PQ [U$S/l] Propuesto 3  Costo [U$S/mes] TQ Propuesto 3  \n",
       "0                                  NaN                             NaN  \n",
       "1                                  NaN                             NaN  \n",
       "2                                  NaN                             NaN  \n",
       "3                                  NaN                             NaN  \n",
       "4                                  NaN                             NaN  \n",
       "..                                 ...                             ...  \n",
       "182                                NaN                             NaN  \n",
       "183                                NaN                             NaN  \n",
       "184                                NaN                             NaN  \n",
       "185                                NaN                             NaN  \n",
       "186                                NaN                             NaN  \n",
       "\n",
       "[187 rows x 71 columns]"
      ],
      "text/html": "<div>\n<style scoped>\n    .dataframe tbody tr th:only-of-type {\n        vertical-align: middle;\n    }\n\n    .dataframe tbody tr th {\n        vertical-align: top;\n    }\n\n    .dataframe thead th {\n        text-align: right;\n    }\n</style>\n<table border=\"1\" class=\"dataframe\">\n  <thead>\n    <tr style=\"text-align: right;\">\n      <th></th>\n      <th>Número de protocolo</th>\n      <th>Protocolo AFQ</th>\n      <th>N Form AFQ</th>\n      <th>N Form Solicitud</th>\n      <th>N Form BSRp</th>\n      <th>Responsable</th>\n      <th>Operadora</th>\n      <th>Pozo</th>\n      <th>Batería</th>\n      <th>Yacimiento</th>\n      <th>...</th>\n      <th>Costo [U$S/mes] TQ Propuesto 2</th>\n      <th>PQ Propuesto 3</th>\n      <th>Modalidad PQ Propuesto 3</th>\n      <th>Punto Inyección PQ Propuesto 3</th>\n      <th>Tasa Inyección (l/d)  PQ Propuesto 3</th>\n      <th>Volumen Batch PQ Propuesto 3 (l)</th>\n      <th>Frecuencia batcheo PQ Propuesto 3</th>\n      <th>Concentración [ppmV] PQ Propuesto 3</th>\n      <th>Precio del PQ [U$S/l] Propuesto 3</th>\n      <th>Costo [U$S/mes] TQ Propuesto 3</th>\n    </tr>\n  </thead>\n  <tbody>\n    <tr>\n      <th>0</th>\n      <td>SUR-0119-20</td>\n      <td>00188-20LH</td>\n      <td>86.0</td>\n      <td>NaN</td>\n      <td>NaN</td>\n      <td>Gabriel Fernández</td>\n      <td>YPF - Santa Cruz</td>\n      <td>LC-889</td>\n      <td>LC-06</td>\n      <td>Loma Cuy</td>\n      <td>...</td>\n      <td>452.925</td>\n      <td>NaN</td>\n      <td>NaN</td>\n      <td>NaN</td>\n      <td>NaN</td>\n      <td>NaN</td>\n      <td>NaN</td>\n      <td>NaN</td>\n      <td>NaN</td>\n      <td>NaN</td>\n    </tr>\n    <tr>\n      <th>1</th>\n      <td>SUR-0583-20</td>\n      <td>00838-20CR</td>\n      <td>38.0</td>\n      <td>NaN</td>\n      <td>NaN</td>\n      <td>Cristian Carlés</td>\n      <td>YPF - Chubut</td>\n      <td>E-638</td>\n      <td>E-15</td>\n      <td>El Trébol</td>\n      <td>...</td>\n      <td>NaN</td>\n      <td>0</td>\n      <td>0</td>\n      <td>0</td>\n      <td>0.0</td>\n      <td>0.0</td>\n      <td>0</td>\n      <td>NaN</td>\n      <td>NaN</td>\n      <td>NaN</td>\n    </tr>\n    <tr>\n      <th>2</th>\n      <td>SUR-0584-20</td>\n      <td>00855-20CR</td>\n      <td>39.0</td>\n      <td>NaN</td>\n      <td>NaN</td>\n      <td>Cristian Carlés</td>\n      <td>YPF - Chubut</td>\n      <td>E-952</td>\n      <td>E-15</td>\n      <td>El Trébol</td>\n      <td>...</td>\n      <td>670</td>\n      <td>0</td>\n      <td>0</td>\n      <td>0</td>\n      <td>0.0</td>\n      <td>0.0</td>\n      <td>0</td>\n      <td>NaN</td>\n      <td>NaN</td>\n      <td>NaN</td>\n    </tr>\n    <tr>\n      <th>3</th>\n      <td>SUR-0585-20</td>\n      <td>01287-20CR</td>\n      <td>85.0</td>\n      <td>NaN</td>\n      <td>NaN</td>\n      <td>Cristian Carlés</td>\n      <td>YPF - Chubut</td>\n      <td>E-1127</td>\n      <td>E-11</td>\n      <td>El Trébol</td>\n      <td>...</td>\n      <td>NaN</td>\n      <td>0</td>\n      <td>0</td>\n      <td>0</td>\n      <td>0.0</td>\n      <td>0.0</td>\n      <td>0</td>\n      <td>NaN</td>\n      <td>NaN</td>\n      <td>NaN</td>\n    </tr>\n    <tr>\n      <th>4</th>\n      <td>SUR-0587-20</td>\n      <td>01207-20CR</td>\n      <td>88.0</td>\n      <td>NaN</td>\n      <td>NaN</td>\n      <td>Cristian Carlés</td>\n      <td>YPF - Chubut</td>\n      <td>E-438</td>\n      <td>E-020</td>\n      <td>El Trébol</td>\n      <td>...</td>\n      <td>0</td>\n      <td>0</td>\n      <td>0</td>\n      <td>0</td>\n      <td>0.0</td>\n      <td>0.0</td>\n      <td>NaN</td>\n      <td>NaN</td>\n      <td>NaN</td>\n      <td>NaN</td>\n    </tr>\n    <tr>\n      <th>...</th>\n      <td>...</td>\n      <td>...</td>\n      <td>...</td>\n      <td>...</td>\n      <td>...</td>\n      <td>...</td>\n      <td>...</td>\n      <td>...</td>\n      <td>...</td>\n      <td>...</td>\n      <td>...</td>\n      <td>...</td>\n      <td>...</td>\n      <td>...</td>\n      <td>...</td>\n      <td>...</td>\n      <td>...</td>\n      <td>...</td>\n      <td>...</td>\n      <td>...</td>\n      <td>...</td>\n    </tr>\n    <tr>\n      <th>182</th>\n      <td>SUR-0127-21</td>\n      <td>00377-21CR</td>\n      <td>197.0</td>\n      <td>78.0</td>\n      <td>NaN</td>\n      <td>Cristian Carlés</td>\n      <td>YPF - Chubut</td>\n      <td>E-683</td>\n      <td>E-21</td>\n      <td>El Trébol</td>\n      <td>...</td>\n      <td>356.483333</td>\n      <td>0</td>\n      <td>0</td>\n      <td>0</td>\n      <td>0.0</td>\n      <td>0.0</td>\n      <td>0</td>\n      <td>NaN</td>\n      <td>NaN</td>\n      <td>NaN</td>\n    </tr>\n    <tr>\n      <th>183</th>\n      <td>SUR-0123-21</td>\n      <td>00376-21CR</td>\n      <td>196.0</td>\n      <td>77.0</td>\n      <td>NaN</td>\n      <td>Cristian Carlés</td>\n      <td>YPF - Chubut</td>\n      <td>E-887</td>\n      <td>E-21</td>\n      <td>El Trébol</td>\n      <td>...</td>\n      <td>NaN</td>\n      <td>0</td>\n      <td>0</td>\n      <td>0</td>\n      <td>0.0</td>\n      <td>0.0</td>\n      <td>0</td>\n      <td>NaN</td>\n      <td>NaN</td>\n      <td>NaN</td>\n    </tr>\n    <tr>\n      <th>184</th>\n      <td>SUR-0128-21</td>\n      <td>00375-21CR</td>\n      <td>195.0</td>\n      <td>81.0</td>\n      <td>NaN</td>\n      <td>Cristian Carlés</td>\n      <td>YPF - Chubut</td>\n      <td>E-925</td>\n      <td>E-21</td>\n      <td>El Trébol</td>\n      <td>...</td>\n      <td>356.483333</td>\n      <td>0</td>\n      <td>0</td>\n      <td>0</td>\n      <td>0.0</td>\n      <td>0.0</td>\n      <td>0</td>\n      <td>NaN</td>\n      <td>NaN</td>\n      <td>NaN</td>\n    </tr>\n    <tr>\n      <th>185</th>\n      <td>SUR-0126-21</td>\n      <td>00376-21CR</td>\n      <td>196.0</td>\n      <td>77.0</td>\n      <td>NaN</td>\n      <td>Cristian Carlés</td>\n      <td>YPF - Chubut</td>\n      <td>E-887</td>\n      <td>E-21</td>\n      <td>El Trébol</td>\n      <td>...</td>\n      <td>NaN</td>\n      <td>0</td>\n      <td>0</td>\n      <td>0</td>\n      <td>0.0</td>\n      <td>0.0</td>\n      <td>0</td>\n      <td>NaN</td>\n      <td>NaN</td>\n      <td>NaN</td>\n    </tr>\n    <tr>\n      <th>186</th>\n      <td>SUR-0126-21</td>\n      <td>00376-21CR</td>\n      <td>196.0</td>\n      <td>77.0</td>\n      <td>NaN</td>\n      <td>Cristian Carlés</td>\n      <td>YPF - Chubut</td>\n      <td>E-887</td>\n      <td>E-21</td>\n      <td>El Trébol</td>\n      <td>...</td>\n      <td>NaN</td>\n      <td>0</td>\n      <td>0</td>\n      <td>0</td>\n      <td>0.0</td>\n      <td>0.0</td>\n      <td>0</td>\n      <td>NaN</td>\n      <td>NaN</td>\n      <td>NaN</td>\n    </tr>\n  </tbody>\n</table>\n<p>187 rows × 71 columns</p>\n</div>"
     },
     "metadata": {},
     "execution_count": 4
    }
   ],
   "source": [
    "df=pd.read_excel(os.path.join('Data', 'Base de datos Recomendaciones.xlsx'), sheet_name='Pozos I&C')\n",
    "df "
   ]
  },
  {
   "source": [
    "Filtrado de la base de datos para ver sólo los datos a utilizar"
   ],
   "cell_type": "markdown",
   "metadata": {}
  },
  {
   "cell_type": "code",
   "execution_count": 5,
   "metadata": {},
   "outputs": [
    {
     "output_type": "execute_result",
     "data": {
      "text/plain": [
       "    Número de protocolo Protocolo AFQ  N Form AFQ  N Form Solicitud  \\\n",
       "1           SUR-0583-20    00838-20CR        38.0               NaN   \n",
       "2           SUR-0584-20    00855-20CR        39.0               NaN   \n",
       "3           SUR-0585-20    01287-20CR        85.0               NaN   \n",
       "4           SUR-0587-20    01207-20CR        88.0               NaN   \n",
       "8           SUR-0633-20    01105-19CR        91.0              21.0   \n",
       "..                  ...           ...         ...               ...   \n",
       "182         SUR-0127-21    00377-21CR       197.0              78.0   \n",
       "183         SUR-0123-21    00376-21CR       196.0              77.0   \n",
       "184         SUR-0128-21    00375-21CR       195.0              81.0   \n",
       "185         SUR-0126-21    00376-21CR       196.0              77.0   \n",
       "186         SUR-0126-21    00376-21CR       196.0              77.0   \n",
       "\n",
       "     N Form BSRp      Responsable     Operadora       Pozo Batería Yacimiento  \\\n",
       "1            NaN  Cristian Carlés  YPF - Chubut      E-638    E-15  El Trébol   \n",
       "2            NaN  Cristian Carlés  YPF - Chubut      E-952    E-15  El Trébol   \n",
       "3            NaN  Cristian Carlés  YPF - Chubut     E-1127    E-11  El Trébol   \n",
       "4            NaN  Cristian Carlés  YPF - Chubut      E-438   E-020  El Trébol   \n",
       "8            NaN  Cristian Carlés  YPF - Chubut  G-558[00]   G-013  Escalante   \n",
       "..           ...              ...           ...        ...     ...        ...   \n",
       "182          NaN  Cristian Carlés  YPF - Chubut      E-683    E-21  El Trébol   \n",
       "183          NaN  Cristian Carlés  YPF - Chubut      E-887    E-21  El Trébol   \n",
       "184          NaN  Cristian Carlés  YPF - Chubut      E-925    E-21  El Trébol   \n",
       "185          NaN  Cristian Carlés  YPF - Chubut      E-887    E-21  El Trébol   \n",
       "186          NaN  Cristian Carlés  YPF - Chubut      E-887    E-21  El Trébol   \n",
       "\n",
       "     ... Costo [U$S/mes] TQ Propuesto 2 PQ Propuesto 3  \\\n",
       "1    ...                            NaN              0   \n",
       "2    ...                            670              0   \n",
       "3    ...                            NaN              0   \n",
       "4    ...                              0              0   \n",
       "8    ...                            686              0   \n",
       "..   ...                            ...            ...   \n",
       "182  ...                     356.483333              0   \n",
       "183  ...                            NaN              0   \n",
       "184  ...                     356.483333              0   \n",
       "185  ...                            NaN              0   \n",
       "186  ...                            NaN              0   \n",
       "\n",
       "    Modalidad PQ Propuesto 3  Punto Inyección PQ Propuesto 3  \\\n",
       "1                          0                               0   \n",
       "2                          0                               0   \n",
       "3                          0                               0   \n",
       "4                          0                               0   \n",
       "8                          0                               0   \n",
       "..                       ...                             ...   \n",
       "182                        0                               0   \n",
       "183                        0                               0   \n",
       "184                        0                               0   \n",
       "185                        0                               0   \n",
       "186                        0                               0   \n",
       "\n",
       "     Tasa Inyección (l/d)  PQ Propuesto 3   Volumen Batch PQ Propuesto 3 (l)  \\\n",
       "1                                      0.0                               0.0   \n",
       "2                                      0.0                               0.0   \n",
       "3                                      0.0                               0.0   \n",
       "4                                      0.0                               0.0   \n",
       "8                                      0.0                               0.0   \n",
       "..                                     ...                               ...   \n",
       "182                                    0.0                               0.0   \n",
       "183                                    0.0                               0.0   \n",
       "184                                    0.0                               0.0   \n",
       "185                                    0.0                               0.0   \n",
       "186                                    0.0                               0.0   \n",
       "\n",
       "    Frecuencia batcheo PQ Propuesto 3 Concentración [ppmV] PQ Propuesto 3  \\\n",
       "1                                   0                                 NaN   \n",
       "2                                   0                                 NaN   \n",
       "3                                   0                                 NaN   \n",
       "4                                 NaN                                 NaN   \n",
       "8                                   0                                 NaN   \n",
       "..                                ...                                 ...   \n",
       "182                                 0                                 NaN   \n",
       "183                                 0                                 NaN   \n",
       "184                                 0                                 NaN   \n",
       "185                                 0                                 NaN   \n",
       "186                                 0                                 NaN   \n",
       "\n",
       "     Precio del PQ [U$S/l] Propuesto 3  Costo [U$S/mes] TQ Propuesto 3  \n",
       "1                                  NaN                             NaN  \n",
       "2                                  NaN                             NaN  \n",
       "3                                  NaN                             NaN  \n",
       "4                                  NaN                             NaN  \n",
       "8                                  NaN                             NaN  \n",
       "..                                 ...                             ...  \n",
       "182                                NaN                             NaN  \n",
       "183                                NaN                             NaN  \n",
       "184                                NaN                             NaN  \n",
       "185                                NaN                             NaN  \n",
       "186                                NaN                             NaN  \n",
       "\n",
       "[178 rows x 71 columns]"
      ],
      "text/html": "<div>\n<style scoped>\n    .dataframe tbody tr th:only-of-type {\n        vertical-align: middle;\n    }\n\n    .dataframe tbody tr th {\n        vertical-align: top;\n    }\n\n    .dataframe thead th {\n        text-align: right;\n    }\n</style>\n<table border=\"1\" class=\"dataframe\">\n  <thead>\n    <tr style=\"text-align: right;\">\n      <th></th>\n      <th>Número de protocolo</th>\n      <th>Protocolo AFQ</th>\n      <th>N Form AFQ</th>\n      <th>N Form Solicitud</th>\n      <th>N Form BSRp</th>\n      <th>Responsable</th>\n      <th>Operadora</th>\n      <th>Pozo</th>\n      <th>Batería</th>\n      <th>Yacimiento</th>\n      <th>...</th>\n      <th>Costo [U$S/mes] TQ Propuesto 2</th>\n      <th>PQ Propuesto 3</th>\n      <th>Modalidad PQ Propuesto 3</th>\n      <th>Punto Inyección PQ Propuesto 3</th>\n      <th>Tasa Inyección (l/d)  PQ Propuesto 3</th>\n      <th>Volumen Batch PQ Propuesto 3 (l)</th>\n      <th>Frecuencia batcheo PQ Propuesto 3</th>\n      <th>Concentración [ppmV] PQ Propuesto 3</th>\n      <th>Precio del PQ [U$S/l] Propuesto 3</th>\n      <th>Costo [U$S/mes] TQ Propuesto 3</th>\n    </tr>\n  </thead>\n  <tbody>\n    <tr>\n      <th>1</th>\n      <td>SUR-0583-20</td>\n      <td>00838-20CR</td>\n      <td>38.0</td>\n      <td>NaN</td>\n      <td>NaN</td>\n      <td>Cristian Carlés</td>\n      <td>YPF - Chubut</td>\n      <td>E-638</td>\n      <td>E-15</td>\n      <td>El Trébol</td>\n      <td>...</td>\n      <td>NaN</td>\n      <td>0</td>\n      <td>0</td>\n      <td>0</td>\n      <td>0.0</td>\n      <td>0.0</td>\n      <td>0</td>\n      <td>NaN</td>\n      <td>NaN</td>\n      <td>NaN</td>\n    </tr>\n    <tr>\n      <th>2</th>\n      <td>SUR-0584-20</td>\n      <td>00855-20CR</td>\n      <td>39.0</td>\n      <td>NaN</td>\n      <td>NaN</td>\n      <td>Cristian Carlés</td>\n      <td>YPF - Chubut</td>\n      <td>E-952</td>\n      <td>E-15</td>\n      <td>El Trébol</td>\n      <td>...</td>\n      <td>670</td>\n      <td>0</td>\n      <td>0</td>\n      <td>0</td>\n      <td>0.0</td>\n      <td>0.0</td>\n      <td>0</td>\n      <td>NaN</td>\n      <td>NaN</td>\n      <td>NaN</td>\n    </tr>\n    <tr>\n      <th>3</th>\n      <td>SUR-0585-20</td>\n      <td>01287-20CR</td>\n      <td>85.0</td>\n      <td>NaN</td>\n      <td>NaN</td>\n      <td>Cristian Carlés</td>\n      <td>YPF - Chubut</td>\n      <td>E-1127</td>\n      <td>E-11</td>\n      <td>El Trébol</td>\n      <td>...</td>\n      <td>NaN</td>\n      <td>0</td>\n      <td>0</td>\n      <td>0</td>\n      <td>0.0</td>\n      <td>0.0</td>\n      <td>0</td>\n      <td>NaN</td>\n      <td>NaN</td>\n      <td>NaN</td>\n    </tr>\n    <tr>\n      <th>4</th>\n      <td>SUR-0587-20</td>\n      <td>01207-20CR</td>\n      <td>88.0</td>\n      <td>NaN</td>\n      <td>NaN</td>\n      <td>Cristian Carlés</td>\n      <td>YPF - Chubut</td>\n      <td>E-438</td>\n      <td>E-020</td>\n      <td>El Trébol</td>\n      <td>...</td>\n      <td>0</td>\n      <td>0</td>\n      <td>0</td>\n      <td>0</td>\n      <td>0.0</td>\n      <td>0.0</td>\n      <td>NaN</td>\n      <td>NaN</td>\n      <td>NaN</td>\n      <td>NaN</td>\n    </tr>\n    <tr>\n      <th>8</th>\n      <td>SUR-0633-20</td>\n      <td>01105-19CR</td>\n      <td>91.0</td>\n      <td>21.0</td>\n      <td>NaN</td>\n      <td>Cristian Carlés</td>\n      <td>YPF - Chubut</td>\n      <td>G-558[00]</td>\n      <td>G-013</td>\n      <td>Escalante</td>\n      <td>...</td>\n      <td>686</td>\n      <td>0</td>\n      <td>0</td>\n      <td>0</td>\n      <td>0.0</td>\n      <td>0.0</td>\n      <td>0</td>\n      <td>NaN</td>\n      <td>NaN</td>\n      <td>NaN</td>\n    </tr>\n    <tr>\n      <th>...</th>\n      <td>...</td>\n      <td>...</td>\n      <td>...</td>\n      <td>...</td>\n      <td>...</td>\n      <td>...</td>\n      <td>...</td>\n      <td>...</td>\n      <td>...</td>\n      <td>...</td>\n      <td>...</td>\n      <td>...</td>\n      <td>...</td>\n      <td>...</td>\n      <td>...</td>\n      <td>...</td>\n      <td>...</td>\n      <td>...</td>\n      <td>...</td>\n      <td>...</td>\n      <td>...</td>\n    </tr>\n    <tr>\n      <th>182</th>\n      <td>SUR-0127-21</td>\n      <td>00377-21CR</td>\n      <td>197.0</td>\n      <td>78.0</td>\n      <td>NaN</td>\n      <td>Cristian Carlés</td>\n      <td>YPF - Chubut</td>\n      <td>E-683</td>\n      <td>E-21</td>\n      <td>El Trébol</td>\n      <td>...</td>\n      <td>356.483333</td>\n      <td>0</td>\n      <td>0</td>\n      <td>0</td>\n      <td>0.0</td>\n      <td>0.0</td>\n      <td>0</td>\n      <td>NaN</td>\n      <td>NaN</td>\n      <td>NaN</td>\n    </tr>\n    <tr>\n      <th>183</th>\n      <td>SUR-0123-21</td>\n      <td>00376-21CR</td>\n      <td>196.0</td>\n      <td>77.0</td>\n      <td>NaN</td>\n      <td>Cristian Carlés</td>\n      <td>YPF - Chubut</td>\n      <td>E-887</td>\n      <td>E-21</td>\n      <td>El Trébol</td>\n      <td>...</td>\n      <td>NaN</td>\n      <td>0</td>\n      <td>0</td>\n      <td>0</td>\n      <td>0.0</td>\n      <td>0.0</td>\n      <td>0</td>\n      <td>NaN</td>\n      <td>NaN</td>\n      <td>NaN</td>\n    </tr>\n    <tr>\n      <th>184</th>\n      <td>SUR-0128-21</td>\n      <td>00375-21CR</td>\n      <td>195.0</td>\n      <td>81.0</td>\n      <td>NaN</td>\n      <td>Cristian Carlés</td>\n      <td>YPF - Chubut</td>\n      <td>E-925</td>\n      <td>E-21</td>\n      <td>El Trébol</td>\n      <td>...</td>\n      <td>356.483333</td>\n      <td>0</td>\n      <td>0</td>\n      <td>0</td>\n      <td>0.0</td>\n      <td>0.0</td>\n      <td>0</td>\n      <td>NaN</td>\n      <td>NaN</td>\n      <td>NaN</td>\n    </tr>\n    <tr>\n      <th>185</th>\n      <td>SUR-0126-21</td>\n      <td>00376-21CR</td>\n      <td>196.0</td>\n      <td>77.0</td>\n      <td>NaN</td>\n      <td>Cristian Carlés</td>\n      <td>YPF - Chubut</td>\n      <td>E-887</td>\n      <td>E-21</td>\n      <td>El Trébol</td>\n      <td>...</td>\n      <td>NaN</td>\n      <td>0</td>\n      <td>0</td>\n      <td>0</td>\n      <td>0.0</td>\n      <td>0.0</td>\n      <td>0</td>\n      <td>NaN</td>\n      <td>NaN</td>\n      <td>NaN</td>\n    </tr>\n    <tr>\n      <th>186</th>\n      <td>SUR-0126-21</td>\n      <td>00376-21CR</td>\n      <td>196.0</td>\n      <td>77.0</td>\n      <td>NaN</td>\n      <td>Cristian Carlés</td>\n      <td>YPF - Chubut</td>\n      <td>E-887</td>\n      <td>E-21</td>\n      <td>El Trébol</td>\n      <td>...</td>\n      <td>NaN</td>\n      <td>0</td>\n      <td>0</td>\n      <td>0</td>\n      <td>0.0</td>\n      <td>0.0</td>\n      <td>0</td>\n      <td>NaN</td>\n      <td>NaN</td>\n      <td>NaN</td>\n    </tr>\n  </tbody>\n</table>\n<p>178 rows × 71 columns</p>\n</div>"
     },
     "metadata": {},
     "execution_count": 5
    }
   ],
   "source": [
    "filtrado= df.loc[df[\"Operadora\"]==\"YPF - Chubut\"]\n",
    "filtrado"
   ]
  },
  {
   "cell_type": "code",
   "execution_count": null,
   "metadata": {},
   "outputs": [],
   "source": []
  }
 ]
}